{
  "cells": [
    {
      "cell_type": "markdown",
      "metadata": {
        "id": "view-in-github",
        "colab_type": "text"
      },
      "source": [
        "<a href=\"https://colab.research.google.com/github/codedreamerD/rec_system_mlt2/blob/main/rec_system_mlt2.ipynb\" target=\"_parent\"><img src=\"https://colab.research.google.com/assets/colab-badge.svg\" alt=\"Open In Colab\"/></a>"
      ]
    },
    {
      "metadata": {
        "id": "8a77807f92f26ee"
      },
      "cell_type": "markdown",
      "source": [
        "# Laporan Proyek Machine Learning - Fadhilah Nurrahmayanti"
      ],
      "id": "8a77807f92f26ee"
    },
    {
      "cell_type": "markdown",
      "source": [
        "## Project Overview\n",
        "\n",
        "Rekomendasi buku merupakan salah satu aplikasi paling praktis dalam bidang pengambilan informasi dan e-commerce. Dengan melimpahnya jumlah buku yang tersedia secara online, pengguna seringkali mengalami kesulitan dalam menemukan buku yang sesuai dengan minat dan preferensi mereka. Sistem rekomendasi hadir untuk membantu pengguna dalam menemukan konten yang relevan dan dipersonalisasi berdasarkan perilaku dan kesukaan mereka.\n",
        "\n",
        "### Tujuan Proyek\n",
        "\n",
        "Proyek ini bertujuan untuk membangun **sistem rekomendasi buku berbasis machine learning** dengan menggabungkan dua pendekatan utama:\n",
        "- **Content-Based Filtering (CBF)**: Menganalisis fitur konten buku (misalnya sinopsis atau metadata) dan menyarankan buku yang mirip dengan yang disukai pengguna sebelumnya.\n",
        "- **Collaborative Filtering (CF)**: Mengandalkan pola interaksi pengguna terhadap buku, seperti rating, untuk menyarankan buku yang disukai oleh pengguna lain dengan preferensi serupa.\n",
        "\n",
        "### Dataset\n",
        "\n",
        "Model dilatih menggunakan [Book Recommendation Dataset](https://www.kaggle.com/datasets/arashnic/book-recommendation-dataset) dari Kaggle, yang terdiri atas tiga bagian data utama:\n",
        "- Informasi buku (judul, penulis, sinopsis)\n",
        "- Data pengguna\n",
        "- Data rating antara pengguna dan buku\n",
        "\n",
        "### Pentingnya Sistem Rekomendasi\n",
        "\n",
        "Sistem rekomendasi terbukti meningkatkan keterlibatan pengguna dan kepuasan dalam berbagai platform digital seperti Amazon, Goodreads, hingga Netflix. Dengan memberikan rekomendasi yang relevan, sistem ini tidak hanya mempercepat proses pencarian informasi, tetapi juga meningkatkan kemungkinan pembelian atau konsumsi konten oleh pengguna.\n",
        "\n",
        "### Insight dari Literatur\n",
        "\n",
        "Beberapa literatur ilmiah mendukung pentingnya dan efektivitas sistem rekomendasi:\n",
        "\n",
        "- [When E-Commerce Personalization Systems Show and Tell: Investigating the Relative Persuasive Appeal of Content-Based versus Collaborative Filtering](https://doi.org/10.1080/00913367.2021.1887013)\n",
        "\n",
        "  Penelitian ini menyatakan bahwa sistem rekomendasi berbasis Content-Based Filtering maupun Collaborative Filtering sama-sama memiliki daya tarik persuasif yang kuat dalam meningkatkan engagement pengguna.\n",
        "\n",
        "- [Improving Recommender Systems using Hybrid Techniques of Collaborative Filtering and Content-Based Filtering](https://doi.org/10.47738/jads.v4i3.115)\n",
        "  Studi ini menyebutkan bahwa meskipun pendekatan hybrid menawarkan hasil terbaik, penggunaan CBF dan CF secara terpisah pun sudah mampu menghasilkan sistem rekomendasi yang cukup komprehensif.\n",
        "\n",
        "- [A Brief Analysis of Collaborative and Content-Based Filtering Algorithms (IOP Conference, 2020)](https://doi.org/10.1088/1757-899X/981/2/022008)  \n",
        "  Penelitian ini menyoroti kekuatan dan kelemahan dari masing-masing pendekatan:\n",
        "  - **Collaborative Filtering** sangat efektif dalam menghasilkan rekomendasi yang dipersonalisasi, namun menghadapi tantangan seperti cold start dan data sparsity.\n",
        "  - **Content-Based Filtering** cocok untuk kasus cold start dan tidak tergantung pada data pengguna lain, tetapi cenderung memberikan rekomendasi yang kurang bervariasi karena hanya berdasarkan preferensi sebelumnya.\n",
        "\n",
        "### Kesimpulan\n",
        "\n",
        "Melalui proyek ini, sistem rekomendasi buku dibangun dengan memanfaatkan keunggulan dua pendekatan klasik—CBF dan CF—untuk menyajikan hasil rekomendasi yang lebih personal dan akurat. Sistem ini diharapkan dapat menjadi solusi efektif dalam membantu pengguna menjelajahi dan menemukan buku yang sesuai di tengah derasnya arus informasi digital."
      ],
      "metadata": {
        "id": "z_n-7L8ieswp"
      },
      "id": "z_n-7L8ieswp"
    },
    {
      "cell_type": "markdown",
      "source": [
        "## Business Understanding"
      ],
      "metadata": {
        "id": "uzgO5poJkwyc"
      },
      "id": "uzgO5poJkwyc"
    },
    {
      "cell_type": "markdown",
      "source": [
        "### Problem Statements\n",
        "\n",
        "* Bagaimana cara membantu pengguna menemukan buku yang sesuai dengan minat mereka?\n",
        "* Bagaimana cara memberikan rekomendasi buku meskipun pengguna belum memberikan banyak rating?"
      ],
      "metadata": {
        "id": "AkN9I3jikyNm"
      },
      "id": "AkN9I3jikyNm"
    },
    {
      "cell_type": "markdown",
      "source": [
        "### Goals\n",
        "\n",
        "* Membangun sistem rekomendasi yang menyarankan buku berdasarkan kemiripan konten (misalnya judul, penulis).\n",
        "* Melatih model yang belajar dari interaksi rating pengguna dan buku untuk memberikan rekomendasi yang dipersonalisasi.\n"
      ],
      "metadata": {
        "id": "FaUG_Jlkkr9E"
      },
      "id": "FaUG_Jlkkr9E"
    },
    {
      "cell_type": "markdown",
      "source": [
        "### Solutions\n",
        "\n",
        "* **Content-Based Filtering**\n",
        "\n",
        "    Menggunakan TF-IDF dan cosine similarity berdasarkan judul dan penulis buku.\n",
        "\n",
        "* **Collaborative Filtering**\n",
        "    \n",
        "    Menggunakan Neural Network (RecommenderNet) dengan embedding untuk user dan item untuk memprediksi rating.\n"
      ],
      "metadata": {
        "id": "EcHyCc1zlE_G"
      },
      "id": "EcHyCc1zlE_G"
    },
    {
      "cell_type": "markdown",
      "source": [
        "## Data Understanding\n",
        "\n",
        "Univariate Exploratory Data Analysis (EDA), dataset diambil dari Kaggle: [Book Recommendation Dataset](https://www.kaggle.com/datasets/arashnic/book-recommendation-dataset)"
      ],
      "metadata": {
        "id": "4bmC_90lljjW"
      },
      "id": "4bmC_90lljjW"
    },
    {
      "metadata": {
        "id": "da8ade8eeb1a95ca"
      },
      "cell_type": "markdown",
      "source": [
        "### Import Library"
      ],
      "id": "da8ade8eeb1a95ca"
    },
    {
      "metadata": {
        "ExecuteTime": {
          "end_time": "2025-04-24T09:11:51.957899Z",
          "start_time": "2025-04-24T09:11:49.989782Z"
        },
        "colab": {
          "base_uri": "https://localhost:8080/"
        },
        "id": "d1f47daef3e3ded5",
        "outputId": "369f9f2f-166a-46e1-8a9d-bd80adb71b4b"
      },
      "cell_type": "code",
      "source": [
        "!pip install kaggle pandas scikit-learn tensorflow matplotlib unzip"
      ],
      "id": "d1f47daef3e3ded5",
      "outputs": [
        {
          "output_type": "stream",
          "name": "stdout",
          "text": [
            "Requirement already satisfied: kaggle in /usr/local/lib/python3.11/dist-packages (1.7.4.5)\n",
            "Requirement already satisfied: pandas in /usr/local/lib/python3.11/dist-packages (2.2.2)\n",
            "Requirement already satisfied: scikit-learn in /usr/local/lib/python3.11/dist-packages (1.6.1)\n",
            "Requirement already satisfied: tensorflow in /usr/local/lib/python3.11/dist-packages (2.18.0)\n",
            "Requirement already satisfied: matplotlib in /usr/local/lib/python3.11/dist-packages (3.10.0)\n",
            "Collecting unzip\n",
            "  Downloading unzip-1.0.0.tar.gz (704 bytes)\n",
            "  Preparing metadata (setup.py) ... \u001b[?25l\u001b[?25hdone\n",
            "Requirement already satisfied: bleach in /usr/local/lib/python3.11/dist-packages (from kaggle) (6.2.0)\n",
            "Requirement already satisfied: certifi>=14.05.14 in /usr/local/lib/python3.11/dist-packages (from kaggle) (2025.4.26)\n",
            "Requirement already satisfied: charset-normalizer in /usr/local/lib/python3.11/dist-packages (from kaggle) (3.4.2)\n",
            "Requirement already satisfied: idna in /usr/local/lib/python3.11/dist-packages (from kaggle) (3.10)\n",
            "Requirement already satisfied: protobuf in /usr/local/lib/python3.11/dist-packages (from kaggle) (5.29.4)\n",
            "Requirement already satisfied: python-dateutil>=2.5.3 in /usr/local/lib/python3.11/dist-packages (from kaggle) (2.9.0.post0)\n",
            "Requirement already satisfied: python-slugify in /usr/local/lib/python3.11/dist-packages (from kaggle) (8.0.4)\n",
            "Requirement already satisfied: requests in /usr/local/lib/python3.11/dist-packages (from kaggle) (2.32.3)\n",
            "Requirement already satisfied: setuptools>=21.0.0 in /usr/local/lib/python3.11/dist-packages (from kaggle) (75.2.0)\n",
            "Requirement already satisfied: six>=1.10 in /usr/local/lib/python3.11/dist-packages (from kaggle) (1.17.0)\n",
            "Requirement already satisfied: text-unidecode in /usr/local/lib/python3.11/dist-packages (from kaggle) (1.3)\n",
            "Requirement already satisfied: tqdm in /usr/local/lib/python3.11/dist-packages (from kaggle) (4.67.1)\n",
            "Requirement already satisfied: urllib3>=1.15.1 in /usr/local/lib/python3.11/dist-packages (from kaggle) (2.4.0)\n",
            "Requirement already satisfied: webencodings in /usr/local/lib/python3.11/dist-packages (from kaggle) (0.5.1)\n",
            "Requirement already satisfied: numpy>=1.23.2 in /usr/local/lib/python3.11/dist-packages (from pandas) (2.0.2)\n",
            "Requirement already satisfied: pytz>=2020.1 in /usr/local/lib/python3.11/dist-packages (from pandas) (2025.2)\n",
            "Requirement already satisfied: tzdata>=2022.7 in /usr/local/lib/python3.11/dist-packages (from pandas) (2025.2)\n",
            "Requirement already satisfied: scipy>=1.6.0 in /usr/local/lib/python3.11/dist-packages (from scikit-learn) (1.15.3)\n",
            "Requirement already satisfied: joblib>=1.2.0 in /usr/local/lib/python3.11/dist-packages (from scikit-learn) (1.5.0)\n",
            "Requirement already satisfied: threadpoolctl>=3.1.0 in /usr/local/lib/python3.11/dist-packages (from scikit-learn) (3.6.0)\n",
            "Requirement already satisfied: absl-py>=1.0.0 in /usr/local/lib/python3.11/dist-packages (from tensorflow) (1.4.0)\n",
            "Requirement already satisfied: astunparse>=1.6.0 in /usr/local/lib/python3.11/dist-packages (from tensorflow) (1.6.3)\n",
            "Requirement already satisfied: flatbuffers>=24.3.25 in /usr/local/lib/python3.11/dist-packages (from tensorflow) (25.2.10)\n",
            "Requirement already satisfied: gast!=0.5.0,!=0.5.1,!=0.5.2,>=0.2.1 in /usr/local/lib/python3.11/dist-packages (from tensorflow) (0.6.0)\n",
            "Requirement already satisfied: google-pasta>=0.1.1 in /usr/local/lib/python3.11/dist-packages (from tensorflow) (0.2.0)\n",
            "Requirement already satisfied: libclang>=13.0.0 in /usr/local/lib/python3.11/dist-packages (from tensorflow) (18.1.1)\n",
            "Requirement already satisfied: opt-einsum>=2.3.2 in /usr/local/lib/python3.11/dist-packages (from tensorflow) (3.4.0)\n",
            "Requirement already satisfied: packaging in /usr/local/lib/python3.11/dist-packages (from tensorflow) (24.2)\n",
            "Requirement already satisfied: termcolor>=1.1.0 in /usr/local/lib/python3.11/dist-packages (from tensorflow) (3.1.0)\n",
            "Requirement already satisfied: typing-extensions>=3.6.6 in /usr/local/lib/python3.11/dist-packages (from tensorflow) (4.13.2)\n",
            "Requirement already satisfied: wrapt>=1.11.0 in /usr/local/lib/python3.11/dist-packages (from tensorflow) (1.17.2)\n",
            "Requirement already satisfied: grpcio<2.0,>=1.24.3 in /usr/local/lib/python3.11/dist-packages (from tensorflow) (1.71.0)\n",
            "Requirement already satisfied: tensorboard<2.19,>=2.18 in /usr/local/lib/python3.11/dist-packages (from tensorflow) (2.18.0)\n",
            "Requirement already satisfied: keras>=3.5.0 in /usr/local/lib/python3.11/dist-packages (from tensorflow) (3.8.0)\n",
            "Requirement already satisfied: h5py>=3.11.0 in /usr/local/lib/python3.11/dist-packages (from tensorflow) (3.13.0)\n",
            "Requirement already satisfied: ml-dtypes<0.5.0,>=0.4.0 in /usr/local/lib/python3.11/dist-packages (from tensorflow) (0.4.1)\n",
            "Requirement already satisfied: tensorflow-io-gcs-filesystem>=0.23.1 in /usr/local/lib/python3.11/dist-packages (from tensorflow) (0.37.1)\n",
            "Requirement already satisfied: contourpy>=1.0.1 in /usr/local/lib/python3.11/dist-packages (from matplotlib) (1.3.2)\n",
            "Requirement already satisfied: cycler>=0.10 in /usr/local/lib/python3.11/dist-packages (from matplotlib) (0.12.1)\n",
            "Requirement already satisfied: fonttools>=4.22.0 in /usr/local/lib/python3.11/dist-packages (from matplotlib) (4.58.0)\n",
            "Requirement already satisfied: kiwisolver>=1.3.1 in /usr/local/lib/python3.11/dist-packages (from matplotlib) (1.4.8)\n",
            "Requirement already satisfied: pillow>=8 in /usr/local/lib/python3.11/dist-packages (from matplotlib) (11.2.1)\n",
            "Requirement already satisfied: pyparsing>=2.3.1 in /usr/local/lib/python3.11/dist-packages (from matplotlib) (3.2.3)\n",
            "Requirement already satisfied: wheel<1.0,>=0.23.0 in /usr/local/lib/python3.11/dist-packages (from astunparse>=1.6.0->tensorflow) (0.45.1)\n",
            "Requirement already satisfied: rich in /usr/local/lib/python3.11/dist-packages (from keras>=3.5.0->tensorflow) (13.9.4)\n",
            "Requirement already satisfied: namex in /usr/local/lib/python3.11/dist-packages (from keras>=3.5.0->tensorflow) (0.0.9)\n",
            "Requirement already satisfied: optree in /usr/local/lib/python3.11/dist-packages (from keras>=3.5.0->tensorflow) (0.15.0)\n",
            "Requirement already satisfied: markdown>=2.6.8 in /usr/local/lib/python3.11/dist-packages (from tensorboard<2.19,>=2.18->tensorflow) (3.8)\n",
            "Requirement already satisfied: tensorboard-data-server<0.8.0,>=0.7.0 in /usr/local/lib/python3.11/dist-packages (from tensorboard<2.19,>=2.18->tensorflow) (0.7.2)\n",
            "Requirement already satisfied: werkzeug>=1.0.1 in /usr/local/lib/python3.11/dist-packages (from tensorboard<2.19,>=2.18->tensorflow) (3.1.3)\n",
            "Requirement already satisfied: MarkupSafe>=2.1.1 in /usr/local/lib/python3.11/dist-packages (from werkzeug>=1.0.1->tensorboard<2.19,>=2.18->tensorflow) (3.0.2)\n",
            "Requirement already satisfied: markdown-it-py>=2.2.0 in /usr/local/lib/python3.11/dist-packages (from rich->keras>=3.5.0->tensorflow) (3.0.0)\n",
            "Requirement already satisfied: pygments<3.0.0,>=2.13.0 in /usr/local/lib/python3.11/dist-packages (from rich->keras>=3.5.0->tensorflow) (2.19.1)\n",
            "Requirement already satisfied: mdurl~=0.1 in /usr/local/lib/python3.11/dist-packages (from markdown-it-py>=2.2.0->rich->keras>=3.5.0->tensorflow) (0.1.2)\n",
            "Building wheels for collected packages: unzip\n",
            "  Building wheel for unzip (setup.py) ... \u001b[?25l\u001b[?25hdone\n",
            "  Created wheel for unzip: filename=unzip-1.0.0-py3-none-any.whl size=1281 sha256=e4db8793be95a4523669111a6d9f8732cf3631f58d8cf2953537e0d694da3c07\n",
            "  Stored in directory: /root/.cache/pip/wheels/3c/4d/b3/ddd83a91322fba02a91898d3b006090d1df1d3b0ad61bd8b36\n",
            "Successfully built unzip\n",
            "Installing collected packages: unzip\n",
            "Successfully installed unzip-1.0.0\n"
          ]
        }
      ],
      "execution_count": 1
    },
    {
      "metadata": {
        "ExecuteTime": {
          "end_time": "2025-04-24T14:12:19.587305Z",
          "start_time": "2025-04-24T14:12:19.550586Z"
        },
        "id": "7142038164fec8a8"
      },
      "cell_type": "code",
      "source": [
        "import os\n",
        "import shutil\n",
        "import zipfile\n",
        "import re\n",
        "from collections import defaultdict\n",
        "from math import floor\n",
        "from IPython.display import display, Image\n",
        "import random\n",
        "import pandas as pd\n",
        "import numpy as np\n",
        "import matplotlib.pyplot as plt\n",
        "import seaborn as sns\n",
        "from sklearn.feature_extraction.text import TfidfVectorizer\n",
        "from sklearn.metrics.pairwise import cosine_similarity\n",
        "from sklearn.preprocessing import LabelEncoder\n",
        "from sklearn.model_selection import train_test_split\n",
        "import tensorflow as tf\n",
        "import keras\n",
        "from keras import layers\n",
        "from keras import ops"
      ],
      "id": "7142038164fec8a8",
      "outputs": [],
      "execution_count": 2
    },
    {
      "cell_type": "markdown",
      "source": [
        "Insight:\n",
        "\n",
        "* Library yang digunakan sudah mencakup kebutuhan untuk pengolahan data, file, visualisasi, dan pemodelan sistem rekomendasi  \n",
        "* Modul os, shutil, dan zipfile digunakan untuk manajemen file seperti ekstraksi file ZIP dan pengaturan path  \n",
        "* Pandas dan NumPy digunakan sebagai fondasi manipulasi data tabular dan operasi numerik  \n",
        "* Matplotlib dan Seaborn berperan dalam visualisasi data eksploratif dan statistik  \n",
        "* Pendekatan Content-Based Filtering menggunakan TfidfVectorizer dan cosine_similarity dari Scikit-learn  \n",
        "* Pendekatan Collaborative Filtering disiapkan dengan TensorFlow dan Keras untuk membangun model deep learning  \n",
        "* LabelEncoder dan train_test_split digunakan untuk preprocessing dan pembagian data latih dan uji  \n",
        "* Struktur import sudah mencerminkan alur pipeline dari loading data hingga model training dan evaluasi"
      ],
      "metadata": {
        "id": "glJ4Ve8aOC-k"
      },
      "id": "glJ4Ve8aOC-k"
    },
    {
      "metadata": {
        "id": "9758ea53f6d52e8e"
      },
      "cell_type": "markdown",
      "source": [
        "### Data Loading"
      ],
      "id": "9758ea53f6d52e8e"
    },
    {
      "metadata": {
        "ExecuteTime": {
          "end_time": "2025-04-24T09:12:16.270801Z",
          "start_time": "2025-04-24T09:12:15.489710Z"
        },
        "colab": {
          "base_uri": "https://localhost:8080/"
        },
        "id": "b812ebc73b5bf6b",
        "outputId": "2ad3c731-cca7-49e1-b238-f0d2b6e3b3dd"
      },
      "cell_type": "code",
      "source": [
        "!unzip book-rec-dataset.zip -d dataset"
      ],
      "id": "b812ebc73b5bf6b",
      "outputs": [
        {
          "output_type": "stream",
          "name": "stdout",
          "text": [
            "Archive:  book-rec-dataset.zip\n",
            "  inflating: dataset/Books.csv       \n",
            "  inflating: dataset/DeepRec.png     \n",
            "  inflating: dataset/Ratings.csv     \n",
            "  inflating: dataset/Users.csv       \n",
            "  inflating: dataset/classicRec.png  \n",
            "  inflating: dataset/recsys_taxonomy2.png  \n"
          ]
        }
      ],
      "execution_count": 3
    },
    {
      "metadata": {
        "ExecuteTime": {
          "end_time": "2025-04-24T09:12:17.598223Z",
          "start_time": "2025-04-24T09:12:16.271837Z"
        },
        "colab": {
          "base_uri": "https://localhost:8080/"
        },
        "id": "26545b4de08ae619",
        "outputId": "9039213b-de80-4aaf-a509-e59a590df066"
      },
      "cell_type": "code",
      "source": [
        "books = pd.read_csv(\"dataset/Books.csv\")\n",
        "users = pd.read_csv(\"dataset/Users.csv\")\n",
        "ratings = pd.read_csv(\"dataset/Ratings.csv\")"
      ],
      "id": "26545b4de08ae619",
      "outputs": [
        {
          "output_type": "stream",
          "name": "stderr",
          "text": [
            "<ipython-input-4-0f648e6ab431>:1: DtypeWarning: Columns (3) have mixed types. Specify dtype option on import or set low_memory=False.\n",
            "  books = pd.read_csv(\"dataset/Books.csv\")\n"
          ]
        }
      ],
      "execution_count": 4
    },
    {
      "cell_type": "code",
      "source": [
        "print(f\"Books: {books.shape[0]} data | Unique ISBN: {books['ISBN'].nunique()}\")\n",
        "print(f\"Users: {users.shape[0]} data | Unique User-ID: {users['User-ID'].nunique()}\")\n",
        "print(f\"Ratings: {ratings.shape[0]} data | Unique User-ID: {ratings['User-ID'].nunique()}\")"
      ],
      "metadata": {
        "colab": {
          "base_uri": "https://localhost:8080/"
        },
        "id": "rOcLSFMo6Ikp",
        "outputId": "c9345f8d-e5cf-4dc9-f715-6a79e5d5db97"
      },
      "id": "rOcLSFMo6Ikp",
      "execution_count": 5,
      "outputs": [
        {
          "output_type": "stream",
          "name": "stdout",
          "text": [
            "Books: 271360 data | Unique ISBN: 271360\n",
            "Users: 278858 data | Unique User-ID: 278858\n",
            "Ratings: 1149780 data | Unique User-ID: 105283\n"
          ]
        }
      ]
    },
    {
      "cell_type": "markdown",
      "source": [
        "Insight:\n",
        "\n",
        "* Output menunjukkan jumlah baris di setiap DataFrame: books memiliki 271.360 entri, users memiliki 278.858 entri, dan ratings memiliki 1.149.780 entri.\n",
        "* Jumlah data buku (271.360) sama dengan jumlah ISBN unik (271.360).\n",
        "* Keunikan data pengguna: Jumlah data pengguna (278.858) sama dengan jumlah User-ID unik (278.858).\n",
        "* Keunikan data rating: Ada 1.149.780 entri rating, tetapi hanya ada 105.283 User-ID unik dalam dataset rating. Ini menunjukkan bahwa hanya sebagian kecil dari total pengguna (105.283 dari 278.858) yang memberikan rating."
      ],
      "metadata": {
        "id": "LaqdFIrqmUuR"
      },
      "id": "LaqdFIrqmUuR"
    },
    {
      "metadata": {
        "id": "69a81f376785d532"
      },
      "cell_type": "markdown",
      "source": [
        "### Books Variable"
      ],
      "id": "69a81f376785d532"
    },
    {
      "metadata": {
        "ExecuteTime": {
          "end_time": "2025-04-24T09:12:17.645703Z",
          "start_time": "2025-04-24T09:12:17.599266Z"
        },
        "colab": {
          "base_uri": "https://localhost:8080/"
        },
        "id": "28b6ea5fe568c035",
        "outputId": "ee903f65-3870-4526-fe9a-850f3a60310d"
      },
      "cell_type": "code",
      "source": [
        "books.info()"
      ],
      "id": "28b6ea5fe568c035",
      "outputs": [
        {
          "output_type": "stream",
          "name": "stdout",
          "text": [
            "<class 'pandas.core.frame.DataFrame'>\n",
            "RangeIndex: 271360 entries, 0 to 271359\n",
            "Data columns (total 8 columns):\n",
            " #   Column               Non-Null Count   Dtype \n",
            "---  ------               --------------   ----- \n",
            " 0   ISBN                 271360 non-null  object\n",
            " 1   Book-Title           271360 non-null  object\n",
            " 2   Book-Author          271358 non-null  object\n",
            " 3   Year-Of-Publication  271360 non-null  object\n",
            " 4   Publisher            271358 non-null  object\n",
            " 5   Image-URL-S          271360 non-null  object\n",
            " 6   Image-URL-M          271360 non-null  object\n",
            " 7   Image-URL-L          271357 non-null  object\n",
            "dtypes: object(8)\n",
            "memory usage: 16.6+ MB\n"
          ]
        }
      ],
      "execution_count": 6
    },
    {
      "cell_type": "markdown",
      "source": [
        "Insight:\n",
        "\n",
        "* DataFrame books berisi 271.360 entri dengan 8 kolom  \n",
        "* Ada nilai yang hilang (missing values) di kolom Book-Author, Publisher, dan Image-URL-L."
      ],
      "metadata": {
        "id": "-jolcikLQyGB"
      },
      "id": "-jolcikLQyGB"
    },
    {
      "metadata": {
        "ExecuteTime": {
          "end_time": "2025-04-24T09:12:18.254300Z",
          "start_time": "2025-04-24T09:12:17.646554Z"
        },
        "colab": {
          "base_uri": "https://localhost:8080/",
          "height": 229
        },
        "id": "83833478b0882c4",
        "outputId": "6239bb47-f922-47cb-ee34-f94774652c43"
      },
      "cell_type": "code",
      "source": [
        "books.describe()"
      ],
      "id": "83833478b0882c4",
      "outputs": [
        {
          "output_type": "execute_result",
          "data": {
            "text/plain": [
              "              ISBN      Book-Title      Book-Author  Year-Of-Publication  \\\n",
              "count       271360          271360           271358               271360   \n",
              "unique      271360          242135           102022                  202   \n",
              "top     020130998X  Selected Poems  Agatha Christie                 2002   \n",
              "freq             1              27              632                13903   \n",
              "\n",
              "        Publisher                                        Image-URL-S  \\\n",
              "count      271358                                             271360   \n",
              "unique      16807                                             271044   \n",
              "top     Harlequin  http://images.amazon.com/images/P/042509474X.0...   \n",
              "freq         7535                                                  2   \n",
              "\n",
              "                                              Image-URL-M  \\\n",
              "count                                              271360   \n",
              "unique                                             271044   \n",
              "top     http://images.amazon.com/images/P/042509474X.0...   \n",
              "freq                                                    2   \n",
              "\n",
              "                                              Image-URL-L  \n",
              "count                                              271357  \n",
              "unique                                             271041  \n",
              "top     http://images.amazon.com/images/P/006091985X.0...  \n",
              "freq                                                    2  "
            ],
            "text/html": [
              "\n",
              "  <div id=\"df-fa0a1a68-afc9-40b4-95ba-42c54f55095c\" class=\"colab-df-container\">\n",
              "    <div>\n",
              "<style scoped>\n",
              "    .dataframe tbody tr th:only-of-type {\n",
              "        vertical-align: middle;\n",
              "    }\n",
              "\n",
              "    .dataframe tbody tr th {\n",
              "        vertical-align: top;\n",
              "    }\n",
              "\n",
              "    .dataframe thead th {\n",
              "        text-align: right;\n",
              "    }\n",
              "</style>\n",
              "<table border=\"1\" class=\"dataframe\">\n",
              "  <thead>\n",
              "    <tr style=\"text-align: right;\">\n",
              "      <th></th>\n",
              "      <th>ISBN</th>\n",
              "      <th>Book-Title</th>\n",
              "      <th>Book-Author</th>\n",
              "      <th>Year-Of-Publication</th>\n",
              "      <th>Publisher</th>\n",
              "      <th>Image-URL-S</th>\n",
              "      <th>Image-URL-M</th>\n",
              "      <th>Image-URL-L</th>\n",
              "    </tr>\n",
              "  </thead>\n",
              "  <tbody>\n",
              "    <tr>\n",
              "      <th>count</th>\n",
              "      <td>271360</td>\n",
              "      <td>271360</td>\n",
              "      <td>271358</td>\n",
              "      <td>271360</td>\n",
              "      <td>271358</td>\n",
              "      <td>271360</td>\n",
              "      <td>271360</td>\n",
              "      <td>271357</td>\n",
              "    </tr>\n",
              "    <tr>\n",
              "      <th>unique</th>\n",
              "      <td>271360</td>\n",
              "      <td>242135</td>\n",
              "      <td>102022</td>\n",
              "      <td>202</td>\n",
              "      <td>16807</td>\n",
              "      <td>271044</td>\n",
              "      <td>271044</td>\n",
              "      <td>271041</td>\n",
              "    </tr>\n",
              "    <tr>\n",
              "      <th>top</th>\n",
              "      <td>020130998X</td>\n",
              "      <td>Selected Poems</td>\n",
              "      <td>Agatha Christie</td>\n",
              "      <td>2002</td>\n",
              "      <td>Harlequin</td>\n",
              "      <td>http://images.amazon.com/images/P/042509474X.0...</td>\n",
              "      <td>http://images.amazon.com/images/P/042509474X.0...</td>\n",
              "      <td>http://images.amazon.com/images/P/006091985X.0...</td>\n",
              "    </tr>\n",
              "    <tr>\n",
              "      <th>freq</th>\n",
              "      <td>1</td>\n",
              "      <td>27</td>\n",
              "      <td>632</td>\n",
              "      <td>13903</td>\n",
              "      <td>7535</td>\n",
              "      <td>2</td>\n",
              "      <td>2</td>\n",
              "      <td>2</td>\n",
              "    </tr>\n",
              "  </tbody>\n",
              "</table>\n",
              "</div>\n",
              "    <div class=\"colab-df-buttons\">\n",
              "\n",
              "  <div class=\"colab-df-container\">\n",
              "    <button class=\"colab-df-convert\" onclick=\"convertToInteractive('df-fa0a1a68-afc9-40b4-95ba-42c54f55095c')\"\n",
              "            title=\"Convert this dataframe to an interactive table.\"\n",
              "            style=\"display:none;\">\n",
              "\n",
              "  <svg xmlns=\"http://www.w3.org/2000/svg\" height=\"24px\" viewBox=\"0 -960 960 960\">\n",
              "    <path d=\"M120-120v-720h720v720H120Zm60-500h600v-160H180v160Zm220 220h160v-160H400v160Zm0 220h160v-160H400v160ZM180-400h160v-160H180v160Zm440 0h160v-160H620v160ZM180-180h160v-160H180v160Zm440 0h160v-160H620v160Z\"/>\n",
              "  </svg>\n",
              "    </button>\n",
              "\n",
              "  <style>\n",
              "    .colab-df-container {\n",
              "      display:flex;\n",
              "      gap: 12px;\n",
              "    }\n",
              "\n",
              "    .colab-df-convert {\n",
              "      background-color: #E8F0FE;\n",
              "      border: none;\n",
              "      border-radius: 50%;\n",
              "      cursor: pointer;\n",
              "      display: none;\n",
              "      fill: #1967D2;\n",
              "      height: 32px;\n",
              "      padding: 0 0 0 0;\n",
              "      width: 32px;\n",
              "    }\n",
              "\n",
              "    .colab-df-convert:hover {\n",
              "      background-color: #E2EBFA;\n",
              "      box-shadow: 0px 1px 2px rgba(60, 64, 67, 0.3), 0px 1px 3px 1px rgba(60, 64, 67, 0.15);\n",
              "      fill: #174EA6;\n",
              "    }\n",
              "\n",
              "    .colab-df-buttons div {\n",
              "      margin-bottom: 4px;\n",
              "    }\n",
              "\n",
              "    [theme=dark] .colab-df-convert {\n",
              "      background-color: #3B4455;\n",
              "      fill: #D2E3FC;\n",
              "    }\n",
              "\n",
              "    [theme=dark] .colab-df-convert:hover {\n",
              "      background-color: #434B5C;\n",
              "      box-shadow: 0px 1px 3px 1px rgba(0, 0, 0, 0.15);\n",
              "      filter: drop-shadow(0px 1px 2px rgba(0, 0, 0, 0.3));\n",
              "      fill: #FFFFFF;\n",
              "    }\n",
              "  </style>\n",
              "\n",
              "    <script>\n",
              "      const buttonEl =\n",
              "        document.querySelector('#df-fa0a1a68-afc9-40b4-95ba-42c54f55095c button.colab-df-convert');\n",
              "      buttonEl.style.display =\n",
              "        google.colab.kernel.accessAllowed ? 'block' : 'none';\n",
              "\n",
              "      async function convertToInteractive(key) {\n",
              "        const element = document.querySelector('#df-fa0a1a68-afc9-40b4-95ba-42c54f55095c');\n",
              "        const dataTable =\n",
              "          await google.colab.kernel.invokeFunction('convertToInteractive',\n",
              "                                                    [key], {});\n",
              "        if (!dataTable) return;\n",
              "\n",
              "        const docLinkHtml = 'Like what you see? Visit the ' +\n",
              "          '<a target=\"_blank\" href=https://colab.research.google.com/notebooks/data_table.ipynb>data table notebook</a>'\n",
              "          + ' to learn more about interactive tables.';\n",
              "        element.innerHTML = '';\n",
              "        dataTable['output_type'] = 'display_data';\n",
              "        await google.colab.output.renderOutput(dataTable, element);\n",
              "        const docLink = document.createElement('div');\n",
              "        docLink.innerHTML = docLinkHtml;\n",
              "        element.appendChild(docLink);\n",
              "      }\n",
              "    </script>\n",
              "  </div>\n",
              "\n",
              "\n",
              "    <div id=\"df-7ba87820-e733-41aa-b627-9bd20f18a109\">\n",
              "      <button class=\"colab-df-quickchart\" onclick=\"quickchart('df-7ba87820-e733-41aa-b627-9bd20f18a109')\"\n",
              "                title=\"Suggest charts\"\n",
              "                style=\"display:none;\">\n",
              "\n",
              "<svg xmlns=\"http://www.w3.org/2000/svg\" height=\"24px\"viewBox=\"0 0 24 24\"\n",
              "     width=\"24px\">\n",
              "    <g>\n",
              "        <path d=\"M19 3H5c-1.1 0-2 .9-2 2v14c0 1.1.9 2 2 2h14c1.1 0 2-.9 2-2V5c0-1.1-.9-2-2-2zM9 17H7v-7h2v7zm4 0h-2V7h2v10zm4 0h-2v-4h2v4z\"/>\n",
              "    </g>\n",
              "</svg>\n",
              "      </button>\n",
              "\n",
              "<style>\n",
              "  .colab-df-quickchart {\n",
              "      --bg-color: #E8F0FE;\n",
              "      --fill-color: #1967D2;\n",
              "      --hover-bg-color: #E2EBFA;\n",
              "      --hover-fill-color: #174EA6;\n",
              "      --disabled-fill-color: #AAA;\n",
              "      --disabled-bg-color: #DDD;\n",
              "  }\n",
              "\n",
              "  [theme=dark] .colab-df-quickchart {\n",
              "      --bg-color: #3B4455;\n",
              "      --fill-color: #D2E3FC;\n",
              "      --hover-bg-color: #434B5C;\n",
              "      --hover-fill-color: #FFFFFF;\n",
              "      --disabled-bg-color: #3B4455;\n",
              "      --disabled-fill-color: #666;\n",
              "  }\n",
              "\n",
              "  .colab-df-quickchart {\n",
              "    background-color: var(--bg-color);\n",
              "    border: none;\n",
              "    border-radius: 50%;\n",
              "    cursor: pointer;\n",
              "    display: none;\n",
              "    fill: var(--fill-color);\n",
              "    height: 32px;\n",
              "    padding: 0;\n",
              "    width: 32px;\n",
              "  }\n",
              "\n",
              "  .colab-df-quickchart:hover {\n",
              "    background-color: var(--hover-bg-color);\n",
              "    box-shadow: 0 1px 2px rgba(60, 64, 67, 0.3), 0 1px 3px 1px rgba(60, 64, 67, 0.15);\n",
              "    fill: var(--button-hover-fill-color);\n",
              "  }\n",
              "\n",
              "  .colab-df-quickchart-complete:disabled,\n",
              "  .colab-df-quickchart-complete:disabled:hover {\n",
              "    background-color: var(--disabled-bg-color);\n",
              "    fill: var(--disabled-fill-color);\n",
              "    box-shadow: none;\n",
              "  }\n",
              "\n",
              "  .colab-df-spinner {\n",
              "    border: 2px solid var(--fill-color);\n",
              "    border-color: transparent;\n",
              "    border-bottom-color: var(--fill-color);\n",
              "    animation:\n",
              "      spin 1s steps(1) infinite;\n",
              "  }\n",
              "\n",
              "  @keyframes spin {\n",
              "    0% {\n",
              "      border-color: transparent;\n",
              "      border-bottom-color: var(--fill-color);\n",
              "      border-left-color: var(--fill-color);\n",
              "    }\n",
              "    20% {\n",
              "      border-color: transparent;\n",
              "      border-left-color: var(--fill-color);\n",
              "      border-top-color: var(--fill-color);\n",
              "    }\n",
              "    30% {\n",
              "      border-color: transparent;\n",
              "      border-left-color: var(--fill-color);\n",
              "      border-top-color: var(--fill-color);\n",
              "      border-right-color: var(--fill-color);\n",
              "    }\n",
              "    40% {\n",
              "      border-color: transparent;\n",
              "      border-right-color: var(--fill-color);\n",
              "      border-top-color: var(--fill-color);\n",
              "    }\n",
              "    60% {\n",
              "      border-color: transparent;\n",
              "      border-right-color: var(--fill-color);\n",
              "    }\n",
              "    80% {\n",
              "      border-color: transparent;\n",
              "      border-right-color: var(--fill-color);\n",
              "      border-bottom-color: var(--fill-color);\n",
              "    }\n",
              "    90% {\n",
              "      border-color: transparent;\n",
              "      border-bottom-color: var(--fill-color);\n",
              "    }\n",
              "  }\n",
              "</style>\n",
              "\n",
              "      <script>\n",
              "        async function quickchart(key) {\n",
              "          const quickchartButtonEl =\n",
              "            document.querySelector('#' + key + ' button');\n",
              "          quickchartButtonEl.disabled = true;  // To prevent multiple clicks.\n",
              "          quickchartButtonEl.classList.add('colab-df-spinner');\n",
              "          try {\n",
              "            const charts = await google.colab.kernel.invokeFunction(\n",
              "                'suggestCharts', [key], {});\n",
              "          } catch (error) {\n",
              "            console.error('Error during call to suggestCharts:', error);\n",
              "          }\n",
              "          quickchartButtonEl.classList.remove('colab-df-spinner');\n",
              "          quickchartButtonEl.classList.add('colab-df-quickchart-complete');\n",
              "        }\n",
              "        (() => {\n",
              "          let quickchartButtonEl =\n",
              "            document.querySelector('#df-7ba87820-e733-41aa-b627-9bd20f18a109 button');\n",
              "          quickchartButtonEl.style.display =\n",
              "            google.colab.kernel.accessAllowed ? 'block' : 'none';\n",
              "        })();\n",
              "      </script>\n",
              "    </div>\n",
              "\n",
              "    </div>\n",
              "  </div>\n"
            ],
            "application/vnd.google.colaboratory.intrinsic+json": {
              "type": "dataframe",
              "summary": "{\n  \"name\": \"books\",\n  \"rows\": 4,\n  \"fields\": [\n    {\n      \"column\": \"ISBN\",\n      \"properties\": {\n        \"dtype\": \"string\",\n        \"num_unique_values\": 3,\n        \"samples\": [\n          \"271360\",\n          \"020130998X\",\n          \"1\"\n        ],\n        \"semantic_type\": \"\",\n        \"description\": \"\"\n      }\n    },\n    {\n      \"column\": \"Book-Title\",\n      \"properties\": {\n        \"dtype\": \"string\",\n        \"num_unique_values\": 4,\n        \"samples\": [\n          242135,\n          \"27\",\n          \"271360\"\n        ],\n        \"semantic_type\": \"\",\n        \"description\": \"\"\n      }\n    },\n    {\n      \"column\": \"Book-Author\",\n      \"properties\": {\n        \"dtype\": \"string\",\n        \"num_unique_values\": 4,\n        \"samples\": [\n          102022,\n          \"632\",\n          \"271358\"\n        ],\n        \"semantic_type\": \"\",\n        \"description\": \"\"\n      }\n    },\n    {\n      \"column\": \"Year-Of-Publication\",\n      \"properties\": {\n        \"dtype\": \"number\",\n        \"std\": 133134,\n        \"min\": 202,\n        \"max\": 271360,\n        \"num_unique_values\": 4,\n        \"samples\": [\n          202,\n          13903,\n          271360\n        ],\n        \"semantic_type\": \"\",\n        \"description\": \"\"\n      }\n    },\n    {\n      \"column\": \"Publisher\",\n      \"properties\": {\n        \"dtype\": \"string\",\n        \"num_unique_values\": 4,\n        \"samples\": [\n          16807,\n          \"7535\",\n          \"271358\"\n        ],\n        \"semantic_type\": \"\",\n        \"description\": \"\"\n      }\n    },\n    {\n      \"column\": \"Image-URL-S\",\n      \"properties\": {\n        \"dtype\": \"string\",\n        \"num_unique_values\": 4,\n        \"samples\": [\n          271044,\n          \"2\",\n          \"271360\"\n        ],\n        \"semantic_type\": \"\",\n        \"description\": \"\"\n      }\n    },\n    {\n      \"column\": \"Image-URL-M\",\n      \"properties\": {\n        \"dtype\": \"string\",\n        \"num_unique_values\": 4,\n        \"samples\": [\n          271044,\n          \"2\",\n          \"271360\"\n        ],\n        \"semantic_type\": \"\",\n        \"description\": \"\"\n      }\n    },\n    {\n      \"column\": \"Image-URL-L\",\n      \"properties\": {\n        \"dtype\": \"string\",\n        \"num_unique_values\": 4,\n        \"samples\": [\n          271041,\n          \"2\",\n          \"271357\"\n        ],\n        \"semantic_type\": \"\",\n        \"description\": \"\"\n      }\n    }\n  ]\n}"
            }
          },
          "metadata": {},
          "execution_count": 7
        }
      ],
      "execution_count": 7
    },
    {
      "cell_type": "markdown",
      "source": [
        "Insight:\n",
        "\n",
        "* Metode .describe() memberikan ringkasan cepat tentang karakteristik data, termasuk jumlah nilai non-null, jumlah nilai unik, serta nilai dan frekuensi yang paling umum untuk setiap kolom  \n",
        "* Kembali terlihat adanya nilai yang hilang di kolom Book-Author, Publisher, dan Image-URL-L  \n",
        "* Kolom kunci seperti Book-Title, Book-Author, dan Publisher memiliki banyak nilai unik, menunjukkan variasi yang tinggi dalam dataset buku  \n",
        "* Ada beberapa buku dengan judul yang sama (dilihat dari jumlah judul unik vs ISBN unik)  \n",
        "* Agatha Christie dan penerbit Harlequin adalah yang paling dominan dalam hal jumlah buku di dataset  \n",
        "* Tahun 2002 adalah tahun dengan publikasi buku terbanyak dalam dataset  \n",
        "* URL gambar cenderung unik per buku, meskipun ada sedikit duplikasi  "
      ],
      "metadata": {
        "id": "S0pMZKS1Ryom"
      },
      "id": "S0pMZKS1Ryom"
    },
    {
      "metadata": {
        "ExecuteTime": {
          "end_time": "2025-04-24T09:12:18.376508Z",
          "start_time": "2025-04-24T09:12:18.255174Z"
        },
        "colab": {
          "base_uri": "https://localhost:8080/"
        },
        "id": "e27843024fee3f06",
        "outputId": "18165b78-127f-454f-cf46-18263f00ceb3"
      },
      "cell_type": "code",
      "source": [
        "print(f\"Unique ISBNs: {books['ISBN'].nunique()}\")\n",
        "print(f\"Unique Titles: {books['Book-Title'].nunique()}\")\n",
        "print(f\"Unique Authors: {books['Book-Author'].nunique()}\")\n",
        "print(f\"Unique Publishers: {books['Publisher'].nunique()}\")"
      ],
      "id": "e27843024fee3f06",
      "outputs": [
        {
          "output_type": "stream",
          "name": "stdout",
          "text": [
            "Unique ISBNs: 271360\n",
            "Unique Titles: 242135\n",
            "Unique Authors: 102022\n",
            "Unique Publishers: 16807\n"
          ]
        }
      ],
      "execution_count": 8
    },
    {
      "cell_type": "markdown",
      "source": [
        "#### Checking Missing Values in Books"
      ],
      "metadata": {
        "id": "eetA-1SQuMKY"
      },
      "id": "eetA-1SQuMKY"
    },
    {
      "metadata": {
        "ExecuteTime": {
          "end_time": "2025-04-24T09:12:18.426761Z",
          "start_time": "2025-04-24T09:12:18.378068Z"
        },
        "colab": {
          "base_uri": "https://localhost:8080/"
        },
        "id": "cb989ce9bcd893a2",
        "outputId": "f89101be-dc0a-45f4-8798-c51d992e8b65"
      },
      "cell_type": "code",
      "source": [
        "print(\"Missing values in Books:\")\n",
        "print(books.isnull().sum(), \"\\n\")"
      ],
      "id": "cb989ce9bcd893a2",
      "outputs": [
        {
          "output_type": "stream",
          "name": "stdout",
          "text": [
            "Missing values in Books:\n",
            "ISBN                   0\n",
            "Book-Title             0\n",
            "Book-Author            2\n",
            "Year-Of-Publication    0\n",
            "Publisher              2\n",
            "Image-URL-S            0\n",
            "Image-URL-M            0\n",
            "Image-URL-L            3\n",
            "dtype: int64 \n",
            "\n"
          ]
        }
      ],
      "execution_count": 9
    },
    {
      "cell_type": "markdown",
      "source": [
        "Insight:\n",
        "\n",
        "* Output secara jelas mengkonfirmasi adanya nilai yang hilang di kolom Book-Author (2), Publisher (2), dan Image-URL-L (3)  \n",
        "* Kolom-kolom lainnya (ISBN, Book-Title, Year-Of-Publication, Image-URL-S, Image-URL-M) tidak memiliki nilai yang hilang  "
      ],
      "metadata": {
        "id": "nN8PD8NvTyR6"
      },
      "id": "nN8PD8NvTyR6"
    },
    {
      "cell_type": "markdown",
      "source": [
        "#### Top 10 Publishers"
      ],
      "metadata": {
        "id": "2B8C8q4Hklge"
      },
      "id": "2B8C8q4Hklge"
    },
    {
      "metadata": {
        "ExecuteTime": {
          "end_time": "2025-04-24T09:12:18.706342Z",
          "start_time": "2025-04-24T09:12:18.433303Z"
        },
        "colab": {
          "base_uri": "https://localhost:8080/",
          "height": 315
        },
        "id": "207b2b8935085e3e",
        "outputId": "47d48ec2-8a7a-4784-9f14-41544863648f"
      },
      "cell_type": "code",
      "source": [
        "top_publishers = books['Publisher'].value_counts().head(10)\n",
        "\n",
        "plt.figure(figsize=(12, 6))\n",
        "\n",
        "sns.barplot(x=top_publishers.values, y=top_publishers.index, hue=top_publishers.index, legend=False, palette=\"Oranges\")\n",
        "\n",
        "plt.title(\"Top 10 Most Frequent Publishers\")\n",
        "plt.xlabel(\"Count\")\n",
        "plt.ylabel(\"Publisher\")\n",
        "plt.show()"
      ],
      "id": "207b2b8935085e3e",
      "outputs": [
        {
          "output_type": "display_data",
          "data": {
            "text/plain": [
              "<Figure size 1200x600 with 1 Axes>"
            ],
            "image/png": "[encoded data removed]"
          },
          "metadata": {}
        }
      ],
      "execution_count": 10
    },
    {
      "cell_type": "markdown",
      "source": [
        "Insight:\n",
        "\n",
        "* Harlequin merupakan penerbit paling dominan dalam dataset dengan jumlah buku lebih dari 7.000, jauh melampaui penerbit lainnya  \n",
        "* Penerbit populer lainnya seperti Silhouette, Pocket, Ballantine Books, dan Bantam Books masing-masing memiliki sekitar 3.500 hingga 4.200 buku  \n",
        "* Seluruh penerbit dalam daftar top 10 memiliki kontribusi signifikan terhadap jumlah total buku dalam dataset  \n",
        "* Dominasi penerbit tertentu dapat mencerminkan segmentasi pasar atau genre buku yang sering diterbitkan, misalnya fiksi romantis atau bacaan populer  \n",
        "* Konsentrasi pada penerbit besar bisa menjadi pertimbangan penting dalam analisis atau sistem rekomendasi, karena bisa mempengaruhi keberagaman konten yang tersedia  "
      ],
      "metadata": {
        "id": "ePMsBP5VUJ3W"
      },
      "id": "ePMsBP5VUJ3W"
    },
    {
      "cell_type": "markdown",
      "source": [
        "#### Top 10 Authors"
      ],
      "metadata": {
        "id": "u_kCxFXvkgMD"
      },
      "id": "u_kCxFXvkgMD"
    },
    {
      "metadata": {
        "ExecuteTime": {
          "end_time": "2025-04-24T09:12:18.890223Z",
          "start_time": "2025-04-24T09:12:18.709873Z"
        },
        "colab": {
          "base_uri": "https://localhost:8080/",
          "height": 323
        },
        "id": "140d342250f68cf1",
        "outputId": "79dd1a77-f559-4f83-ff21-ce0b2f25090e"
      },
      "cell_type": "code",
      "source": [
        "top_authors = books['Book-Author'].value_counts().head(10)\n",
        "\n",
        "plt.figure(figsize=(12, 6))\n",
        "\n",
        "sns.barplot(x=top_authors.values, y=top_authors.index, hue=top_authors.index, legend=False, palette=\"Oranges\")\n",
        "\n",
        "plt.title(\"Top 10 Most Frequent Authors\")\n",
        "plt.xlabel(\"Count\")\n",
        "plt.ylabel(\"Author\")\n",
        "plt.show()"
      ],
      "id": "140d342250f68cf1",
      "outputs": [
        {
          "output_type": "display_data",
          "data": {
            "text/plain": [
              "<Figure size 1200x600 with 1 Axes>"
            ],
            "image/png": "[encoded data removed]"
          },
          "metadata": {}
        }
      ],
      "execution_count": 11
    },
    {
      "cell_type": "markdown",
      "source": [
        "Insight:\n",
        "\n",
        "* Agatha Christie menjadi penulis paling produktif dalam dataset, dengan lebih dari 640 judul buku\n",
        "* William Shakespeare dan Stephen King juga menempati posisi tinggi\n",
        "* Ann M. Martin dan Carolyn Keene menunjukkan dominasi\n",
        "* Francine Pascal juga memiliki jumlah buku yang signifikan\n",
        "* Isaac Asimov dan Charles Dickens turut memperlihatkan minat terhadap karya-karya sepanjang masa  "
      ],
      "metadata": {
        "id": "21j3sa91owEu"
      },
      "id": "21j3sa91owEu"
    },
    {
      "cell_type": "markdown",
      "source": [
        "#### Checking Outliers of Year Of Publication"
      ],
      "metadata": {
        "id": "7FIKJxzFk00V"
      },
      "id": "7FIKJxzFk00V"
    },
    {
      "metadata": {
        "ExecuteTime": {
          "end_time": "2025-04-24T09:12:19.285222Z",
          "start_time": "2025-04-24T09:12:18.892364Z"
        },
        "colab": {
          "base_uri": "https://localhost:8080/",
          "height": 401
        },
        "id": "392aec1721730aae",
        "outputId": "3b153cd4-c3f4-43b3-f8f6-749e06bfeacc"
      },
      "cell_type": "code",
      "source": [
        "temp_books = books.copy()\n",
        "temp_books['Year-Of-Publication'] = pd.to_numeric(temp_books['Year-Of-Publication'], errors='coerce')\n",
        "\n",
        "plt.figure(figsize=(8, 4))\n",
        "\n",
        "sns.boxplot(x=temp_books['Year-Of-Publication'].dropna() )\n",
        "\n",
        "plt.title(\"Box Plot of Year of Publication\")\n",
        "plt.xlabel(\"Year\")\n",
        "plt.show()"
      ],
      "id": "392aec1721730aae",
      "outputs": [
        {
          "output_type": "display_data",
          "data": {
            "text/plain": [
              "<Figure size 800x400 with 1 Axes>"
            ],
            "image/png": "[encoded data removed]"
          },
          "metadata": {}
        }
      ],
      "execution_count": 12
    },
    {
      "cell_type": "markdown",
      "source": [
        "Insight:\n",
        "\n",
        "* Sebagian besar buku dalam dataset diterbitkan antara 1950 hingga 2005, mencerminkan era modern penerbitan dan peningkatan literasi global\n",
        "* Teridentifikasi banyak outlier, termasuk tahun-tahun seperti 0, 1378, dan 1800\n",
        "* Puncak distribusi tampaknya berada pada dekade 1990-an hingga awal 2000-an, menandakan masa produktif industri buku sebelum era digital sepenuhnya berkembang"
      ],
      "metadata": {
        "id": "Y4maWQGEpxd-"
      },
      "id": "Y4maWQGEpxd-"
    },
    {
      "metadata": {
        "id": "3d09df777efcf34d"
      },
      "cell_type": "markdown",
      "source": [
        "### Users Variable"
      ],
      "id": "3d09df777efcf34d"
    },
    {
      "metadata": {
        "ExecuteTime": {
          "end_time": "2025-04-24T09:12:19.302058Z",
          "start_time": "2025-04-24T09:12:19.286472Z"
        },
        "colab": {
          "base_uri": "https://localhost:8080/"
        },
        "id": "7a6ac81269d50235",
        "outputId": "6c930b7e-1c44-4179-eb1b-763783a091f9"
      },
      "cell_type": "code",
      "source": [
        "users.info()"
      ],
      "id": "7a6ac81269d50235",
      "outputs": [
        {
          "output_type": "stream",
          "name": "stdout",
          "text": [
            "<class 'pandas.core.frame.DataFrame'>\n",
            "RangeIndex: 278858 entries, 0 to 278857\n",
            "Data columns (total 3 columns):\n",
            " #   Column    Non-Null Count   Dtype  \n",
            "---  ------    --------------   -----  \n",
            " 0   User-ID   278858 non-null  int64  \n",
            " 1   Location  278858 non-null  object \n",
            " 2   Age       168096 non-null  float64\n",
            "dtypes: float64(1), int64(1), object(1)\n",
            "memory usage: 6.4+ MB\n"
          ]
        }
      ],
      "execution_count": 13
    },
    {
      "cell_type": "markdown",
      "source": [
        "Insight:\n",
        "\n",
        "* Dataset terdiri dari 278.858 pengguna, masing-masing memiliki ID unik\n",
        "* Kolom Location memiliki nilai lengkap (non-null) untuk seluruh pengguna\n",
        "* Kolom Age hanya memiliki 168.096 nilai non-null"
      ],
      "metadata": {
        "id": "hiIt_QmaqXo_"
      },
      "id": "hiIt_QmaqXo_"
    },
    {
      "metadata": {
        "ExecuteTime": {
          "end_time": "2025-04-24T09:12:19.327155Z",
          "start_time": "2025-04-24T09:12:19.303342Z"
        },
        "colab": {
          "base_uri": "https://localhost:8080/",
          "height": 300
        },
        "id": "8ef7071ce75bbe3f",
        "outputId": "19547b15-c539-4129-cb71-0575eaad1e03"
      },
      "cell_type": "code",
      "source": [
        "users.describe()"
      ],
      "id": "8ef7071ce75bbe3f",
      "outputs": [
        {
          "output_type": "execute_result",
          "data": {
            "text/plain": [
              "            User-ID            Age\n",
              "count  278858.00000  168096.000000\n",
              "mean   139429.50000      34.751434\n",
              "std     80499.51502      14.428097\n",
              "min         1.00000       0.000000\n",
              "25%     69715.25000      24.000000\n",
              "50%    139429.50000      32.000000\n",
              "75%    209143.75000      44.000000\n",
              "max    278858.00000     244.000000"
            ],
            "text/html": [
              "\n",
              "  <div id=\"df-49c8e892-b548-4ce4-acd8-5729074b4b6d\" class=\"colab-df-container\">\n",
              "    <div>\n",
              "<style scoped>\n",
              "    .dataframe tbody tr th:only-of-type {\n",
              "        vertical-align: middle;\n",
              "    }\n",
              "\n",
              "    .dataframe tbody tr th {\n",
              "        vertical-align: top;\n",
              "    }\n",
              "\n",
              "    .dataframe thead th {\n",
              "        text-align: right;\n",
              "    }\n",
              "</style>\n",
              "<table border=\"1\" class=\"dataframe\">\n",
              "  <thead>\n",
              "    <tr style=\"text-align: right;\">\n",
              "      <th></th>\n",
              "      <th>User-ID</th>\n",
              "      <th>Age</th>\n",
              "    </tr>\n",
              "  </thead>\n",
              "  <tbody>\n",
              "    <tr>\n",
              "      <th>count</th>\n",
              "      <td>278858.00000</td>\n",
              "      <td>168096.000000</td>\n",
              "    </tr>\n",
              "    <tr>\n",
              "      <th>mean</th>\n",
              "      <td>139429.50000</td>\n",
              "      <td>34.751434</td>\n",
              "    </tr>\n",
              "    <tr>\n",
              "      <th>std</th>\n",
              "      <td>80499.51502</td>\n",
              "      <td>14.428097</td>\n",
              "    </tr>\n",
              "    <tr>\n",
              "      <th>min</th>\n",
              "      <td>1.00000</td>\n",
              "      <td>0.000000</td>\n",
              "    </tr>\n",
              "    <tr>\n",
              "      <th>25%</th>\n",
              "      <td>69715.25000</td>\n",
              "      <td>24.000000</td>\n",
              "    </tr>\n",
              "    <tr>\n",
              "      <th>50%</th>\n",
              "      <td>139429.50000</td>\n",
              "      <td>32.000000</td>\n",
              "    </tr>\n",
              "    <tr>\n",
              "      <th>75%</th>\n",
              "      <td>209143.75000</td>\n",
              "      <td>44.000000</td>\n",
              "    </tr>\n",
              "    <tr>\n",
              "      <th>max</th>\n",
              "      <td>278858.00000</td>\n",
              "      <td>244.000000</td>\n",
              "    </tr>\n",
              "  </tbody>\n",
              "</table>\n",
              "</div>\n",
              "    <div class=\"colab-df-buttons\">\n",
              "\n",
              "  <div class=\"colab-df-container\">\n",
              "    <button class=\"colab-df-convert\" onclick=\"convertToInteractive('df-49c8e892-b548-4ce4-acd8-5729074b4b6d')\"\n",
              "            title=\"Convert this dataframe to an interactive table.\"\n",
              "            style=\"display:none;\">\n",
              "\n",
              "  <svg xmlns=\"http://www.w3.org/2000/svg\" height=\"24px\" viewBox=\"0 -960 960 960\">\n",
              "    <path d=\"M120-120v-720h720v720H120Zm60-500h600v-160H180v160Zm220 220h160v-160H400v160Zm0 220h160v-160H400v160ZM180-400h160v-160H180v160Zm440 0h160v-160H620v160ZM180-180h160v-160H180v160Zm440 0h160v-160H620v160Z\"/>\n",
              "  </svg>\n",
              "    </button>\n",
              "\n",
              "  <style>\n",
              "    .colab-df-container {\n",
              "      display:flex;\n",
              "      gap: 12px;\n",
              "    }\n",
              "\n",
              "    .colab-df-convert {\n",
              "      background-color: #E8F0FE;\n",
              "      border: none;\n",
              "      border-radius: 50%;\n",
              "      cursor: pointer;\n",
              "      display: none;\n",
              "      fill: #1967D2;\n",
              "      height: 32px;\n",
              "      padding: 0 0 0 0;\n",
              "      width: 32px;\n",
              "    }\n",
              "\n",
              "    .colab-df-convert:hover {\n",
              "      background-color: #E2EBFA;\n",
              "      box-shadow: 0px 1px 2px rgba(60, 64, 67, 0.3), 0px 1px 3px 1px rgba(60, 64, 67, 0.15);\n",
              "      fill: #174EA6;\n",
              "    }\n",
              "\n",
              "    .colab-df-buttons div {\n",
              "      margin-bottom: 4px;\n",
              "    }\n",
              "\n",
              "    [theme=dark] .colab-df-convert {\n",
              "      background-color: #3B4455;\n",
              "      fill: #D2E3FC;\n",
              "    }\n",
              "\n",
              "    [theme=dark] .colab-df-convert:hover {\n",
              "      background-color: #434B5C;\n",
              "      box-shadow: 0px 1px 3px 1px rgba(0, 0, 0, 0.15);\n",
              "      filter: drop-shadow(0px 1px 2px rgba(0, 0, 0, 0.3));\n",
              "      fill: #FFFFFF;\n",
              "    }\n",
              "  </style>\n",
              "\n",
              "    <script>\n",
              "      const buttonEl =\n",
              "        document.querySelector('#df-49c8e892-b548-4ce4-acd8-5729074b4b6d button.colab-df-convert');\n",
              "      buttonEl.style.display =\n",
              "        google.colab.kernel.accessAllowed ? 'block' : 'none';\n",
              "\n",
              "      async function convertToInteractive(key) {\n",
              "        const element = document.querySelector('#df-49c8e892-b548-4ce4-acd8-5729074b4b6d');\n",
              "        const dataTable =\n",
              "          await google.colab.kernel.invokeFunction('convertToInteractive',\n",
              "                                                    [key], {});\n",
              "        if (!dataTable) return;\n",
              "\n",
              "        const docLinkHtml = 'Like what you see? Visit the ' +\n",
              "          '<a target=\"_blank\" href=https://colab.research.google.com/notebooks/data_table.ipynb>data table notebook</a>'\n",
              "          + ' to learn more about interactive tables.';\n",
              "        element.innerHTML = '';\n",
              "        dataTable['output_type'] = 'display_data';\n",
              "        await google.colab.output.renderOutput(dataTable, element);\n",
              "        const docLink = document.createElement('div');\n",
              "        docLink.innerHTML = docLinkHtml;\n",
              "        element.appendChild(docLink);\n",
              "      }\n",
              "    </script>\n",
              "  </div>\n",
              "\n",
              "\n",
              "    <div id=\"df-07bda837-9b7f-481f-8fc3-de7066df9530\">\n",
              "      <button class=\"colab-df-quickchart\" onclick=\"quickchart('df-07bda837-9b7f-481f-8fc3-de7066df9530')\"\n",
              "                title=\"Suggest charts\"\n",
              "                style=\"display:none;\">\n",
              "\n",
              "<svg xmlns=\"http://www.w3.org/2000/svg\" height=\"24px\"viewBox=\"0 0 24 24\"\n",
              "     width=\"24px\">\n",
              "    <g>\n",
              "        <path d=\"M19 3H5c-1.1 0-2 .9-2 2v14c0 1.1.9 2 2 2h14c1.1 0 2-.9 2-2V5c0-1.1-.9-2-2-2zM9 17H7v-7h2v7zm4 0h-2V7h2v10zm4 0h-2v-4h2v4z\"/>\n",
              "    </g>\n",
              "</svg>\n",
              "      </button>\n",
              "\n",
              "<style>\n",
              "  .colab-df-quickchart {\n",
              "      --bg-color: #E8F0FE;\n",
              "      --fill-color: #1967D2;\n",
              "      --hover-bg-color: #E2EBFA;\n",
              "      --hover-fill-color: #174EA6;\n",
              "      --disabled-fill-color: #AAA;\n",
              "      --disabled-bg-color: #DDD;\n",
              "  }\n",
              "\n",
              "  [theme=dark] .colab-df-quickchart {\n",
              "      --bg-color: #3B4455;\n",
              "      --fill-color: #D2E3FC;\n",
              "      --hover-bg-color: #434B5C;\n",
              "      --hover-fill-color: #FFFFFF;\n",
              "      --disabled-bg-color: #3B4455;\n",
              "      --disabled-fill-color: #666;\n",
              "  }\n",
              "\n",
              "  .colab-df-quickchart {\n",
              "    background-color: var(--bg-color);\n",
              "    border: none;\n",
              "    border-radius: 50%;\n",
              "    cursor: pointer;\n",
              "    display: none;\n",
              "    fill: var(--fill-color);\n",
              "    height: 32px;\n",
              "    padding: 0;\n",
              "    width: 32px;\n",
              "  }\n",
              "\n",
              "  .colab-df-quickchart:hover {\n",
              "    background-color: var(--hover-bg-color);\n",
              "    box-shadow: 0 1px 2px rgba(60, 64, 67, 0.3), 0 1px 3px 1px rgba(60, 64, 67, 0.15);\n",
              "    fill: var(--button-hover-fill-color);\n",
              "  }\n",
              "\n",
              "  .colab-df-quickchart-complete:disabled,\n",
              "  .colab-df-quickchart-complete:disabled:hover {\n",
              "    background-color: var(--disabled-bg-color);\n",
              "    fill: var(--disabled-fill-color);\n",
              "    box-shadow: none;\n",
              "  }\n",
              "\n",
              "  .colab-df-spinner {\n",
              "    border: 2px solid var(--fill-color);\n",
              "    border-color: transparent;\n",
              "    border-bottom-color: var(--fill-color);\n",
              "    animation:\n",
              "      spin 1s steps(1) infinite;\n",
              "  }\n",
              "\n",
              "  @keyframes spin {\n",
              "    0% {\n",
              "      border-color: transparent;\n",
              "      border-bottom-color: var(--fill-color);\n",
              "      border-left-color: var(--fill-color);\n",
              "    }\n",
              "    20% {\n",
              "      border-color: transparent;\n",
              "      border-left-color: var(--fill-color);\n",
              "      border-top-color: var(--fill-color);\n",
              "    }\n",
              "    30% {\n",
              "      border-color: transparent;\n",
              "      border-left-color: var(--fill-color);\n",
              "      border-top-color: var(--fill-color);\n",
              "      border-right-color: var(--fill-color);\n",
              "    }\n",
              "    40% {\n",
              "      border-color: transparent;\n",
              "      border-right-color: var(--fill-color);\n",
              "      border-top-color: var(--fill-color);\n",
              "    }\n",
              "    60% {\n",
              "      border-color: transparent;\n",
              "      border-right-color: var(--fill-color);\n",
              "    }\n",
              "    80% {\n",
              "      border-color: transparent;\n",
              "      border-right-color: var(--fill-color);\n",
              "      border-bottom-color: var(--fill-color);\n",
              "    }\n",
              "    90% {\n",
              "      border-color: transparent;\n",
              "      border-bottom-color: var(--fill-color);\n",
              "    }\n",
              "  }\n",
              "</style>\n",
              "\n",
              "      <script>\n",
              "        async function quickchart(key) {\n",
              "          const quickchartButtonEl =\n",
              "            document.querySelector('#' + key + ' button');\n",
              "          quickchartButtonEl.disabled = true;  // To prevent multiple clicks.\n",
              "          quickchartButtonEl.classList.add('colab-df-spinner');\n",
              "          try {\n",
              "            const charts = await google.colab.kernel.invokeFunction(\n",
              "                'suggestCharts', [key], {});\n",
              "          } catch (error) {\n",
              "            console.error('Error during call to suggestCharts:', error);\n",
              "          }\n",
              "          quickchartButtonEl.classList.remove('colab-df-spinner');\n",
              "          quickchartButtonEl.classList.add('colab-df-quickchart-complete');\n",
              "        }\n",
              "        (() => {\n",
              "          let quickchartButtonEl =\n",
              "            document.querySelector('#df-07bda837-9b7f-481f-8fc3-de7066df9530 button');\n",
              "          quickchartButtonEl.style.display =\n",
              "            google.colab.kernel.accessAllowed ? 'block' : 'none';\n",
              "        })();\n",
              "      </script>\n",
              "    </div>\n",
              "\n",
              "    </div>\n",
              "  </div>\n"
            ],
            "application/vnd.google.colaboratory.intrinsic+json": {
              "type": "dataframe",
              "summary": "{\n  \"name\": \"users\",\n  \"rows\": 8,\n  \"fields\": [\n    {\n      \"column\": \"User-ID\",\n      \"properties\": {\n        \"dtype\": \"number\",\n        \"std\": 100501.4675852522,\n        \"min\": 1.0,\n        \"max\": 278858.0,\n        \"num_unique_values\": 6,\n        \"samples\": [\n          278858.0,\n          139429.5,\n          209143.75\n        ],\n        \"semantic_type\": \"\",\n        \"description\": \"\"\n      }\n    },\n    {\n      \"column\": \"Age\",\n      \"properties\": {\n        \"dtype\": \"number\",\n        \"std\": 59411.10316076062,\n        \"min\": 0.0,\n        \"max\": 168096.0,\n        \"num_unique_values\": 8,\n        \"samples\": [\n          34.75143370454978,\n          32.0,\n          168096.0\n        ],\n        \"semantic_type\": \"\",\n        \"description\": \"\"\n      }\n    }\n  ]\n}"
            }
          },
          "metadata": {},
          "execution_count": 14
        }
      ],
      "execution_count": 14
    },
    {
      "cell_type": "markdown",
      "source": [
        "Insight:\n",
        "\n",
        "* Rata-rata usia pengguna dalam dataset adalah sekitar 34,75 tahun, dengan mayoritas pengguna berada dalam rentang usia dewasa\n",
        "* Usia termuda yang tercatat adalah 0 dan tertua adalah 244, yang mengindikasikan adanya outlier atau entri tidak valid pada kolom Age\n",
        "* 50% pengguna berusia di bawah 32 tahun, menunjukkan distribusi usia yang cenderung lebih muda\n",
        "* Usia kuartil pertama (Q1) berada di 24 tahun dan kuartil ketiga (Q3) di 44 tahun, sehingga sebagian besar pengguna berusia antara 24 hingga 44 tahun"
      ],
      "metadata": {
        "id": "I78NX8srqW-3"
      },
      "id": "I78NX8srqW-3"
    },
    {
      "metadata": {
        "ExecuteTime": {
          "end_time": "2025-04-24T09:12:19.364226Z",
          "start_time": "2025-04-24T09:12:19.328095Z"
        },
        "colab": {
          "base_uri": "https://localhost:8080/"
        },
        "id": "e4dab6dfe6d6c812",
        "outputId": "e3dac5ca-c65e-42f9-f1ac-07a0d157da42"
      },
      "cell_type": "code",
      "source": [
        "print(f\"Unique Users: {users['User-ID'].nunique()}\")\n",
        "print(f\"Unique Locations: {users['Location'].nunique()}\")"
      ],
      "id": "e4dab6dfe6d6c812",
      "outputs": [
        {
          "output_type": "stream",
          "name": "stdout",
          "text": [
            "Unique Users: 278858\n",
            "Unique Locations: 57339\n"
          ]
        }
      ],
      "execution_count": 15
    },
    {
      "cell_type": "markdown",
      "source": [
        "#### Checking Missing Values in Users"
      ],
      "metadata": {
        "id": "Co4BLa0kuW5z"
      },
      "id": "Co4BLa0kuW5z"
    },
    {
      "metadata": {
        "ExecuteTime": {
          "end_time": "2025-04-24T09:12:19.380177Z",
          "start_time": "2025-04-24T09:12:19.365100Z"
        },
        "colab": {
          "base_uri": "https://localhost:8080/"
        },
        "id": "eee344d319c9e141",
        "outputId": "6a2aaa1d-3e51-4a70-91a4-5397c3ad130c"
      },
      "cell_type": "code",
      "source": [
        "print(\"Missing values in Users:\")\n",
        "print(users.isnull().sum(), \"\\n\")"
      ],
      "id": "eee344d319c9e141",
      "outputs": [
        {
          "output_type": "stream",
          "name": "stdout",
          "text": [
            "Missing values in Users:\n",
            "User-ID          0\n",
            "Location         0\n",
            "Age         110762\n",
            "dtype: int64 \n",
            "\n"
          ]
        }
      ],
      "execution_count": 16
    },
    {
      "cell_type": "markdown",
      "source": [
        "Insight:\n",
        "\n",
        "* Kolom Age memiliki 110762 nilai yang hilang dari total 278858 entri\n",
        "* Kolom User-ID dan Location tidak memiliki missing value\n",
        "* Persentase missing value pada Age sekitar 40 persen sehingga perlu penanganan khusus sebelum digunakan dalam analisis atau pelatihan model"
      ],
      "metadata": {
        "id": "0Vnxdw0XrbPM"
      },
      "id": "0Vnxdw0XrbPM"
    },
    {
      "cell_type": "markdown",
      "source": [
        "#### Distribution of Users by Age Group"
      ],
      "metadata": {
        "id": "FlaJivhZlS2y"
      },
      "id": "FlaJivhZlS2y"
    },
    {
      "metadata": {
        "ExecuteTime": {
          "end_time": "2025-04-24T09:12:19.678280Z",
          "start_time": "2025-04-24T09:12:19.381136Z"
        },
        "colab": {
          "base_uri": "https://localhost:8080/",
          "height": 427
        },
        "id": "747f3ff0e4c7589e",
        "outputId": "17c60690-a9a0-4df3-879d-f12bff2e2dd6"
      },
      "cell_type": "code",
      "source": [
        "filtered_users = users[(users['Age'] >= 5) & (users['Age'] <= 100)].copy()\n",
        "\n",
        "def get_age_group(age):\n",
        "    if age <= 12:\n",
        "        return 'Child'\n",
        "    elif age <= 20:\n",
        "        return 'Teenager'\n",
        "    elif age <= 59:\n",
        "        return 'Adult'\n",
        "    else:\n",
        "        return 'Senior'\n",
        "\n",
        "filtered_users['AgeGroup'] = filtered_users['Age'].apply(get_age_group)\n",
        "\n",
        "plt.figure(figsize=(8, 5))\n",
        "ax = sns.countplot(data=filtered_users, x='AgeGroup', order=['Child', 'Teenager', 'Adult', 'Senior'], palette='Oranges', hue='AgeGroup', legend=False)\n",
        "\n",
        "for container in ax.containers:\n",
        "    ax.bar_label(container, fmt='%d', label_type='edge', padding=3)\n",
        "\n",
        "plt.title(\"Distribution of Users by Age Group\")\n",
        "plt.xlabel(\"Age Group\")\n",
        "plt.ylabel(\"Number of Users\")\n",
        "plt.show()"
      ],
      "id": "747f3ff0e4c7589e",
      "outputs": [
        {
          "output_type": "display_data",
          "data": {
            "text/plain": [
              "<Figure size 800x500 with 1 Axes>"
            ],
            "image/png": "[encoded data removed]"
          },
          "metadata": {}
        }
      ],
      "execution_count": 17
    },
    {
      "cell_type": "markdown",
      "source": [
        "Insight:\n",
        "\n",
        "* mayoritas pengguna berada pada kelompok usia Dewasa (21–59 tahun) dengan jumlah mencapai 134.883 pengguna, menunjukkan bahwa segmen usia dewasa merupakan pengguna dominan dalam dataset\n",
        "* kelompok Remaja (13–20 tahun) menempati posisi kedua dengan 22.553 pengguna, menandakan keterlibatan cukup besar dari pengguna usia remaja\n",
        "* kelompok Lansia (60+ tahun) memiliki 8.828 pengguna, menunjukkan partisipasi yang lebih rendah namun tetap signifikan dari pengguna lanjut usia\n",
        "* kelompok Anak-anak (5–12 tahun) adalah yang paling sedikit dengan hanya 584 pengguna, yang mungkin mencerminkan akses atau relevansi rendah terhadap platform atau konten buku yang tersedia"
      ],
      "metadata": {
        "id": "8LQX6FZcuMIU"
      },
      "id": "8LQX6FZcuMIU"
    },
    {
      "cell_type": "markdown",
      "source": [
        "#### Checking Outliers of User Age"
      ],
      "metadata": {
        "id": "BbqDmdQQlWrP"
      },
      "id": "BbqDmdQQlWrP"
    },
    {
      "metadata": {
        "ExecuteTime": {
          "end_time": "2025-04-24T09:12:19.937933Z",
          "start_time": "2025-04-24T09:12:19.679439Z"
        },
        "colab": {
          "base_uri": "https://localhost:8080/",
          "height": 401
        },
        "id": "ee3bb0d148b80076",
        "outputId": "9a9ae8f4-f349-4a39-e566-2d0a951fb708"
      },
      "cell_type": "code",
      "source": [
        "plt.figure(figsize=(8, 4))\n",
        "\n",
        "sns.boxplot(x=users['Age'], color='coral')\n",
        "\n",
        "plt.title(\"Box Plot of User Age\")\n",
        "plt.xlabel(\"Age\")\n",
        "plt.show()"
      ],
      "id": "ee3bb0d148b80076",
      "outputs": [
        {
          "output_type": "display_data",
          "data": {
            "text/plain": [
              "<Figure size 800x400 with 1 Axes>"
            ],
            "image/png": "[encoded data removed]"
          },
          "metadata": {}
        }
      ],
      "execution_count": 18
    },
    {
      "cell_type": "markdown",
      "source": [
        "Insight:\n",
        "\n",
        "* Distribusi usia pengguna menunjukkan adanya banyak outlier, terutama di atas usia 100 tahun, yang secara realistis tidak masuk akal\n",
        "* Sebagian besar data usia terkonsentrasi antara rentang usia 20 hingga 50 tahun\n",
        "* Kehadiran nilai ekstrem hingga usia mendekati 250 tahun"
      ],
      "metadata": {
        "id": "JPrBfiUfuZ0r"
      },
      "id": "JPrBfiUfuZ0r"
    },
    {
      "metadata": {
        "id": "d067a5382d7189"
      },
      "cell_type": "markdown",
      "source": [
        "### Ratings Variable"
      ],
      "id": "d067a5382d7189"
    },
    {
      "metadata": {
        "ExecuteTime": {
          "end_time": "2025-04-24T09:12:19.978628Z",
          "start_time": "2025-04-24T09:12:19.938785Z"
        },
        "colab": {
          "base_uri": "https://localhost:8080/"
        },
        "id": "c95b4c32aebca503",
        "outputId": "7b4c86a3-b17b-4afe-846a-76f37af7b8a4"
      },
      "cell_type": "code",
      "source": [
        "ratings.info()"
      ],
      "id": "c95b4c32aebca503",
      "outputs": [
        {
          "output_type": "stream",
          "name": "stdout",
          "text": [
            "<class 'pandas.core.frame.DataFrame'>\n",
            "RangeIndex: 1149780 entries, 0 to 1149779\n",
            "Data columns (total 3 columns):\n",
            " #   Column       Non-Null Count    Dtype \n",
            "---  ------       --------------    ----- \n",
            " 0   User-ID      1149780 non-null  int64 \n",
            " 1   ISBN         1149780 non-null  object\n",
            " 2   Book-Rating  1149780 non-null  int64 \n",
            "dtypes: int64(2), object(1)\n",
            "memory usage: 26.3+ MB\n"
          ]
        }
      ],
      "execution_count": 19
    },
    {
      "cell_type": "markdown",
      "source": [
        "Insight:\n",
        "\n",
        "* Terdiri dari 1.149.780 entri tanpa nilai kosong, menandakan data lengkap dan siap digunakan untuk analisis\n",
        "* User-ID dan Book-Rating bertipe data integer, sedangkan ISBN bertipe objek (string)\n",
        "* Tidak adanya missing value pada ketiga kolom menunjukkan kualitas data yang baik dari sisi kelengkapan informasi"
      ],
      "metadata": {
        "id": "KAni3F7Lu6QH"
      },
      "id": "KAni3F7Lu6QH"
    },
    {
      "metadata": {
        "ExecuteTime": {
          "end_time": "2025-04-24T09:12:20.051099Z",
          "start_time": "2025-04-24T09:12:19.979334Z"
        },
        "colab": {
          "base_uri": "https://localhost:8080/",
          "height": 300
        },
        "id": "c7b01810f4edf9a3",
        "outputId": "bb6871e0-e84b-4f49-9f50-b2f5e32ebe50"
      },
      "cell_type": "code",
      "source": [
        "ratings.describe()"
      ],
      "id": "c7b01810f4edf9a3",
      "outputs": [
        {
          "output_type": "execute_result",
          "data": {
            "text/plain": [
              "            User-ID   Book-Rating\n",
              "count  1.149780e+06  1.149780e+06\n",
              "mean   1.403864e+05  2.866950e+00\n",
              "std    8.056228e+04  3.854184e+00\n",
              "min    2.000000e+00  0.000000e+00\n",
              "25%    7.034500e+04  0.000000e+00\n",
              "50%    1.410100e+05  0.000000e+00\n",
              "75%    2.110280e+05  7.000000e+00\n",
              "max    2.788540e+05  1.000000e+01"
            ],
            "text/html": [
              "\n",
              "  <div id=\"df-8bf60be2-2baa-4d1b-9d9b-001f648af415\" class=\"colab-df-container\">\n",
              "    <div>\n",
              "<style scoped>\n",
              "    .dataframe tbody tr th:only-of-type {\n",
              "        vertical-align: middle;\n",
              "    }\n",
              "\n",
              "    .dataframe tbody tr th {\n",
              "        vertical-align: top;\n",
              "    }\n",
              "\n",
              "    .dataframe thead th {\n",
              "        text-align: right;\n",
              "    }\n",
              "</style>\n",
              "<table border=\"1\" class=\"dataframe\">\n",
              "  <thead>\n",
              "    <tr style=\"text-align: right;\">\n",
              "      <th></th>\n",
              "      <th>User-ID</th>\n",
              "      <th>Book-Rating</th>\n",
              "    </tr>\n",
              "  </thead>\n",
              "  <tbody>\n",
              "    <tr>\n",
              "      <th>count</th>\n",
              "      <td>1.149780e+06</td>\n",
              "      <td>1.149780e+06</td>\n",
              "    </tr>\n",
              "    <tr>\n",
              "      <th>mean</th>\n",
              "      <td>1.403864e+05</td>\n",
              "      <td>2.866950e+00</td>\n",
              "    </tr>\n",
              "    <tr>\n",
              "      <th>std</th>\n",
              "      <td>8.056228e+04</td>\n",
              "      <td>3.854184e+00</td>\n",
              "    </tr>\n",
              "    <tr>\n",
              "      <th>min</th>\n",
              "      <td>2.000000e+00</td>\n",
              "      <td>0.000000e+00</td>\n",
              "    </tr>\n",
              "    <tr>\n",
              "      <th>25%</th>\n",
              "      <td>7.034500e+04</td>\n",
              "      <td>0.000000e+00</td>\n",
              "    </tr>\n",
              "    <tr>\n",
              "      <th>50%</th>\n",
              "      <td>1.410100e+05</td>\n",
              "      <td>0.000000e+00</td>\n",
              "    </tr>\n",
              "    <tr>\n",
              "      <th>75%</th>\n",
              "      <td>2.110280e+05</td>\n",
              "      <td>7.000000e+00</td>\n",
              "    </tr>\n",
              "    <tr>\n",
              "      <th>max</th>\n",
              "      <td>2.788540e+05</td>\n",
              "      <td>1.000000e+01</td>\n",
              "    </tr>\n",
              "  </tbody>\n",
              "</table>\n",
              "</div>\n",
              "    <div class=\"colab-df-buttons\">\n",
              "\n",
              "  <div class=\"colab-df-container\">\n",
              "    <button class=\"colab-df-convert\" onclick=\"convertToInteractive('df-8bf60be2-2baa-4d1b-9d9b-001f648af415')\"\n",
              "            title=\"Convert this dataframe to an interactive table.\"\n",
              "            style=\"display:none;\">\n",
              "\n",
              "  <svg xmlns=\"http://www.w3.org/2000/svg\" height=\"24px\" viewBox=\"0 -960 960 960\">\n",
              "    <path d=\"M120-120v-720h720v720H120Zm60-500h600v-160H180v160Zm220 220h160v-160H400v160Zm0 220h160v-160H400v160ZM180-400h160v-160H180v160Zm440 0h160v-160H620v160ZM180-180h160v-160H180v160Zm440 0h160v-160H620v160Z\"/>\n",
              "  </svg>\n",
              "    </button>\n",
              "\n",
              "  <style>\n",
              "    .colab-df-container {\n",
              "      display:flex;\n",
              "      gap: 12px;\n",
              "    }\n",
              "\n",
              "    .colab-df-convert {\n",
              "      background-color: #E8F0FE;\n",
              "      border: none;\n",
              "      border-radius: 50%;\n",
              "      cursor: pointer;\n",
              "      display: none;\n",
              "      fill: #1967D2;\n",
              "      height: 32px;\n",
              "      padding: 0 0 0 0;\n",
              "      width: 32px;\n",
              "    }\n",
              "\n",
              "    .colab-df-convert:hover {\n",
              "      background-color: #E2EBFA;\n",
              "      box-shadow: 0px 1px 2px rgba(60, 64, 67, 0.3), 0px 1px 3px 1px rgba(60, 64, 67, 0.15);\n",
              "      fill: #174EA6;\n",
              "    }\n",
              "\n",
              "    .colab-df-buttons div {\n",
              "      margin-bottom: 4px;\n",
              "    }\n",
              "\n",
              "    [theme=dark] .colab-df-convert {\n",
              "      background-color: #3B4455;\n",
              "      fill: #D2E3FC;\n",
              "    }\n",
              "\n",
              "    [theme=dark] .colab-df-convert:hover {\n",
              "      background-color: #434B5C;\n",
              "      box-shadow: 0px 1px 3px 1px rgba(0, 0, 0, 0.15);\n",
              "      filter: drop-shadow(0px 1px 2px rgba(0, 0, 0, 0.3));\n",
              "      fill: #FFFFFF;\n",
              "    }\n",
              "  </style>\n",
              "\n",
              "    <script>\n",
              "      const buttonEl =\n",
              "        document.querySelector('#df-8bf60be2-2baa-4d1b-9d9b-001f648af415 button.colab-df-convert');\n",
              "      buttonEl.style.display =\n",
              "        google.colab.kernel.accessAllowed ? 'block' : 'none';\n",
              "\n",
              "      async function convertToInteractive(key) {\n",
              "        const element = document.querySelector('#df-8bf60be2-2baa-4d1b-9d9b-001f648af415');\n",
              "        const dataTable =\n",
              "          await google.colab.kernel.invokeFunction('convertToInteractive',\n",
              "                                                    [key], {});\n",
              "        if (!dataTable) return;\n",
              "\n",
              "        const docLinkHtml = 'Like what you see? Visit the ' +\n",
              "          '<a target=\"_blank\" href=https://colab.research.google.com/notebooks/data_table.ipynb>data table notebook</a>'\n",
              "          + ' to learn more about interactive tables.';\n",
              "        element.innerHTML = '';\n",
              "        dataTable['output_type'] = 'display_data';\n",
              "        await google.colab.output.renderOutput(dataTable, element);\n",
              "        const docLink = document.createElement('div');\n",
              "        docLink.innerHTML = docLinkHtml;\n",
              "        element.appendChild(docLink);\n",
              "      }\n",
              "    </script>\n",
              "  </div>\n",
              "\n",
              "\n",
              "    <div id=\"df-ead93ba9-8945-4dee-a723-645ea7cac22c\">\n",
              "      <button class=\"colab-df-quickchart\" onclick=\"quickchart('df-ead93ba9-8945-4dee-a723-645ea7cac22c')\"\n",
              "                title=\"Suggest charts\"\n",
              "                style=\"display:none;\">\n",
              "\n",
              "<svg xmlns=\"http://www.w3.org/2000/svg\" height=\"24px\"viewBox=\"0 0 24 24\"\n",
              "     width=\"24px\">\n",
              "    <g>\n",
              "        <path d=\"M19 3H5c-1.1 0-2 .9-2 2v14c0 1.1.9 2 2 2h14c1.1 0 2-.9 2-2V5c0-1.1-.9-2-2-2zM9 17H7v-7h2v7zm4 0h-2V7h2v10zm4 0h-2v-4h2v4z\"/>\n",
              "    </g>\n",
              "</svg>\n",
              "      </button>\n",
              "\n",
              "<style>\n",
              "  .colab-df-quickchart {\n",
              "      --bg-color: #E8F0FE;\n",
              "      --fill-color: #1967D2;\n",
              "      --hover-bg-color: #E2EBFA;\n",
              "      --hover-fill-color: #174EA6;\n",
              "      --disabled-fill-color: #AAA;\n",
              "      --disabled-bg-color: #DDD;\n",
              "  }\n",
              "\n",
              "  [theme=dark] .colab-df-quickchart {\n",
              "      --bg-color: #3B4455;\n",
              "      --fill-color: #D2E3FC;\n",
              "      --hover-bg-color: #434B5C;\n",
              "      --hover-fill-color: #FFFFFF;\n",
              "      --disabled-bg-color: #3B4455;\n",
              "      --disabled-fill-color: #666;\n",
              "  }\n",
              "\n",
              "  .colab-df-quickchart {\n",
              "    background-color: var(--bg-color);\n",
              "    border: none;\n",
              "    border-radius: 50%;\n",
              "    cursor: pointer;\n",
              "    display: none;\n",
              "    fill: var(--fill-color);\n",
              "    height: 32px;\n",
              "    padding: 0;\n",
              "    width: 32px;\n",
              "  }\n",
              "\n",
              "  .colab-df-quickchart:hover {\n",
              "    background-color: var(--hover-bg-color);\n",
              "    box-shadow: 0 1px 2px rgba(60, 64, 67, 0.3), 0 1px 3px 1px rgba(60, 64, 67, 0.15);\n",
              "    fill: var(--button-hover-fill-color);\n",
              "  }\n",
              "\n",
              "  .colab-df-quickchart-complete:disabled,\n",
              "  .colab-df-quickchart-complete:disabled:hover {\n",
              "    background-color: var(--disabled-bg-color);\n",
              "    fill: var(--disabled-fill-color);\n",
              "    box-shadow: none;\n",
              "  }\n",
              "\n",
              "  .colab-df-spinner {\n",
              "    border: 2px solid var(--fill-color);\n",
              "    border-color: transparent;\n",
              "    border-bottom-color: var(--fill-color);\n",
              "    animation:\n",
              "      spin 1s steps(1) infinite;\n",
              "  }\n",
              "\n",
              "  @keyframes spin {\n",
              "    0% {\n",
              "      border-color: transparent;\n",
              "      border-bottom-color: var(--fill-color);\n",
              "      border-left-color: var(--fill-color);\n",
              "    }\n",
              "    20% {\n",
              "      border-color: transparent;\n",
              "      border-left-color: var(--fill-color);\n",
              "      border-top-color: var(--fill-color);\n",
              "    }\n",
              "    30% {\n",
              "      border-color: transparent;\n",
              "      border-left-color: var(--fill-color);\n",
              "      border-top-color: var(--fill-color);\n",
              "      border-right-color: var(--fill-color);\n",
              "    }\n",
              "    40% {\n",
              "      border-color: transparent;\n",
              "      border-right-color: var(--fill-color);\n",
              "      border-top-color: var(--fill-color);\n",
              "    }\n",
              "    60% {\n",
              "      border-color: transparent;\n",
              "      border-right-color: var(--fill-color);\n",
              "    }\n",
              "    80% {\n",
              "      border-color: transparent;\n",
              "      border-right-color: var(--fill-color);\n",
              "      border-bottom-color: var(--fill-color);\n",
              "    }\n",
              "    90% {\n",
              "      border-color: transparent;\n",
              "      border-bottom-color: var(--fill-color);\n",
              "    }\n",
              "  }\n",
              "</style>\n",
              "\n",
              "      <script>\n",
              "        async function quickchart(key) {\n",
              "          const quickchartButtonEl =\n",
              "            document.querySelector('#' + key + ' button');\n",
              "          quickchartButtonEl.disabled = true;  // To prevent multiple clicks.\n",
              "          quickchartButtonEl.classList.add('colab-df-spinner');\n",
              "          try {\n",
              "            const charts = await google.colab.kernel.invokeFunction(\n",
              "                'suggestCharts', [key], {});\n",
              "          } catch (error) {\n",
              "            console.error('Error during call to suggestCharts:', error);\n",
              "          }\n",
              "          quickchartButtonEl.classList.remove('colab-df-spinner');\n",
              "          quickchartButtonEl.classList.add('colab-df-quickchart-complete');\n",
              "        }\n",
              "        (() => {\n",
              "          let quickchartButtonEl =\n",
              "            document.querySelector('#df-ead93ba9-8945-4dee-a723-645ea7cac22c button');\n",
              "          quickchartButtonEl.style.display =\n",
              "            google.colab.kernel.accessAllowed ? 'block' : 'none';\n",
              "        })();\n",
              "      </script>\n",
              "    </div>\n",
              "\n",
              "    </div>\n",
              "  </div>\n"
            ],
            "application/vnd.google.colaboratory.intrinsic+json": {
              "type": "dataframe",
              "summary": "{\n  \"name\": \"ratings\",\n  \"rows\": 8,\n  \"fields\": [\n    {\n      \"column\": \"User-ID\",\n      \"properties\": {\n        \"dtype\": \"number\",\n        \"std\": 370074.5144065263,\n        \"min\": 2.0,\n        \"max\": 1149780.0,\n        \"num_unique_values\": 8,\n        \"samples\": [\n          140386.39512602412,\n          141010.0,\n          1149780.0\n        ],\n        \"semantic_type\": \"\",\n        \"description\": \"\"\n      }\n    },\n    {\n      \"column\": \"Book-Rating\",\n      \"properties\": {\n        \"dtype\": \"number\",\n        \"std\": 406507.41935424885,\n        \"min\": 0.0,\n        \"max\": 1149780.0,\n        \"num_unique_values\": 6,\n        \"samples\": [\n          1149780.0,\n          2.8669501991685364,\n          10.0\n        ],\n        \"semantic_type\": \"\",\n        \"description\": \"\"\n      }\n    }\n  ]\n}"
            }
          },
          "metadata": {},
          "execution_count": 20
        }
      ],
      "execution_count": 20
    },
    {
      "cell_type": "markdown",
      "source": [
        "Insight:\n",
        "\n",
        "* nilai Book-Rating memiliki rentang dari 0 hingga 10 dengan rata-rata sekitar 2,87, menandakan sebagian besar rating cenderung rendah\n",
        "* nilai tengah (median) Book-Rating adalah 0, yang berarti lebih dari setengah rating bernilai nol\n",
        "* hanya 25% teratas dari rating yang bernilai 7 ke atas, menunjukkan bahwa rating tinggi relatif jarang diberikan\n",
        "* sebaran User-ID menunjukkan distribusi pengguna yang cukup merata dengan nilai ID dari 2 hingga 278.854\n",
        "* nilai standar deviasi Book-Rating yang tinggi (3,85) mengindikasikan variasi penilaian pengguna yang sangat besar terhadap buku-buku yang ada\n"
      ],
      "metadata": {
        "id": "1fv8ofMmvST5"
      },
      "id": "1fv8ofMmvST5"
    },
    {
      "metadata": {
        "ExecuteTime": {
          "end_time": "2025-04-24T09:12:20.056337Z",
          "start_time": "2025-04-24T09:12:20.052074Z"
        },
        "colab": {
          "base_uri": "https://localhost:8080/",
          "height": 423
        },
        "id": "11efe59291ed00ca",
        "outputId": "c929e0c9-a994-435c-b9f6-37b26de30a28"
      },
      "cell_type": "code",
      "source": [
        "ratings"
      ],
      "id": "11efe59291ed00ca",
      "outputs": [
        {
          "output_type": "execute_result",
          "data": {
            "text/plain": [
              "         User-ID         ISBN  Book-Rating\n",
              "0         276725   034545104X            0\n",
              "1         276726   0155061224            5\n",
              "2         276727   0446520802            0\n",
              "3         276729   052165615X            3\n",
              "4         276729   0521795028            6\n",
              "...          ...          ...          ...\n",
              "1149775   276704   1563526298            9\n",
              "1149776   276706   0679447156            0\n",
              "1149777   276709   0515107662           10\n",
              "1149778   276721   0590442449           10\n",
              "1149779   276723  05162443314            8\n",
              "\n",
              "[1149780 rows x 3 columns]"
            ],
            "text/html": [
              "\n",
              "  <div id=\"df-8fb66ee5-8c25-40a5-856d-7edda262e42a\" class=\"colab-df-container\">\n",
              "    <div>\n",
              "<style scoped>\n",
              "    .dataframe tbody tr th:only-of-type {\n",
              "        vertical-align: middle;\n",
              "    }\n",
              "\n",
              "    .dataframe tbody tr th {\n",
              "        vertical-align: top;\n",
              "    }\n",
              "\n",
              "    .dataframe thead th {\n",
              "        text-align: right;\n",
              "    }\n",
              "</style>\n",
              "<table border=\"1\" class=\"dataframe\">\n",
              "  <thead>\n",
              "    <tr style=\"text-align: right;\">\n",
              "      <th></th>\n",
              "      <th>User-ID</th>\n",
              "      <th>ISBN</th>\n",
              "      <th>Book-Rating</th>\n",
              "    </tr>\n",
              "  </thead>\n",
              "  <tbody>\n",
              "    <tr>\n",
              "      <th>0</th>\n",
              "      <td>276725</td>\n",
              "      <td>034545104X</td>\n",
              "      <td>0</td>\n",
              "    </tr>\n",
              "    <tr>\n",
              "      <th>1</th>\n",
              "      <td>276726</td>\n",
              "      <td>0155061224</td>\n",
              "      <td>5</td>\n",
              "    </tr>\n",
              "    <tr>\n",
              "      <th>2</th>\n",
              "      <td>276727</td>\n",
              "      <td>0446520802</td>\n",
              "      <td>0</td>\n",
              "    </tr>\n",
              "    <tr>\n",
              "      <th>3</th>\n",
              "      <td>276729</td>\n",
              "      <td>052165615X</td>\n",
              "      <td>3</td>\n",
              "    </tr>\n",
              "    <tr>\n",
              "      <th>4</th>\n",
              "      <td>276729</td>\n",
              "      <td>0521795028</td>\n",
              "      <td>6</td>\n",
              "    </tr>\n",
              "    <tr>\n",
              "      <th>...</th>\n",
              "      <td>...</td>\n",
              "      <td>...</td>\n",
              "      <td>...</td>\n",
              "    </tr>\n",
              "    <tr>\n",
              "      <th>1149775</th>\n",
              "      <td>276704</td>\n",
              "      <td>1563526298</td>\n",
              "      <td>9</td>\n",
              "    </tr>\n",
              "    <tr>\n",
              "      <th>1149776</th>\n",
              "      <td>276706</td>\n",
              "      <td>0679447156</td>\n",
              "      <td>0</td>\n",
              "    </tr>\n",
              "    <tr>\n",
              "      <th>1149777</th>\n",
              "      <td>276709</td>\n",
              "      <td>0515107662</td>\n",
              "      <td>10</td>\n",
              "    </tr>\n",
              "    <tr>\n",
              "      <th>1149778</th>\n",
              "      <td>276721</td>\n",
              "      <td>0590442449</td>\n",
              "      <td>10</td>\n",
              "    </tr>\n",
              "    <tr>\n",
              "      <th>1149779</th>\n",
              "      <td>276723</td>\n",
              "      <td>05162443314</td>\n",
              "      <td>8</td>\n",
              "    </tr>\n",
              "  </tbody>\n",
              "</table>\n",
              "<p>1149780 rows × 3 columns</p>\n",
              "</div>\n",
              "    <div class=\"colab-df-buttons\">\n",
              "\n",
              "  <div class=\"colab-df-container\">\n",
              "    <button class=\"colab-df-convert\" onclick=\"convertToInteractive('df-8fb66ee5-8c25-40a5-856d-7edda262e42a')\"\n",
              "            title=\"Convert this dataframe to an interactive table.\"\n",
              "            style=\"display:none;\">\n",
              "\n",
              "  <svg xmlns=\"http://www.w3.org/2000/svg\" height=\"24px\" viewBox=\"0 -960 960 960\">\n",
              "    <path d=\"M120-120v-720h720v720H120Zm60-500h600v-160H180v160Zm220 220h160v-160H400v160Zm0 220h160v-160H400v160ZM180-400h160v-160H180v160Zm440 0h160v-160H620v160ZM180-180h160v-160H180v160Zm440 0h160v-160H620v160Z\"/>\n",
              "  </svg>\n",
              "    </button>\n",
              "\n",
              "  <style>\n",
              "    .colab-df-container {\n",
              "      display:flex;\n",
              "      gap: 12px;\n",
              "    }\n",
              "\n",
              "    .colab-df-convert {\n",
              "      background-color: #E8F0FE;\n",
              "      border: none;\n",
              "      border-radius: 50%;\n",
              "      cursor: pointer;\n",
              "      display: none;\n",
              "      fill: #1967D2;\n",
              "      height: 32px;\n",
              "      padding: 0 0 0 0;\n",
              "      width: 32px;\n",
              "    }\n",
              "\n",
              "    .colab-df-convert:hover {\n",
              "      background-color: #E2EBFA;\n",
              "      box-shadow: 0px 1px 2px rgba(60, 64, 67, 0.3), 0px 1px 3px 1px rgba(60, 64, 67, 0.15);\n",
              "      fill: #174EA6;\n",
              "    }\n",
              "\n",
              "    .colab-df-buttons div {\n",
              "      margin-bottom: 4px;\n",
              "    }\n",
              "\n",
              "    [theme=dark] .colab-df-convert {\n",
              "      background-color: #3B4455;\n",
              "      fill: #D2E3FC;\n",
              "    }\n",
              "\n",
              "    [theme=dark] .colab-df-convert:hover {\n",
              "      background-color: #434B5C;\n",
              "      box-shadow: 0px 1px 3px 1px rgba(0, 0, 0, 0.15);\n",
              "      filter: drop-shadow(0px 1px 2px rgba(0, 0, 0, 0.3));\n",
              "      fill: #FFFFFF;\n",
              "    }\n",
              "  </style>\n",
              "\n",
              "    <script>\n",
              "      const buttonEl =\n",
              "        document.querySelector('#df-8fb66ee5-8c25-40a5-856d-7edda262e42a button.colab-df-convert');\n",
              "      buttonEl.style.display =\n",
              "        google.colab.kernel.accessAllowed ? 'block' : 'none';\n",
              "\n",
              "      async function convertToInteractive(key) {\n",
              "        const element = document.querySelector('#df-8fb66ee5-8c25-40a5-856d-7edda262e42a');\n",
              "        const dataTable =\n",
              "          await google.colab.kernel.invokeFunction('convertToInteractive',\n",
              "                                                    [key], {});\n",
              "        if (!dataTable) return;\n",
              "\n",
              "        const docLinkHtml = 'Like what you see? Visit the ' +\n",
              "          '<a target=\"_blank\" href=https://colab.research.google.com/notebooks/data_table.ipynb>data table notebook</a>'\n",
              "          + ' to learn more about interactive tables.';\n",
              "        element.innerHTML = '';\n",
              "        dataTable['output_type'] = 'display_data';\n",
              "        await google.colab.output.renderOutput(dataTable, element);\n",
              "        const docLink = document.createElement('div');\n",
              "        docLink.innerHTML = docLinkHtml;\n",
              "        element.appendChild(docLink);\n",
              "      }\n",
              "    </script>\n",
              "  </div>\n",
              "\n",
              "\n",
              "    <div id=\"df-c0dac0dc-cde2-46c7-aa1a-1bb8d1ab60b4\">\n",
              "      <button class=\"colab-df-quickchart\" onclick=\"quickchart('df-c0dac0dc-cde2-46c7-aa1a-1bb8d1ab60b4')\"\n",
              "                title=\"Suggest charts\"\n",
              "                style=\"display:none;\">\n",
              "\n",
              "<svg xmlns=\"http://www.w3.org/2000/svg\" height=\"24px\"viewBox=\"0 0 24 24\"\n",
              "     width=\"24px\">\n",
              "    <g>\n",
              "        <path d=\"M19 3H5c-1.1 0-2 .9-2 2v14c0 1.1.9 2 2 2h14c1.1 0 2-.9 2-2V5c0-1.1-.9-2-2-2zM9 17H7v-7h2v7zm4 0h-2V7h2v10zm4 0h-2v-4h2v4z\"/>\n",
              "    </g>\n",
              "</svg>\n",
              "      </button>\n",
              "\n",
              "<style>\n",
              "  .colab-df-quickchart {\n",
              "      --bg-color: #E8F0FE;\n",
              "      --fill-color: #1967D2;\n",
              "      --hover-bg-color: #E2EBFA;\n",
              "      --hover-fill-color: #174EA6;\n",
              "      --disabled-fill-color: #AAA;\n",
              "      --disabled-bg-color: #DDD;\n",
              "  }\n",
              "\n",
              "  [theme=dark] .colab-df-quickchart {\n",
              "      --bg-color: #3B4455;\n",
              "      --fill-color: #D2E3FC;\n",
              "      --hover-bg-color: #434B5C;\n",
              "      --hover-fill-color: #FFFFFF;\n",
              "      --disabled-bg-color: #3B4455;\n",
              "      --disabled-fill-color: #666;\n",
              "  }\n",
              "\n",
              "  .colab-df-quickchart {\n",
              "    background-color: var(--bg-color);\n",
              "    border: none;\n",
              "    border-radius: 50%;\n",
              "    cursor: pointer;\n",
              "    display: none;\n",
              "    fill: var(--fill-color);\n",
              "    height: 32px;\n",
              "    padding: 0;\n",
              "    width: 32px;\n",
              "  }\n",
              "\n",
              "  .colab-df-quickchart:hover {\n",
              "    background-color: var(--hover-bg-color);\n",
              "    box-shadow: 0 1px 2px rgba(60, 64, 67, 0.3), 0 1px 3px 1px rgba(60, 64, 67, 0.15);\n",
              "    fill: var(--button-hover-fill-color);\n",
              "  }\n",
              "\n",
              "  .colab-df-quickchart-complete:disabled,\n",
              "  .colab-df-quickchart-complete:disabled:hover {\n",
              "    background-color: var(--disabled-bg-color);\n",
              "    fill: var(--disabled-fill-color);\n",
              "    box-shadow: none;\n",
              "  }\n",
              "\n",
              "  .colab-df-spinner {\n",
              "    border: 2px solid var(--fill-color);\n",
              "    border-color: transparent;\n",
              "    border-bottom-color: var(--fill-color);\n",
              "    animation:\n",
              "      spin 1s steps(1) infinite;\n",
              "  }\n",
              "\n",
              "  @keyframes spin {\n",
              "    0% {\n",
              "      border-color: transparent;\n",
              "      border-bottom-color: var(--fill-color);\n",
              "      border-left-color: var(--fill-color);\n",
              "    }\n",
              "    20% {\n",
              "      border-color: transparent;\n",
              "      border-left-color: var(--fill-color);\n",
              "      border-top-color: var(--fill-color);\n",
              "    }\n",
              "    30% {\n",
              "      border-color: transparent;\n",
              "      border-left-color: var(--fill-color);\n",
              "      border-top-color: var(--fill-color);\n",
              "      border-right-color: var(--fill-color);\n",
              "    }\n",
              "    40% {\n",
              "      border-color: transparent;\n",
              "      border-right-color: var(--fill-color);\n",
              "      border-top-color: var(--fill-color);\n",
              "    }\n",
              "    60% {\n",
              "      border-color: transparent;\n",
              "      border-right-color: var(--fill-color);\n",
              "    }\n",
              "    80% {\n",
              "      border-color: transparent;\n",
              "      border-right-color: var(--fill-color);\n",
              "      border-bottom-color: var(--fill-color);\n",
              "    }\n",
              "    90% {\n",
              "      border-color: transparent;\n",
              "      border-bottom-color: var(--fill-color);\n",
              "    }\n",
              "  }\n",
              "</style>\n",
              "\n",
              "      <script>\n",
              "        async function quickchart(key) {\n",
              "          const quickchartButtonEl =\n",
              "            document.querySelector('#' + key + ' button');\n",
              "          quickchartButtonEl.disabled = true;  // To prevent multiple clicks.\n",
              "          quickchartButtonEl.classList.add('colab-df-spinner');\n",
              "          try {\n",
              "            const charts = await google.colab.kernel.invokeFunction(\n",
              "                'suggestCharts', [key], {});\n",
              "          } catch (error) {\n",
              "            console.error('Error during call to suggestCharts:', error);\n",
              "          }\n",
              "          quickchartButtonEl.classList.remove('colab-df-spinner');\n",
              "          quickchartButtonEl.classList.add('colab-df-quickchart-complete');\n",
              "        }\n",
              "        (() => {\n",
              "          let quickchartButtonEl =\n",
              "            document.querySelector('#df-c0dac0dc-cde2-46c7-aa1a-1bb8d1ab60b4 button');\n",
              "          quickchartButtonEl.style.display =\n",
              "            google.colab.kernel.accessAllowed ? 'block' : 'none';\n",
              "        })();\n",
              "      </script>\n",
              "    </div>\n",
              "\n",
              "  <div id=\"id_6e6fc95e-03c6-4f93-bb46-34707630dc18\">\n",
              "    <style>\n",
              "      .colab-df-generate {\n",
              "        background-color: #E8F0FE;\n",
              "        border: none;\n",
              "        border-radius: 50%;\n",
              "        cursor: pointer;\n",
              "        display: none;\n",
              "        fill: #1967D2;\n",
              "        height: 32px;\n",
              "        padding: 0 0 0 0;\n",
              "        width: 32px;\n",
              "      }\n",
              "\n",
              "      .colab-df-generate:hover {\n",
              "        background-color: #E2EBFA;\n",
              "        box-shadow: 0px 1px 2px rgba(60, 64, 67, 0.3), 0px 1px 3px 1px rgba(60, 64, 67, 0.15);\n",
              "        fill: #174EA6;\n",
              "      }\n",
              "\n",
              "      [theme=dark] .colab-df-generate {\n",
              "        background-color: #3B4455;\n",
              "        fill: #D2E3FC;\n",
              "      }\n",
              "\n",
              "      [theme=dark] .colab-df-generate:hover {\n",
              "        background-color: #434B5C;\n",
              "        box-shadow: 0px 1px 3px 1px rgba(0, 0, 0, 0.15);\n",
              "        filter: drop-shadow(0px 1px 2px rgba(0, 0, 0, 0.3));\n",
              "        fill: #FFFFFF;\n",
              "      }\n",
              "    </style>\n",
              "    <button class=\"colab-df-generate\" onclick=\"generateWithVariable('ratings')\"\n",
              "            title=\"Generate code using this dataframe.\"\n",
              "            style=\"display:none;\">\n",
              "\n",
              "  <svg xmlns=\"http://www.w3.org/2000/svg\" height=\"24px\"viewBox=\"0 0 24 24\"\n",
              "       width=\"24px\">\n",
              "    <path d=\"M7,19H8.4L18.45,9,17,7.55,7,17.6ZM5,21V16.75L18.45,3.32a2,2,0,0,1,2.83,0l1.4,1.43a1.91,1.91,0,0,1,.58,1.4,1.91,1.91,0,0,1-.58,1.4L9.25,21ZM18.45,9,17,7.55Zm-12,3A5.31,5.31,0,0,0,4.9,8.1,5.31,5.31,0,0,0,1,6.5,5.31,5.31,0,0,0,4.9,4.9,5.31,5.31,0,0,0,6.5,1,5.31,5.31,0,0,0,8.1,4.9,5.31,5.31,0,0,0,12,6.5,5.46,5.46,0,0,0,6.5,12Z\"/>\n",
              "  </svg>\n",
              "    </button>\n",
              "    <script>\n",
              "      (() => {\n",
              "      const buttonEl =\n",
              "        document.querySelector('#id_6e6fc95e-03c6-4f93-bb46-34707630dc18 button.colab-df-generate');\n",
              "      buttonEl.style.display =\n",
              "        google.colab.kernel.accessAllowed ? 'block' : 'none';\n",
              "\n",
              "      buttonEl.onclick = () => {\n",
              "        google.colab.notebook.generateWithVariable('ratings');\n",
              "      }\n",
              "      })();\n",
              "    </script>\n",
              "  </div>\n",
              "\n",
              "    </div>\n",
              "  </div>\n"
            ],
            "application/vnd.google.colaboratory.intrinsic+json": {
              "type": "dataframe",
              "variable_name": "ratings"
            }
          },
          "metadata": {},
          "execution_count": 21
        }
      ],
      "execution_count": 21
    },
    {
      "cell_type": "markdown",
      "source": [
        "Insight:\n",
        "\n",
        "* dataset ratings terdiri dari tiga kolom utama yaitu User-ID, ISBN, dan Book-Rating\n",
        "* banyaknya entri (1.149.780 baris) menunjukkan tingginya volume aktivitas pengguna terhadap berbagai judul buku\n",
        "* terdapat banyak nilai Book-Rating yang bernilai 0\n",
        "* kolom ISBN sebagai pengenal unik buku menunjukkan bahwa banyak buku yang dinilai oleh berbagai pengguna\n",
        "* kehadiran nilai Book-Rating dari 0 hingga 10 mengindikasikan adanya variasi preferensi pengguna dalam menilai buku yang dibaca\n"
      ],
      "metadata": {
        "id": "xpUBd9NJvm6u"
      },
      "id": "xpUBd9NJvm6u"
    },
    {
      "metadata": {
        "ExecuteTime": {
          "end_time": "2025-04-24T09:12:20.200389Z",
          "start_time": "2025-04-24T09:12:20.057260Z"
        },
        "colab": {
          "base_uri": "https://localhost:8080/"
        },
        "id": "83c3c3442b8fea5e",
        "outputId": "eb79ef91-fb1a-4e34-dc25-9822555d781d"
      },
      "cell_type": "code",
      "source": [
        "print(f\"Unique User-ID: {ratings['User-ID'].nunique()}\")\n",
        "print(f\"Unique ISBN: {ratings['ISBN'].nunique()}\")\n",
        "print(f\"Most common rating: \\n{ratings['Book-Rating'].value_counts().sort_index()}\")"
      ],
      "id": "83c3c3442b8fea5e",
      "outputs": [
        {
          "output_type": "stream",
          "name": "stdout",
          "text": [
            "Unique User-ID: 105283\n",
            "Unique ISBN: 340556\n",
            "Most common rating: \n",
            "Book-Rating\n",
            "0     716109\n",
            "1       1770\n",
            "2       2759\n",
            "3       5996\n",
            "4       8904\n",
            "5      50974\n",
            "6      36924\n",
            "7      76457\n",
            "8     103736\n",
            "9      67541\n",
            "10     78610\n",
            "Name: count, dtype: int64\n"
          ]
        }
      ],
      "execution_count": 22
    },
    {
      "cell_type": "markdown",
      "source": [
        "Insight:\n",
        "\n",
        "* total pengguna unik sebanyak 105.283\n",
        "* terdapat 340.556 ISBN unik\n",
        "* rating yang paling umum adalah 0 dengan jumlah mencapai 716.109\n",
        "* hanya sebagian kecil pengguna yang memberikan rating eksplisit antara 1 hingga 10, dengan frekuensi tertinggi pada rating 8 dan 10"
      ],
      "metadata": {
        "id": "gsOOURdZwPQi"
      },
      "id": "gsOOURdZwPQi"
    },
    {
      "metadata": {
        "id": "fc4753d5ce3554d2"
      },
      "cell_type": "markdown",
      "source": [
        "#### Distribution of Book Ratings per User"
      ],
      "id": "fc4753d5ce3554d2"
    },
    {
      "metadata": {
        "ExecuteTime": {
          "end_time": "2025-04-24T09:12:21.417692Z",
          "start_time": "2025-04-24T09:12:20.201490Z"
        },
        "colab": {
          "base_uri": "https://localhost:8080/",
          "height": 328
        },
        "id": "abcdb494062f5be8",
        "outputId": "160646a2-fae9-46a8-9f15-ad50bddfbb3c"
      },
      "cell_type": "code",
      "source": [
        "plt.figure(figsize=(10, 5))\n",
        "\n",
        "sns.countplot(x='Book-Rating', hue='Book-Rating', legend=False, data=ratings, palette='coolwarm')\n",
        "\n",
        "plt.title(\"Distribution of Book Ratings\")\n",
        "plt.xlabel(\"Rating\")\n",
        "plt.ylabel(\"Number of Ratings\")\n",
        "\n",
        "ax = plt.gca()\n",
        "\n",
        "for container in ax.containers:\n",
        "    ax.bar_label(container, fmt='%d', label_type='edge', padding=3)\n",
        "\n",
        "plt.tight_layout()\n",
        "plt.show()"
      ],
      "id": "abcdb494062f5be8",
      "outputs": [
        {
          "output_type": "display_data",
          "data": {
            "text/plain": [
              "<Figure size 1000x500 with 1 Axes>"
            ],
            "image/png": "[encoded data removed]"
          },
          "metadata": {}
        }
      ],
      "execution_count": 23
    },
    {
      "cell_type": "markdown",
      "source": [
        "Insight:\n",
        "\n",
        "* mayoritas rating yang diberikan bernilai 0, mencapai lebih dari 700 ribu entri\n",
        "* jumlah rating eksplisit (nilai 1–10) jauh lebih sedikit dibanding rating 0\n",
        "* rating dengan nilai tinggi (8 dan 10) lebih sering diberikan\n",
        "* rating menengah seperti 5 dan 7 juga cukup umum, sedangkan rating rendah (1–3) sangat jarang diberikan\n",
        "* distribusi ini mengindikasikan potensi bias positif dalam sistem penilaian buku\n"
      ],
      "metadata": {
        "id": "x91mcoN0weC2"
      },
      "id": "x91mcoN0weC2"
    },
    {
      "metadata": {
        "ExecuteTime": {
          "end_time": "2025-04-24T09:12:21.426906Z",
          "start_time": "2025-04-24T09:12:21.419196Z"
        },
        "colab": {
          "base_uri": "https://localhost:8080/"
        },
        "id": "3338abe42b7d4cf9",
        "outputId": "c26c6712-2ec4-4021-8140-d96b529da32c"
      },
      "cell_type": "code",
      "source": [
        "rating_distribution = ratings['Book-Rating'].value_counts().sort_index()\n",
        "\n",
        "print(\"Distribution of Ratings (0-10):\")\n",
        "print(rating_distribution)"
      ],
      "id": "3338abe42b7d4cf9",
      "outputs": [
        {
          "output_type": "stream",
          "name": "stdout",
          "text": [
            "Distribution of Ratings (0-10):\n",
            "Book-Rating\n",
            "0     716109\n",
            "1       1770\n",
            "2       2759\n",
            "3       5996\n",
            "4       8904\n",
            "5      50974\n",
            "6      36924\n",
            "7      76457\n",
            "8     103736\n",
            "9      67541\n",
            "10     78610\n",
            "Name: count, dtype: int64\n"
          ]
        }
      ],
      "execution_count": 24
    },
    {
      "metadata": {
        "id": "886cc96f8cc4b5a0"
      },
      "cell_type": "markdown",
      "source": [
        "## Data Preparation\n",
        "\n",
        "Dataset ini siap digunakan baik untuk model Collaborative Filtering maupun Content-Based Filtering secara fleksibel.\n",
        "Tahapan data preparation sangat krusial untuk memastikan data dalam format yang tepat dan relevan agar model machine learning dapat dilatih secara optimal. Dalam proyek ini, data preparation dilakukan untuk mempersiapkan data bagi dua pendekatan model: Content-Based Filtering (CBF) dan Collaborative Filtering (CF)."
      ],
      "id": "886cc96f8cc4b5a0"
    },
    {
      "metadata": {
        "id": "64db5abaa5ac7bcf"
      },
      "cell_type": "markdown",
      "source": [
        "### Books Variable Cleaning"
      ],
      "id": "64db5abaa5ac7bcf"
    },
    {
      "metadata": {
        "id": "d607714b6fbd0434"
      },
      "cell_type": "markdown",
      "source": [
        "#### Handling Missing Values"
      ],
      "id": "d607714b6fbd0434"
    },
    {
      "metadata": {
        "ExecuteTime": {
          "end_time": "2025-04-24T09:12:21.491242Z",
          "start_time": "2025-04-24T09:12:21.427854Z"
        },
        "colab": {
          "base_uri": "https://localhost:8080/"
        },
        "id": "a9d96717d5573902",
        "outputId": "27be74db-6998-4eb1-9a84-2039946c5d3f"
      },
      "cell_type": "code",
      "source": [
        "print(\"Missing values in books before handling:\")\n",
        "print(books.isnull().sum())"
      ],
      "id": "a9d96717d5573902",
      "outputs": [
        {
          "output_type": "stream",
          "name": "stdout",
          "text": [
            "Missing values in books before handling:\n",
            "ISBN                   0\n",
            "Book-Title             0\n",
            "Book-Author            2\n",
            "Year-Of-Publication    0\n",
            "Publisher              2\n",
            "Image-URL-S            0\n",
            "Image-URL-M            0\n",
            "Image-URL-L            3\n",
            "dtype: int64\n"
          ]
        }
      ],
      "execution_count": 25
    },
    {
      "metadata": {
        "ExecuteTime": {
          "end_time": "2025-04-24T09:12:21.514451Z",
          "start_time": "2025-04-24T09:12:21.492228Z"
        },
        "id": "ea2410bf1b8c22e4"
      },
      "cell_type": "code",
      "source": [
        "books['Book-Author'] = books['Book-Author'].fillna('Unknown')\n",
        "books['Publisher'] = books['Publisher'].fillna('Unknown')"
      ],
      "id": "ea2410bf1b8c22e4",
      "outputs": [],
      "execution_count": 26
    },
    {
      "metadata": {
        "ExecuteTime": {
          "end_time": "2025-04-24T09:12:21.584948Z",
          "start_time": "2025-04-24T09:12:21.515136Z"
        },
        "id": "58684fdf63a41409"
      },
      "cell_type": "code",
      "source": [
        "books = books[books['Image-URL-L'].notnull()]"
      ],
      "id": "58684fdf63a41409",
      "outputs": [],
      "execution_count": 27
    },
    {
      "metadata": {
        "ExecuteTime": {
          "end_time": "2025-04-24T09:12:21.641373Z",
          "start_time": "2025-04-24T09:12:21.593103Z"
        },
        "colab": {
          "base_uri": "https://localhost:8080/"
        },
        "id": "de85357bdb584f9d",
        "outputId": "38fd11c1-270c-4c8b-fbee-80866306429a"
      },
      "cell_type": "code",
      "source": [
        "print(\"Missing values in books after handling:\")\n",
        "print(books.isnull().sum())"
      ],
      "id": "de85357bdb584f9d",
      "outputs": [
        {
          "output_type": "stream",
          "name": "stdout",
          "text": [
            "Missing values in books after handling:\n",
            "ISBN                   0\n",
            "Book-Title             0\n",
            "Book-Author            0\n",
            "Year-Of-Publication    0\n",
            "Publisher              0\n",
            "Image-URL-S            0\n",
            "Image-URL-M            0\n",
            "Image-URL-L            0\n",
            "dtype: int64\n"
          ]
        }
      ],
      "execution_count": 28
    },
    {
      "cell_type": "markdown",
      "source": [
        "Insight:\n",
        "\n",
        "* Semua nilai yang hilang pada kolom Book-Author dan Publisher telah berhasil diisi dengan label 'Unknown' sehingga tidak ada data kosong pada kedua kolom tersebut\n",
        "* Data books sudah tidak memiliki nilai yang hilang pada semua kolom, termasuk ISBN, Book-Title, Year-Of-Publication, dan URL gambar\n",
        "* Filter untuk menghapus baris dengan Image-URL-L kosong berhasil sehingga kolom gambar utama lengkap untuk semua data buku"
      ],
      "metadata": {
        "id": "Jqq8yMgNzQJq"
      },
      "id": "Jqq8yMgNzQJq"
    },
    {
      "cell_type": "code",
      "source": [
        "print(f\"Final shape: {books.shape}\")"
      ],
      "metadata": {
        "colab": {
          "base_uri": "https://localhost:8080/"
        },
        "id": "xyEIWvpjETVh",
        "outputId": "a3d5f889-07d5-440a-c9f3-30d3b4531ecf"
      },
      "id": "xyEIWvpjETVh",
      "execution_count": 29,
      "outputs": [
        {
          "output_type": "stream",
          "name": "stdout",
          "text": [
            "Final shape: (271357, 8)\n"
          ]
        }
      ]
    },
    {
      "cell_type": "markdown",
      "source": [
        "Insight:\n",
        "\n",
        "* Dataset books memiliki total 271357 baris dan 8 kolom setelah proses pembersihan dan pengisian nilai hilang"
      ],
      "metadata": {
        "id": "xcTdLaCBzbtN"
      },
      "id": "xcTdLaCBzbtN"
    },
    {
      "metadata": {
        "id": "be5f45de6236062c"
      },
      "cell_type": "markdown",
      "source": [
        "#### Handling Outliers of Year Of Publication"
      ],
      "id": "be5f45de6236062c"
    },
    {
      "metadata": {
        "ExecuteTime": {
          "end_time": "2025-04-24T09:12:21.763048Z",
          "start_time": "2025-04-24T09:12:21.642100Z"
        },
        "id": "eff7c47766fc5d6a"
      },
      "cell_type": "code",
      "source": [
        "temp_books = books.copy()\n",
        "temp_books['Year-Of-Publication'] = pd.to_numeric(temp_books['Year-Of-Publication'], errors='coerce')"
      ],
      "id": "eff7c47766fc5d6a",
      "outputs": [],
      "execution_count": 30
    },
    {
      "metadata": {
        "ExecuteTime": {
          "end_time": "2025-04-24T09:12:21.766709Z",
          "start_time": "2025-04-24T09:12:21.764237Z"
        },
        "id": "940eae0982cf9c2a"
      },
      "cell_type": "code",
      "source": [
        "year_data = temp_books['Year-Of-Publication'].dropna()"
      ],
      "id": "940eae0982cf9c2a",
      "outputs": [],
      "execution_count": 31
    },
    {
      "metadata": {
        "ExecuteTime": {
          "end_time": "2025-04-24T09:12:21.775908Z",
          "start_time": "2025-04-24T09:12:21.767575Z"
        },
        "colab": {
          "base_uri": "https://localhost:8080/"
        },
        "id": "2ee6d8604c5cc808",
        "outputId": "0168f0ea-00c9-48c7-e18b-7a76fc26a73f"
      },
      "cell_type": "code",
      "source": [
        "Q1 = year_data.quantile(0.25)\n",
        "Q3 = year_data.quantile(0.75)\n",
        "IQR = Q3 - Q1\n",
        "\n",
        "lower_bound = Q1 - 1.5 * IQR\n",
        "upper_bound = Q3 + 1.5 * IQR\n",
        "\n",
        "print(f\"IQR: {IQR}\")\n",
        "print(f\"Acceptable Year Range: {int(lower_bound)} to {int(upper_bound)}\")"
      ],
      "id": "2ee6d8604c5cc808",
      "outputs": [
        {
          "output_type": "stream",
          "name": "stdout",
          "text": [
            "IQR: 11.0\n",
            "Acceptable Year Range: 1972 to 2016\n"
          ]
        }
      ],
      "execution_count": 32
    },
    {
      "cell_type": "markdown",
      "source": [
        "Insight:\n",
        "\n",
        "* Rentang tahun terdeteksi antara 1972 hingga 2016 berdasarkan metode IQR untuk mengidentifikasi outlier pada kolom Year-Of-Publication\n",
        "* Rentang ini menunjukkan bahwa tahun terbit buku yang dianggap wajar berada dalam jangka waktu 44 tahun terakhir hingga tahun 2016\n"
      ],
      "metadata": {
        "id": "Y_45_rAiz0j_"
      },
      "id": "Y_45_rAiz0j_"
    },
    {
      "metadata": {
        "ExecuteTime": {
          "end_time": "2025-04-24T09:12:21.800533Z",
          "start_time": "2025-04-24T09:12:21.776743Z"
        },
        "colab": {
          "base_uri": "https://localhost:8080/"
        },
        "id": "65725512d355da88",
        "outputId": "8deb6dae-fc39-40bc-cafa-02422d95b2b0"
      },
      "cell_type": "code",
      "source": [
        "books = temp_books[(temp_books['Year-Of-Publication'] >= lower_bound) &\n",
        "                   (temp_books['Year-Of-Publication'] <= upper_bound)]\n",
        "\n",
        "print(f\"Remaining data shape after outlier removal: {books.shape}\")"
      ],
      "id": "65725512d355da88",
      "outputs": [
        {
          "output_type": "stream",
          "name": "stdout",
          "text": [
            "Remaining data shape after outlier removal: (262262, 8)\n"
          ]
        }
      ],
      "execution_count": 33
    },
    {
      "metadata": {
        "ExecuteTime": {
          "end_time": "2025-04-24T09:12:22.072860Z",
          "start_time": "2025-04-24T09:12:21.801853Z"
        },
        "colab": {
          "base_uri": "https://localhost:8080/",
          "height": 401
        },
        "id": "1497634c9d27865",
        "outputId": "4b1dc6da-2a25-452c-ebd7-508071024ebd"
      },
      "cell_type": "code",
      "source": [
        "plt.figure(figsize=(8, 4))\n",
        "\n",
        "sns.boxplot(x=books['Year-Of-Publication'], color='coral')\n",
        "\n",
        "plt.title(\"Box Plot of Year of Publication\")\n",
        "plt.xlabel(\"Year\")\n",
        "plt.show()"
      ],
      "id": "1497634c9d27865",
      "outputs": [
        {
          "output_type": "display_data",
          "data": {
            "text/plain": [
              "<Figure size 800x400 with 1 Axes>"
            ],
            "image/png": "[encoded data removed]"
          },
          "metadata": {}
        }
      ],
      "execution_count": 34
    },
    {
      "cell_type": "markdown",
      "source": [
        "Insight:\n",
        "\n",
        "* Box plot terbaru menunjukkan distribusi tahun terbit yang lebih bersih dan konsisten tanpa outlier ekstrem\n",
        "* Sebagian besar buku diterbitkan antara awal 1990-an hingga awal 2000-an, terlihat dari persebaran dan median pada box plot"
      ],
      "metadata": {
        "id": "K-NmVf_zHGPR"
      },
      "id": "K-NmVf_zHGPR"
    },
    {
      "metadata": {
        "id": "aac6e298930ced02"
      },
      "cell_type": "markdown",
      "source": [
        "### Users Variable"
      ],
      "id": "aac6e298930ced02"
    },
    {
      "metadata": {
        "id": "b7fe401fc248d6da"
      },
      "cell_type": "markdown",
      "source": [
        "#### Handling Missing Values of User Age"
      ],
      "id": "b7fe401fc248d6da"
    },
    {
      "metadata": {
        "ExecuteTime": {
          "end_time": "2025-04-24T09:12:22.084265Z",
          "start_time": "2025-04-24T09:12:22.074168Z"
        },
        "id": "38d43437b3e52d40"
      },
      "cell_type": "code",
      "source": [
        "users_cleaned = users.copy()\n",
        "users_cleaned = users_cleaned[(users_cleaned['Age'] >= 5) & (users_cleaned['Age'] <= 100)]"
      ],
      "id": "38d43437b3e52d40",
      "outputs": [],
      "execution_count": 35
    },
    {
      "metadata": {
        "ExecuteTime": {
          "end_time": "2025-04-24T09:12:22.089562Z",
          "start_time": "2025-04-24T09:12:22.085412Z"
        },
        "colab": {
          "base_uri": "https://localhost:8080/"
        },
        "id": "ed2f726be3a6c6a",
        "outputId": "37c73afb-cb6e-4676-83ad-a9543023a5ed"
      },
      "cell_type": "code",
      "source": [
        "median_age = users_cleaned['Age'].median()\n",
        "users_cleaned['Age'].fillna(median_age)\n",
        "\n",
        "print(f\"Users cleaned shape: {users_cleaned.shape}\")"
      ],
      "id": "ed2f726be3a6c6a",
      "outputs": [
        {
          "output_type": "stream",
          "name": "stdout",
          "text": [
            "Users cleaned shape: (166848, 3)\n"
          ]
        }
      ],
      "execution_count": 36
    },
    {
      "cell_type": "markdown",
      "source": [
        "Insight:\n",
        "\n",
        "* Data pengguna dibersihkan dengan menghapus outlier pada kolom Age di luar rentang 5 hingga 100 tahun\n",
        "* Total data pengguna yang tersisa setelah pembersihan adalah 166848 baris dengan 3 kolom"
      ],
      "metadata": {
        "id": "23rr55eOHYYN"
      },
      "id": "23rr55eOHYYN"
    },
    {
      "cell_type": "markdown",
      "source": [
        "#### Handling Outliers of User Age"
      ],
      "metadata": {
        "id": "FmAnS-BImby2"
      },
      "id": "FmAnS-BImby2"
    },
    {
      "metadata": {
        "ExecuteTime": {
          "end_time": "2025-04-24T09:12:22.272830Z",
          "start_time": "2025-04-24T09:12:22.090418Z"
        },
        "colab": {
          "base_uri": "https://localhost:8080/",
          "height": 401
        },
        "id": "4e46c7c268ec321b",
        "outputId": "4b0565e8-8d09-4477-da5e-7867d6d647bb"
      },
      "cell_type": "code",
      "source": [
        "plt.figure(figsize=(8, 4))\n",
        "\n",
        "sns.boxplot(x=users_cleaned['Age'], color='coral')\n",
        "\n",
        "plt.title(\"Box Plot of User Age\")\n",
        "plt.xlabel(\"Age\")\n",
        "plt.show()"
      ],
      "id": "4e46c7c268ec321b",
      "outputs": [
        {
          "output_type": "display_data",
          "data": {
            "text/plain": [
              "<Figure size 800x400 with 1 Axes>"
            ],
            "image/png": "[encoded data removed]"
          },
          "metadata": {}
        }
      ],
      "execution_count": 37
    },
    {
      "cell_type": "markdown",
      "source": [
        "Insight:\n",
        "\n",
        "* Box plot menunjukkan distribusi usia pengguna yang terkonsentrasi antara usia 20 hingga 60 tahun\n",
        "* Mayoritas pengguna berada pada rentang usia dewasa muda hingga paruh baya, dengan median sekitar usia 35 tahun\n",
        "* Masih terdapat beberapa nilai usia yang berada di ujung atas (80–100), namun tetap dalam batas wajar"
      ],
      "metadata": {
        "id": "D3KSQ9x4Hlzp"
      },
      "id": "D3KSQ9x4Hlzp"
    },
    {
      "metadata": {
        "id": "b05fccc967f93ab1"
      },
      "cell_type": "markdown",
      "source": [
        "### Ratings Variable"
      ],
      "id": "b05fccc967f93ab1"
    },
    {
      "metadata": {
        "id": "5b294c870c381077"
      },
      "cell_type": "markdown",
      "source": [
        "#### Drop Rating 0\n",
        "\n",
        "Data rating dengan nilai 0 dihapus karena dianggap tidak memberikan feedback yang berguna. Pembersihan ini memastikan hanya interaksi dengan umpan balik nyata yang dianalisis dan meningkatkan akurasi dalam sistem rekomendasi dan analisis preferensi pengguna."
      ],
      "id": "5b294c870c381077"
    },
    {
      "metadata": {
        "ExecuteTime": {
          "end_time": "2025-04-24T09:12:22.311905Z",
          "start_time": "2025-04-24T09:12:22.273859Z"
        },
        "colab": {
          "base_uri": "https://localhost:8080/"
        },
        "id": "366e80ffff4bd4d5",
        "outputId": "e2b44f34-98e9-4777-bdc5-f8f92ed88d32"
      },
      "cell_type": "code",
      "source": [
        "ratings_cleaned = ratings[ratings['Book-Rating'] > 0].copy()\n",
        "\n",
        "print(f\"Ratings after removing 0s: {ratings_cleaned.shape}\")"
      ],
      "id": "366e80ffff4bd4d5",
      "outputs": [
        {
          "output_type": "stream",
          "name": "stdout",
          "text": [
            "Ratings after removing 0s: (433671, 3)\n"
          ]
        }
      ],
      "execution_count": 38
    },
    {
      "cell_type": "markdown",
      "source": [
        "Insight:\n",
        "\n",
        "* Setelah penghapusan, jumlah data rating yang valid tersisa sebanyak 433671 baris dengan 3 kolom"
      ],
      "metadata": {
        "id": "1pTkWTy3IB0k"
      },
      "id": "1pTkWTy3IB0k"
    },
    {
      "cell_type": "markdown",
      "source": [
        "#### Distribution of Explicit Books Rating"
      ],
      "metadata": {
        "id": "lAdk1fACo4Jk"
      },
      "id": "lAdk1fACo4Jk"
    },
    {
      "metadata": {
        "ExecuteTime": {
          "end_time": "2025-04-24T09:12:23.188083Z",
          "start_time": "2025-04-24T09:12:22.312850Z"
        },
        "colab": {
          "base_uri": "https://localhost:8080/",
          "height": 329
        },
        "id": "d882a37d18fa3f8d",
        "outputId": "cbfad958-8a8f-4684-de36-e8c232ff7ca1"
      },
      "cell_type": "code",
      "source": [
        "plt.figure(figsize=(10, 5))\n",
        "\n",
        "sns.countplot(x='Book-Rating', hue='Book-Rating', legend=False, data=ratings_cleaned, palette='Oranges')\n",
        "\n",
        "plt.title(\"Distribution of Explicit Book Ratings\")\n",
        "plt.xlabel(\"Rating\")\n",
        "plt.ylabel(\"Count\")\n",
        "\n",
        "ax = plt.gca()\n",
        "\n",
        "for container in ax.containers:\n",
        "    ax.bar_label(container, fmt='%d', label_type='edge', padding=3)\n",
        "\n",
        "plt.tight_layout()\n",
        "plt.show()"
      ],
      "id": "d882a37d18fa3f8d",
      "outputs": [
        {
          "output_type": "display_data",
          "data": {
            "text/plain": [
              "<Figure size 1000x500 with 1 Axes>"
            ],
            "image/png": "[encoded data removed]"
          },
          "metadata": {}
        }
      ],
      "execution_count": 39
    },
    {
      "cell_type": "markdown",
      "source": [
        "Insight:\n",
        "\n",
        "* Distribusi rating eksplisit menunjukkan bahwa nilai 8 adalah yang paling sering diberikan oleh pengguna, disusul oleh rating 10 dan 7\n",
        "* Sebagian besar pengguna memberikan rating di atas 5, yang menunjukkan kecenderungan positif dalam penilaian buku\n",
        "* Rating rendah seperti 1 hingga 3 sangat jarang muncul, menandakan pengguna cenderung tidak memberikan feedback negatif"
      ],
      "metadata": {
        "id": "EIJC4XNDIShX"
      },
      "id": "EIJC4XNDIShX"
    },
    {
      "cell_type": "markdown",
      "source": [
        "#### Merging Data\n",
        "\n",
        "Dataset terdiri dari tiga komponen utama: data buku (books.csv), data pengguna (users.csv), dan data rating (ratings.csv).\n",
        "\n",
        "Penggabungan ini bertujuan untuk:\n",
        "- Menyatukan informasi metadata buku seperti judul, penulis, dan sinopsis yang diperlukan dalam pendekatan Content-Based Filtering.\n",
        "- Menyediakan interaksi user-item berupa rating yang dibutuhkan untuk Collaborative Filtering.\n"
      ],
      "metadata": {
        "id": "RrOg4NKJIwa9"
      },
      "id": "RrOg4NKJIwa9"
    },
    {
      "metadata": {
        "ExecuteTime": {
          "end_time": "2025-04-24T09:12:23.545419Z",
          "start_time": "2025-04-24T09:12:23.189165Z"
        },
        "colab": {
          "base_uri": "https://localhost:8080/"
        },
        "id": "75386c82c87f36a9",
        "outputId": "ba6cbd14-a9c6-4187-98f7-e18e6d173fb5"
      },
      "cell_type": "code",
      "source": [
        "ratings_books = ratings_cleaned.merge(books, on='ISBN', how='inner')\n",
        "\n",
        "print(f\"Merged (ratings + books): {ratings_books.shape}\")"
      ],
      "id": "75386c82c87f36a9",
      "outputs": [
        {
          "output_type": "stream",
          "name": "stdout",
          "text": [
            "Merged (ratings + books): (373410, 10)\n"
          ]
        }
      ],
      "execution_count": 40
    },
    {
      "cell_type": "markdown",
      "source": [
        "Insight:\n",
        "\n",
        "* Hasil penggabungan menghasilkan 373410 baris dan 10 kolom, mencakup informasi pengguna, rating, serta detail buku"
      ],
      "metadata": {
        "id": "NZRMswxtImIF"
      },
      "id": "NZRMswxtImIF"
    },
    {
      "metadata": {
        "ExecuteTime": {
          "end_time": "2025-04-24T09:12:23.659418Z",
          "start_time": "2025-04-24T09:12:23.546410Z"
        },
        "colab": {
          "base_uri": "https://localhost:8080/"
        },
        "id": "6cd46c5a63e8e220",
        "outputId": "5eabd3f3-95c2-4890-b932-b89b55ddbb8c"
      },
      "cell_type": "code",
      "source": [
        "all_data = ratings_books.merge(users_cleaned, on='User-ID', how='inner')\n",
        "\n",
        "print(f\"Final merged shape (ratings + books + users): {all_data.shape}\")"
      ],
      "id": "6cd46c5a63e8e220",
      "outputs": [
        {
          "output_type": "stream",
          "name": "stdout",
          "text": [
            "Final merged shape (ratings + books + users): (260647, 12)\n"
          ]
        }
      ],
      "execution_count": 41
    },
    {
      "cell_type": "markdown",
      "source": [
        "Insight:\n",
        "\n",
        "* Hasil akhir penggabungan mencakup 260647 baris dan 12 kolom yang memuat informasi lengkap tentang pengguna, buku, dan rating\n",
        "* Pengurangan jumlah data dari penggabungan sebelumnya menunjukkan hanya entri dengan kecocokan di ketiga dataset yang dipertahankan"
      ],
      "metadata": {
        "id": "s-KWDM8OJBvC"
      },
      "id": "s-KWDM8OJBvC"
    },
    {
      "metadata": {
        "ExecuteTime": {
          "end_time": "2025-04-24T09:12:23.666899Z",
          "start_time": "2025-04-24T09:12:23.660545Z"
        },
        "colab": {
          "base_uri": "https://localhost:8080/",
          "height": 929
        },
        "id": "44237f76fac921ac",
        "outputId": "cb3621b8-164b-4dbf-cb82-b3e630e591f7"
      },
      "cell_type": "code",
      "source": [
        "all_data"
      ],
      "id": "44237f76fac921ac",
      "outputs": [
        {
          "output_type": "execute_result",
          "data": {
            "text/plain": [
              "        User-ID        ISBN  Book-Rating  \\\n",
              "0        276729  052165615X            3   \n",
              "1        276729  0521795028            6   \n",
              "2        276747  0060517794            9   \n",
              "3        276747  0671537458            9   \n",
              "4        276747  0679776818            8   \n",
              "...         ...         ...          ...   \n",
              "260642   276681  0446677450            8   \n",
              "260643   276681  0609806491            7   \n",
              "260644   276681  1931333246           10   \n",
              "260645   276709  0515107662           10   \n",
              "260646   276721  0590442449           10   \n",
              "\n",
              "                                               Book-Title         Book-Author  \\\n",
              "0                                          Help!: Level 1       Philip Prowse   \n",
              "1       The Amsterdam Connection : Level 4 (Cambridge ...         Sue Leather   \n",
              "2                                Little Altars Everywhere       Rebecca Wells   \n",
              "3                                       Waiting to Exhale      Terry McMillan   \n",
              "4                       Birdsong: A Novel of Love and War    Sebastian Faulks   \n",
              "...                                                   ...                 ...   \n",
              "260642  Rich Dad, Poor Dad: What the Rich Teach Their ...  Robert T. Kiyosaki   \n",
              "260643  The Zen of Proposal Writing: An Expert's Stres...         Kitta Reeds   \n",
              "260644                                             Chorus        Kurt Messick   \n",
              "260645   The Sherbrooke Bride (Bride Trilogy (Paperback))   Catherine Coulter   \n",
              "260646                                  Fourth Grade Rats      Jerry Spinelli   \n",
              "\n",
              "        Year-Of-Publication                   Publisher  \\\n",
              "0                      1999  Cambridge University Press   \n",
              "1                      2001  Cambridge University Press   \n",
              "2                      2003                 HarperTorch   \n",
              "3                      1995                      Pocket   \n",
              "4                      1997           Vintage Books USA   \n",
              "...                     ...                         ...   \n",
              "260642                 2000                Warner Books   \n",
              "260643                 2002     Three Rivers Press (CA)   \n",
              "260644                 2003             Dry Bones Press   \n",
              "260645                 1996                  Jove Books   \n",
              "260646                 1996                  Scholastic   \n",
              "\n",
              "                                              Image-URL-S  \\\n",
              "0       http://images.amazon.com/images/P/052165615X.0...   \n",
              "1       http://images.amazon.com/images/P/0521795028.0...   \n",
              "2       http://images.amazon.com/images/P/0060517794.0...   \n",
              "3       http://images.amazon.com/images/P/0671537458.0...   \n",
              "4       http://images.amazon.com/images/P/0679776818.0...   \n",
              "...                                                   ...   \n",
              "260642  http://images.amazon.com/images/P/0446677450.0...   \n",
              "260643  http://images.amazon.com/images/P/0609806491.0...   \n",
              "260644  http://images.amazon.com/images/P/1931333246.0...   \n",
              "260645  http://images.amazon.com/images/P/0515107662.0...   \n",
              "260646  http://images.amazon.com/images/P/0590442449.0...   \n",
              "\n",
              "                                              Image-URL-M  \\\n",
              "0       http://images.amazon.com/images/P/052165615X.0...   \n",
              "1       http://images.amazon.com/images/P/0521795028.0...   \n",
              "2       http://images.amazon.com/images/P/0060517794.0...   \n",
              "3       http://images.amazon.com/images/P/0671537458.0...   \n",
              "4       http://images.amazon.com/images/P/0679776818.0...   \n",
              "...                                                   ...   \n",
              "260642  http://images.amazon.com/images/P/0446677450.0...   \n",
              "260643  http://images.amazon.com/images/P/0609806491.0...   \n",
              "260644  http://images.amazon.com/images/P/1931333246.0...   \n",
              "260645  http://images.amazon.com/images/P/0515107662.0...   \n",
              "260646  http://images.amazon.com/images/P/0590442449.0...   \n",
              "\n",
              "                                              Image-URL-L  \\\n",
              "0       http://images.amazon.com/images/P/052165615X.0...   \n",
              "1       http://images.amazon.com/images/P/0521795028.0...   \n",
              "2       http://images.amazon.com/images/P/0060517794.0...   \n",
              "3       http://images.amazon.com/images/P/0671537458.0...   \n",
              "4       http://images.amazon.com/images/P/0679776818.0...   \n",
              "...                                                   ...   \n",
              "260642  http://images.amazon.com/images/P/0446677450.0...   \n",
              "260643  http://images.amazon.com/images/P/0609806491.0...   \n",
              "260644  http://images.amazon.com/images/P/1931333246.0...   \n",
              "260645  http://images.amazon.com/images/P/0515107662.0...   \n",
              "260646  http://images.amazon.com/images/P/0590442449.0...   \n",
              "\n",
              "                              Location   Age  \n",
              "0                 rijeka, n/a, croatia  16.0  \n",
              "1                 rijeka, n/a, croatia  16.0  \n",
              "2                 iowa city, iowa, usa  25.0  \n",
              "3                 iowa city, iowa, usa  25.0  \n",
              "4                 iowa city, iowa, usa  25.0  \n",
              "...                                ...   ...  \n",
              "260642          chicago, illinois, usa  43.0  \n",
              "260643          chicago, illinois, usa  43.0  \n",
              "260644          chicago, illinois, usa  43.0  \n",
              "260645  mannington, west virginia, usa  38.0  \n",
              "260646   providence, rhode island, usa  14.0  \n",
              "\n",
              "[260647 rows x 12 columns]"
            ],
            "text/html": [
              "\n",
              "  <div id=\"df-7160e699-045f-45b5-ab9f-13413062f9fd\" class=\"colab-df-container\">\n",
              "    <div>\n",
              "<style scoped>\n",
              "    .dataframe tbody tr th:only-of-type {\n",
              "        vertical-align: middle;\n",
              "    }\n",
              "\n",
              "    .dataframe tbody tr th {\n",
              "        vertical-align: top;\n",
              "    }\n",
              "\n",
              "    .dataframe thead th {\n",
              "        text-align: right;\n",
              "    }\n",
              "</style>\n",
              "<table border=\"1\" class=\"dataframe\">\n",
              "  <thead>\n",
              "    <tr style=\"text-align: right;\">\n",
              "      <th></th>\n",
              "      <th>User-ID</th>\n",
              "      <th>ISBN</th>\n",
              "      <th>Book-Rating</th>\n",
              "      <th>Book-Title</th>\n",
              "      <th>Book-Author</th>\n",
              "      <th>Year-Of-Publication</th>\n",
              "      <th>Publisher</th>\n",
              "      <th>Image-URL-S</th>\n",
              "      <th>Image-URL-M</th>\n",
              "      <th>Image-URL-L</th>\n",
              "      <th>Location</th>\n",
              "      <th>Age</th>\n",
              "    </tr>\n",
              "  </thead>\n",
              "  <tbody>\n",
              "    <tr>\n",
              "      <th>0</th>\n",
              "      <td>276729</td>\n",
              "      <td>052165615X</td>\n",
              "      <td>3</td>\n",
              "      <td>Help!: Level 1</td>\n",
              "      <td>Philip Prowse</td>\n",
              "      <td>1999</td>\n",
              "      <td>Cambridge University Press</td>\n",
              "      <td>http://images.amazon.com/images/P/052165615X.0...</td>\n",
              "      <td>http://images.amazon.com/images/P/052165615X.0...</td>\n",
              "      <td>http://images.amazon.com/images/P/052165615X.0...</td>\n",
              "      <td>rijeka, n/a, croatia</td>\n",
              "      <td>16.0</td>\n",
              "    </tr>\n",
              "    <tr>\n",
              "      <th>1</th>\n",
              "      <td>276729</td>\n",
              "      <td>0521795028</td>\n",
              "      <td>6</td>\n",
              "      <td>The Amsterdam Connection : Level 4 (Cambridge ...</td>\n",
              "      <td>Sue Leather</td>\n",
              "      <td>2001</td>\n",
              "      <td>Cambridge University Press</td>\n",
              "      <td>http://images.amazon.com/images/P/0521795028.0...</td>\n",
              "      <td>http://images.amazon.com/images/P/0521795028.0...</td>\n",
              "      <td>http://images.amazon.com/images/P/0521795028.0...</td>\n",
              "      <td>rijeka, n/a, croatia</td>\n",
              "      <td>16.0</td>\n",
              "    </tr>\n",
              "    <tr>\n",
              "      <th>2</th>\n",
              "      <td>276747</td>\n",
              "      <td>0060517794</td>\n",
              "      <td>9</td>\n",
              "      <td>Little Altars Everywhere</td>\n",
              "      <td>Rebecca Wells</td>\n",
              "      <td>2003</td>\n",
              "      <td>HarperTorch</td>\n",
              "      <td>http://images.amazon.com/images/P/0060517794.0...</td>\n",
              "      <td>http://images.amazon.com/images/P/0060517794.0...</td>\n",
              "      <td>http://images.amazon.com/images/P/0060517794.0...</td>\n",
              "      <td>iowa city, iowa, usa</td>\n",
              "      <td>25.0</td>\n",
              "    </tr>\n",
              "    <tr>\n",
              "      <th>3</th>\n",
              "      <td>276747</td>\n",
              "      <td>0671537458</td>\n",
              "      <td>9</td>\n",
              "      <td>Waiting to Exhale</td>\n",
              "      <td>Terry McMillan</td>\n",
              "      <td>1995</td>\n",
              "      <td>Pocket</td>\n",
              "      <td>http://images.amazon.com/images/P/0671537458.0...</td>\n",
              "      <td>http://images.amazon.com/images/P/0671537458.0...</td>\n",
              "      <td>http://images.amazon.com/images/P/0671537458.0...</td>\n",
              "      <td>iowa city, iowa, usa</td>\n",
              "      <td>25.0</td>\n",
              "    </tr>\n",
              "    <tr>\n",
              "      <th>4</th>\n",
              "      <td>276747</td>\n",
              "      <td>0679776818</td>\n",
              "      <td>8</td>\n",
              "      <td>Birdsong: A Novel of Love and War</td>\n",
              "      <td>Sebastian Faulks</td>\n",
              "      <td>1997</td>\n",
              "      <td>Vintage Books USA</td>\n",
              "      <td>http://images.amazon.com/images/P/0679776818.0...</td>\n",
              "      <td>http://images.amazon.com/images/P/0679776818.0...</td>\n",
              "      <td>http://images.amazon.com/images/P/0679776818.0...</td>\n",
              "      <td>iowa city, iowa, usa</td>\n",
              "      <td>25.0</td>\n",
              "    </tr>\n",
              "    <tr>\n",
              "      <th>...</th>\n",
              "      <td>...</td>\n",
              "      <td>...</td>\n",
              "      <td>...</td>\n",
              "      <td>...</td>\n",
              "      <td>...</td>\n",
              "      <td>...</td>\n",
              "      <td>...</td>\n",
              "      <td>...</td>\n",
              "      <td>...</td>\n",
              "      <td>...</td>\n",
              "      <td>...</td>\n",
              "      <td>...</td>\n",
              "    </tr>\n",
              "    <tr>\n",
              "      <th>260642</th>\n",
              "      <td>276681</td>\n",
              "      <td>0446677450</td>\n",
              "      <td>8</td>\n",
              "      <td>Rich Dad, Poor Dad: What the Rich Teach Their ...</td>\n",
              "      <td>Robert T. Kiyosaki</td>\n",
              "      <td>2000</td>\n",
              "      <td>Warner Books</td>\n",
              "      <td>http://images.amazon.com/images/P/0446677450.0...</td>\n",
              "      <td>http://images.amazon.com/images/P/0446677450.0...</td>\n",
              "      <td>http://images.amazon.com/images/P/0446677450.0...</td>\n",
              "      <td>chicago, illinois, usa</td>\n",
              "      <td>43.0</td>\n",
              "    </tr>\n",
              "    <tr>\n",
              "      <th>260643</th>\n",
              "      <td>276681</td>\n",
              "      <td>0609806491</td>\n",
              "      <td>7</td>\n",
              "      <td>The Zen of Proposal Writing: An Expert's Stres...</td>\n",
              "      <td>Kitta Reeds</td>\n",
              "      <td>2002</td>\n",
              "      <td>Three Rivers Press (CA)</td>\n",
              "      <td>http://images.amazon.com/images/P/0609806491.0...</td>\n",
              "      <td>http://images.amazon.com/images/P/0609806491.0...</td>\n",
              "      <td>http://images.amazon.com/images/P/0609806491.0...</td>\n",
              "      <td>chicago, illinois, usa</td>\n",
              "      <td>43.0</td>\n",
              "    </tr>\n",
              "    <tr>\n",
              "      <th>260644</th>\n",
              "      <td>276681</td>\n",
              "      <td>1931333246</td>\n",
              "      <td>10</td>\n",
              "      <td>Chorus</td>\n",
              "      <td>Kurt Messick</td>\n",
              "      <td>2003</td>\n",
              "      <td>Dry Bones Press</td>\n",
              "      <td>http://images.amazon.com/images/P/1931333246.0...</td>\n",
              "      <td>http://images.amazon.com/images/P/1931333246.0...</td>\n",
              "      <td>http://images.amazon.com/images/P/1931333246.0...</td>\n",
              "      <td>chicago, illinois, usa</td>\n",
              "      <td>43.0</td>\n",
              "    </tr>\n",
              "    <tr>\n",
              "      <th>260645</th>\n",
              "      <td>276709</td>\n",
              "      <td>0515107662</td>\n",
              "      <td>10</td>\n",
              "      <td>The Sherbrooke Bride (Bride Trilogy (Paperback))</td>\n",
              "      <td>Catherine Coulter</td>\n",
              "      <td>1996</td>\n",
              "      <td>Jove Books</td>\n",
              "      <td>http://images.amazon.com/images/P/0515107662.0...</td>\n",
              "      <td>http://images.amazon.com/images/P/0515107662.0...</td>\n",
              "      <td>http://images.amazon.com/images/P/0515107662.0...</td>\n",
              "      <td>mannington, west virginia, usa</td>\n",
              "      <td>38.0</td>\n",
              "    </tr>\n",
              "    <tr>\n",
              "      <th>260646</th>\n",
              "      <td>276721</td>\n",
              "      <td>0590442449</td>\n",
              "      <td>10</td>\n",
              "      <td>Fourth Grade Rats</td>\n",
              "      <td>Jerry Spinelli</td>\n",
              "      <td>1996</td>\n",
              "      <td>Scholastic</td>\n",
              "      <td>http://images.amazon.com/images/P/0590442449.0...</td>\n",
              "      <td>http://images.amazon.com/images/P/0590442449.0...</td>\n",
              "      <td>http://images.amazon.com/images/P/0590442449.0...</td>\n",
              "      <td>providence, rhode island, usa</td>\n",
              "      <td>14.0</td>\n",
              "    </tr>\n",
              "  </tbody>\n",
              "</table>\n",
              "<p>260647 rows × 12 columns</p>\n",
              "</div>\n",
              "    <div class=\"colab-df-buttons\">\n",
              "\n",
              "  <div class=\"colab-df-container\">\n",
              "    <button class=\"colab-df-convert\" onclick=\"convertToInteractive('df-7160e699-045f-45b5-ab9f-13413062f9fd')\"\n",
              "            title=\"Convert this dataframe to an interactive table.\"\n",
              "            style=\"display:none;\">\n",
              "\n",
              "  <svg xmlns=\"http://www.w3.org/2000/svg\" height=\"24px\" viewBox=\"0 -960 960 960\">\n",
              "    <path d=\"M120-120v-720h720v720H120Zm60-500h600v-160H180v160Zm220 220h160v-160H400v160Zm0 220h160v-160H400v160ZM180-400h160v-160H180v160Zm440 0h160v-160H620v160ZM180-180h160v-160H180v160Zm440 0h160v-160H620v160Z\"/>\n",
              "  </svg>\n",
              "    </button>\n",
              "\n",
              "  <style>\n",
              "    .colab-df-container {\n",
              "      display:flex;\n",
              "      gap: 12px;\n",
              "    }\n",
              "\n",
              "    .colab-df-convert {\n",
              "      background-color: #E8F0FE;\n",
              "      border: none;\n",
              "      border-radius: 50%;\n",
              "      cursor: pointer;\n",
              "      display: none;\n",
              "      fill: #1967D2;\n",
              "      height: 32px;\n",
              "      padding: 0 0 0 0;\n",
              "      width: 32px;\n",
              "    }\n",
              "\n",
              "    .colab-df-convert:hover {\n",
              "      background-color: #E2EBFA;\n",
              "      box-shadow: 0px 1px 2px rgba(60, 64, 67, 0.3), 0px 1px 3px 1px rgba(60, 64, 67, 0.15);\n",
              "      fill: #174EA6;\n",
              "    }\n",
              "\n",
              "    .colab-df-buttons div {\n",
              "      margin-bottom: 4px;\n",
              "    }\n",
              "\n",
              "    [theme=dark] .colab-df-convert {\n",
              "      background-color: #3B4455;\n",
              "      fill: #D2E3FC;\n",
              "    }\n",
              "\n",
              "    [theme=dark] .colab-df-convert:hover {\n",
              "      background-color: #434B5C;\n",
              "      box-shadow: 0px 1px 3px 1px rgba(0, 0, 0, 0.15);\n",
              "      filter: drop-shadow(0px 1px 2px rgba(0, 0, 0, 0.3));\n",
              "      fill: #FFFFFF;\n",
              "    }\n",
              "  </style>\n",
              "\n",
              "    <script>\n",
              "      const buttonEl =\n",
              "        document.querySelector('#df-7160e699-045f-45b5-ab9f-13413062f9fd button.colab-df-convert');\n",
              "      buttonEl.style.display =\n",
              "        google.colab.kernel.accessAllowed ? 'block' : 'none';\n",
              "\n",
              "      async function convertToInteractive(key) {\n",
              "        const element = document.querySelector('#df-7160e699-045f-45b5-ab9f-13413062f9fd');\n",
              "        const dataTable =\n",
              "          await google.colab.kernel.invokeFunction('convertToInteractive',\n",
              "                                                    [key], {});\n",
              "        if (!dataTable) return;\n",
              "\n",
              "        const docLinkHtml = 'Like what you see? Visit the ' +\n",
              "          '<a target=\"_blank\" href=https://colab.research.google.com/notebooks/data_table.ipynb>data table notebook</a>'\n",
              "          + ' to learn more about interactive tables.';\n",
              "        element.innerHTML = '';\n",
              "        dataTable['output_type'] = 'display_data';\n",
              "        await google.colab.output.renderOutput(dataTable, element);\n",
              "        const docLink = document.createElement('div');\n",
              "        docLink.innerHTML = docLinkHtml;\n",
              "        element.appendChild(docLink);\n",
              "      }\n",
              "    </script>\n",
              "  </div>\n",
              "\n",
              "\n",
              "    <div id=\"df-50d3336c-952b-4584-90a9-524a0e1d51d5\">\n",
              "      <button class=\"colab-df-quickchart\" onclick=\"quickchart('df-50d3336c-952b-4584-90a9-524a0e1d51d5')\"\n",
              "                title=\"Suggest charts\"\n",
              "                style=\"display:none;\">\n",
              "\n",
              "<svg xmlns=\"http://www.w3.org/2000/svg\" height=\"24px\"viewBox=\"0 0 24 24\"\n",
              "     width=\"24px\">\n",
              "    <g>\n",
              "        <path d=\"M19 3H5c-1.1 0-2 .9-2 2v14c0 1.1.9 2 2 2h14c1.1 0 2-.9 2-2V5c0-1.1-.9-2-2-2zM9 17H7v-7h2v7zm4 0h-2V7h2v10zm4 0h-2v-4h2v4z\"/>\n",
              "    </g>\n",
              "</svg>\n",
              "      </button>\n",
              "\n",
              "<style>\n",
              "  .colab-df-quickchart {\n",
              "      --bg-color: #E8F0FE;\n",
              "      --fill-color: #1967D2;\n",
              "      --hover-bg-color: #E2EBFA;\n",
              "      --hover-fill-color: #174EA6;\n",
              "      --disabled-fill-color: #AAA;\n",
              "      --disabled-bg-color: #DDD;\n",
              "  }\n",
              "\n",
              "  [theme=dark] .colab-df-quickchart {\n",
              "      --bg-color: #3B4455;\n",
              "      --fill-color: #D2E3FC;\n",
              "      --hover-bg-color: #434B5C;\n",
              "      --hover-fill-color: #FFFFFF;\n",
              "      --disabled-bg-color: #3B4455;\n",
              "      --disabled-fill-color: #666;\n",
              "  }\n",
              "\n",
              "  .colab-df-quickchart {\n",
              "    background-color: var(--bg-color);\n",
              "    border: none;\n",
              "    border-radius: 50%;\n",
              "    cursor: pointer;\n",
              "    display: none;\n",
              "    fill: var(--fill-color);\n",
              "    height: 32px;\n",
              "    padding: 0;\n",
              "    width: 32px;\n",
              "  }\n",
              "\n",
              "  .colab-df-quickchart:hover {\n",
              "    background-color: var(--hover-bg-color);\n",
              "    box-shadow: 0 1px 2px rgba(60, 64, 67, 0.3), 0 1px 3px 1px rgba(60, 64, 67, 0.15);\n",
              "    fill: var(--button-hover-fill-color);\n",
              "  }\n",
              "\n",
              "  .colab-df-quickchart-complete:disabled,\n",
              "  .colab-df-quickchart-complete:disabled:hover {\n",
              "    background-color: var(--disabled-bg-color);\n",
              "    fill: var(--disabled-fill-color);\n",
              "    box-shadow: none;\n",
              "  }\n",
              "\n",
              "  .colab-df-spinner {\n",
              "    border: 2px solid var(--fill-color);\n",
              "    border-color: transparent;\n",
              "    border-bottom-color: var(--fill-color);\n",
              "    animation:\n",
              "      spin 1s steps(1) infinite;\n",
              "  }\n",
              "\n",
              "  @keyframes spin {\n",
              "    0% {\n",
              "      border-color: transparent;\n",
              "      border-bottom-color: var(--fill-color);\n",
              "      border-left-color: var(--fill-color);\n",
              "    }\n",
              "    20% {\n",
              "      border-color: transparent;\n",
              "      border-left-color: var(--fill-color);\n",
              "      border-top-color: var(--fill-color);\n",
              "    }\n",
              "    30% {\n",
              "      border-color: transparent;\n",
              "      border-left-color: var(--fill-color);\n",
              "      border-top-color: var(--fill-color);\n",
              "      border-right-color: var(--fill-color);\n",
              "    }\n",
              "    40% {\n",
              "      border-color: transparent;\n",
              "      border-right-color: var(--fill-color);\n",
              "      border-top-color: var(--fill-color);\n",
              "    }\n",
              "    60% {\n",
              "      border-color: transparent;\n",
              "      border-right-color: var(--fill-color);\n",
              "    }\n",
              "    80% {\n",
              "      border-color: transparent;\n",
              "      border-right-color: var(--fill-color);\n",
              "      border-bottom-color: var(--fill-color);\n",
              "    }\n",
              "    90% {\n",
              "      border-color: transparent;\n",
              "      border-bottom-color: var(--fill-color);\n",
              "    }\n",
              "  }\n",
              "</style>\n",
              "\n",
              "      <script>\n",
              "        async function quickchart(key) {\n",
              "          const quickchartButtonEl =\n",
              "            document.querySelector('#' + key + ' button');\n",
              "          quickchartButtonEl.disabled = true;  // To prevent multiple clicks.\n",
              "          quickchartButtonEl.classList.add('colab-df-spinner');\n",
              "          try {\n",
              "            const charts = await google.colab.kernel.invokeFunction(\n",
              "                'suggestCharts', [key], {});\n",
              "          } catch (error) {\n",
              "            console.error('Error during call to suggestCharts:', error);\n",
              "          }\n",
              "          quickchartButtonEl.classList.remove('colab-df-spinner');\n",
              "          quickchartButtonEl.classList.add('colab-df-quickchart-complete');\n",
              "        }\n",
              "        (() => {\n",
              "          let quickchartButtonEl =\n",
              "            document.querySelector('#df-50d3336c-952b-4584-90a9-524a0e1d51d5 button');\n",
              "          quickchartButtonEl.style.display =\n",
              "            google.colab.kernel.accessAllowed ? 'block' : 'none';\n",
              "        })();\n",
              "      </script>\n",
              "    </div>\n",
              "\n",
              "  <div id=\"id_37927552-936b-4fc7-8b9b-d2065e38958e\">\n",
              "    <style>\n",
              "      .colab-df-generate {\n",
              "        background-color: #E8F0FE;\n",
              "        border: none;\n",
              "        border-radius: 50%;\n",
              "        cursor: pointer;\n",
              "        display: none;\n",
              "        fill: #1967D2;\n",
              "        height: 32px;\n",
              "        padding: 0 0 0 0;\n",
              "        width: 32px;\n",
              "      }\n",
              "\n",
              "      .colab-df-generate:hover {\n",
              "        background-color: #E2EBFA;\n",
              "        box-shadow: 0px 1px 2px rgba(60, 64, 67, 0.3), 0px 1px 3px 1px rgba(60, 64, 67, 0.15);\n",
              "        fill: #174EA6;\n",
              "      }\n",
              "\n",
              "      [theme=dark] .colab-df-generate {\n",
              "        background-color: #3B4455;\n",
              "        fill: #D2E3FC;\n",
              "      }\n",
              "\n",
              "      [theme=dark] .colab-df-generate:hover {\n",
              "        background-color: #434B5C;\n",
              "        box-shadow: 0px 1px 3px 1px rgba(0, 0, 0, 0.15);\n",
              "        filter: drop-shadow(0px 1px 2px rgba(0, 0, 0, 0.3));\n",
              "        fill: #FFFFFF;\n",
              "      }\n",
              "    </style>\n",
              "    <button class=\"colab-df-generate\" onclick=\"generateWithVariable('all_data')\"\n",
              "            title=\"Generate code using this dataframe.\"\n",
              "            style=\"display:none;\">\n",
              "\n",
              "  <svg xmlns=\"http://www.w3.org/2000/svg\" height=\"24px\"viewBox=\"0 0 24 24\"\n",
              "       width=\"24px\">\n",
              "    <path d=\"M7,19H8.4L18.45,9,17,7.55,7,17.6ZM5,21V16.75L18.45,3.32a2,2,0,0,1,2.83,0l1.4,1.43a1.91,1.91,0,0,1,.58,1.4,1.91,1.91,0,0,1-.58,1.4L9.25,21ZM18.45,9,17,7.55Zm-12,3A5.31,5.31,0,0,0,4.9,8.1,5.31,5.31,0,0,0,1,6.5,5.31,5.31,0,0,0,4.9,4.9,5.31,5.31,0,0,0,6.5,1,5.31,5.31,0,0,0,8.1,4.9,5.31,5.31,0,0,0,12,6.5,5.46,5.46,0,0,0,6.5,12Z\"/>\n",
              "  </svg>\n",
              "    </button>\n",
              "    <script>\n",
              "      (() => {\n",
              "      const buttonEl =\n",
              "        document.querySelector('#id_37927552-936b-4fc7-8b9b-d2065e38958e button.colab-df-generate');\n",
              "      buttonEl.style.display =\n",
              "        google.colab.kernel.accessAllowed ? 'block' : 'none';\n",
              "\n",
              "      buttonEl.onclick = () => {\n",
              "        google.colab.notebook.generateWithVariable('all_data');\n",
              "      }\n",
              "      })();\n",
              "    </script>\n",
              "  </div>\n",
              "\n",
              "    </div>\n",
              "  </div>\n"
            ],
            "application/vnd.google.colaboratory.intrinsic+json": {
              "type": "dataframe",
              "variable_name": "all_data"
            }
          },
          "metadata": {},
          "execution_count": 42
        }
      ],
      "execution_count": 42
    },
    {
      "cell_type": "markdown",
      "source": [
        "Insight:\n",
        "\n",
        "* Dataset akhir terdiri dari 260647 entri dengan 12 kolom yang mencakup informasi lengkap pengguna, buku, dan rating"
      ],
      "metadata": {
        "id": "XdWFRySXJO8Y"
      },
      "id": "XdWFRySXJO8Y"
    },
    {
      "metadata": {
        "id": "dd6d60529bdde453"
      },
      "cell_type": "markdown",
      "source": [
        "## Modelling"
      ],
      "id": "dd6d60529bdde453"
    },
    {
      "metadata": {
        "id": "37fe55a157e04704"
      },
      "cell_type": "markdown",
      "source": [
        "### Model Development with Content Based Filtering (CBF)\n",
        "\n",
        "Sistem rekomendasi ini menggunakan pendekatan Content-Based Filtering (CBF) dengan memanfaatkan kemiripan antar buku berdasarkan sinopsis atau metadata. Proses dimulai dengan mentransformasi teks menjadi representasi numerik menggunakan metode TF-IDF (Term Frequency-Inverse Document Frequency). Kemudian, cosine similarity digunakan untuk mengukur kedekatan antar vektor buku. Buku dengan nilai kemiripan tertinggi dibandingkan buku yang disukai pengguna sebelumnya akan direkomendasikan."
      ],
      "id": "37fe55a157e04704"
    },
    {
      "metadata": {
        "ExecuteTime": {
          "end_time": "2025-04-24T09:44:32.290437Z",
          "start_time": "2025-04-24T09:44:31.872311Z"
        },
        "id": "ba1d54b94121a7be"
      },
      "cell_type": "code",
      "source": [
        "cbf_data = all_data[['Book-Title', 'Book-Author', 'Publisher', 'Image-URL-L']].drop_duplicates()\n",
        "cbf_data = cbf_data.drop_duplicates(subset=['Book-Title', 'Book-Author'], keep='first').reset_index(drop=True)"
      ],
      "id": "ba1d54b94121a7be",
      "outputs": [],
      "execution_count": 43
    },
    {
      "metadata": {
        "ExecuteTime": {
          "end_time": "2025-04-24T09:44:32.415196Z",
          "start_time": "2025-04-24T09:44:32.375807Z"
        },
        "id": "1b840b65dab5d1d7"
      },
      "cell_type": "code",
      "source": [
        "cbf_data['combined_features'] = cbf_data['Book-Title'] + ' ' + cbf_data['Book-Author']\n",
        "cbf_data['combined_features'] = cbf_data['combined_features'].fillna('')"
      ],
      "id": "1b840b65dab5d1d7",
      "outputs": [],
      "execution_count": 44
    },
    {
      "metadata": {
        "ExecuteTime": {
          "end_time": "2025-04-24T09:44:34.269158Z",
          "start_time": "2025-04-24T09:44:33.659396Z"
        },
        "colab": {
          "base_uri": "https://localhost:8080/"
        },
        "id": "b1744e83d2375cbd",
        "outputId": "a99b74fc-c839-41ba-fe05-37cb26289b8b"
      },
      "cell_type": "code",
      "source": [
        "tfidf = TfidfVectorizer()\n",
        "\n",
        "tfidf_matrix = tfidf.fit_transform(cbf_data['combined_features'])\n",
        "\n",
        "vocab = tfidf.get_feature_names_out()\n",
        "\n",
        "print(f\"Unique features (token): {len(vocab)}\")\n",
        "print(vocab[:20])"
      ],
      "id": "b1744e83d2375cbd",
      "outputs": [
        {
          "output_type": "stream",
          "name": "stdout",
          "text": [
            "Unique features (token): 71169\n",
            "['00' '000' '001' '0017' '003' '007' '01' '011090' '013' '016' '0176' '02'\n",
            " '024' '0272' '02745' '028' '02tc0676' '03' '030' '037']\n"
          ]
        }
      ],
      "execution_count": 45
    },
    {
      "cell_type": "markdown",
      "source": [
        "Insight:\n",
        "\n",
        "* Duplikasi dihapus berdasarkan kombinasi judul dan penulis untuk menjaga keunikan setiap buku\n",
        "* Hasil vektorisasi menghasilkan 71.169 token unik, menunjukkan keragaman kata dalam judul dan nama penulis\n",
        "* Beberapa token awal menunjukkan adanya karakter angka atau kode, yang dapat berasal dari judul/penulis non-alfabetik atau kode internal dalam data\n"
      ],
      "metadata": {
        "id": "4_qZbXVbJqu1"
      },
      "id": "4_qZbXVbJqu1"
    },
    {
      "metadata": {
        "ExecuteTime": {
          "end_time": "2025-04-24T09:44:34.640521Z",
          "start_time": "2025-04-24T09:44:34.637261Z"
        },
        "colab": {
          "base_uri": "https://localhost:8080/"
        },
        "id": "ff42cf9e3d8af295",
        "outputId": "b5fda33f-2931-416e-fe3f-830347317c67"
      },
      "cell_type": "code",
      "source": [
        "tfidf_matrix.shape"
      ],
      "id": "ff42cf9e3d8af295",
      "outputs": [
        {
          "output_type": "execute_result",
          "data": {
            "text/plain": [
              "(108309, 71169)"
            ]
          },
          "metadata": {},
          "execution_count": 46
        }
      ],
      "execution_count": 46
    },
    {
      "cell_type": "markdown",
      "source": [
        "Insight:\n",
        "\n",
        "* Matriks TF-IDF memiliki dimensi (108309, 71169), menunjukkan terdapat 108309 buku unik dan 71169 fitur kata unik"
      ],
      "metadata": {
        "id": "sl9xII1yKEG0"
      },
      "id": "sl9xII1yKEG0"
    },
    {
      "metadata": {
        "ExecuteTime": {
          "end_time": "2025-04-24T09:42:34.809453Z",
          "start_time": "2025-04-24T09:42:34.770635Z"
        },
        "id": "2be703026fb0599a"
      },
      "cell_type": "code",
      "source": [
        "cbf_data['Book-Title-Lower'] = cbf_data['Book-Title'].str.lower()\n",
        "indices = pd.Series(cbf_data.index, index=cbf_data['Book-Title-Lower']).drop_duplicates()"
      ],
      "id": "2be703026fb0599a",
      "outputs": [],
      "execution_count": 47
    },
    {
      "metadata": {
        "ExecuteTime": {
          "end_time": "2025-04-24T09:42:35.300844Z",
          "start_time": "2025-04-24T09:42:35.298072Z"
        },
        "id": "d407d37d50afb7f3"
      },
      "cell_type": "code",
      "source": [
        "def normalize_title(title):\n",
        "    title = title.lower()\n",
        "    title = re.sub(r'[^a-z\\s]', '', title)\n",
        "    title = re.sub(r'\\s+', ' ', title).strip()\n",
        "    return title"
      ],
      "id": "d407d37d50afb7f3",
      "outputs": [],
      "execution_count": 48
    },
    {
      "cell_type": "markdown",
      "source": [
        "Insight:\n",
        "\n",
        "* Fungsi normalize_title untuk menghapus variasi tidak relevan dalam judul, seperti tanda baca atau kapitalisasi, guna menghindari duplikasi semantik"
      ],
      "metadata": {
        "id": "ieSpLkgcLb7K"
      },
      "id": "ieSpLkgcLb7K"
    },
    {
      "metadata": {
        "ExecuteTime": {
          "end_time": "2025-04-24T14:34:26.281668Z",
          "start_time": "2025-04-24T14:34:26.273869Z"
        },
        "id": "3cf63551a034e1f"
      },
      "cell_type": "code",
      "source": [
        "def safe_display_image(url, width=100):\n",
        "    if isinstance(url, str) and url.startswith('http'):\n",
        "        try:\n",
        "            display(Image(url=url, width=width))\n",
        "        except:\n",
        "            print(\"[Image not available]\")\n",
        "    else:\n",
        "        print(\"[No image URL]\")"
      ],
      "id": "3cf63551a034e1f",
      "outputs": [],
      "execution_count": 49
    },
    {
      "cell_type": "markdown",
      "source": [
        "Insight:\n",
        "\n",
        "* Visualisasi cover buku ditampilkan jika URL gambar tersedia dan valid, meningkatkan pengalaman pengguna dalam mengeksplorasi rekomendasi"
      ],
      "metadata": {
        "id": "rLBGV6_VK8qJ"
      },
      "id": "rLBGV6_VK8qJ"
    },
    {
      "metadata": {
        "ExecuteTime": {
          "end_time": "2025-04-24T14:36:04.197399Z",
          "start_time": "2025-04-24T14:36:04.188106Z"
        },
        "id": "d2066c084b0d1279"
      },
      "cell_type": "code",
      "source": [
        "def get_book_recommendations(title, k=5, max_author_ratio=0.3):\n",
        "    \"\"\"\n",
        "    Return top-k diverse books based on TF-IDF cosine similarity.\n",
        "    Limits max percentage of books from the same author.\n",
        "    Excludes semantic duplicates based on normalized title + author.\n",
        "    \"\"\"\n",
        "    title = title.lower()\n",
        "\n",
        "    if title not in indices:\n",
        "        print(f\"Book title '{title}' not found in the dataset.\")\n",
        "        return\n",
        "\n",
        "    idx = indices[title]\n",
        "    if isinstance(idx, pd.Series):\n",
        "        idx = idx.iloc[0]\n",
        "\n",
        "    if idx >= tfidf_matrix.shape[0]:\n",
        "        print(f\"Index {idx} is out of range for the TF-IDF matrix.\")\n",
        "        return\n",
        "\n",
        "    input_title_norm = normalize_title(cbf_data.loc[idx, 'Book-Title'])\n",
        "    input_author = cbf_data.loc[idx, 'Book-Author'].lower()\n",
        "\n",
        "    sim_scores = cosine_similarity(tfidf_matrix[idx], tfidf_matrix).flatten()\n",
        "    top_indices = sim_scores.argsort()[::-1]\n",
        "\n",
        "    max_per_author = max(1, floor(k * max_author_ratio))\n",
        "    author_counts = defaultdict(int)\n",
        "    filtered = []\n",
        "\n",
        "    for i in top_indices:\n",
        "        if i == idx:\n",
        "            continue\n",
        "\n",
        "        candidate = cbf_data.iloc[i]\n",
        "        candidate_title_norm = normalize_title(candidate['Book-Title'])\n",
        "        candidate_author = candidate['Book-Author'].lower()\n",
        "\n",
        "        if candidate_title_norm == input_title_norm and candidate_author == input_author:\n",
        "            continue\n",
        "\n",
        "        if author_counts[candidate_author] >= max_per_author:\n",
        "            continue\n",
        "\n",
        "        filtered.append(i)\n",
        "        author_counts[candidate_author] += 1\n",
        "\n",
        "        if len(filtered) == k:\n",
        "            break\n",
        "\n",
        "    if not filtered:\n",
        "        print(\"No diverse recommendations found.\")\n",
        "        return\n",
        "\n",
        "    print(\"Input Book:\")\n",
        "    input_book = cbf_data.loc[idx]\n",
        "    print(f\"Title     : {input_book['Book-Title']}\")\n",
        "    print(f\"Author    : {input_book['Book-Author']}\")\n",
        "    print(f\"Publisher : {input_book['Publisher']}\")\n",
        "    safe_display_image(input_book['Image-URL-L'])\n",
        "\n",
        "    print(f\"\\nTop {k} Recommendations:\\n\")\n",
        "\n",
        "    for i, index in enumerate(filtered, start=1):\n",
        "        rec = cbf_data.iloc[index]\n",
        "        print(f\"#{i}\")\n",
        "        print(f\"Title     : {rec['Book-Title']}\")\n",
        "        print(f\"Author    : {rec['Book-Author']}\")\n",
        "        print(f\"Publisher : {rec['Publisher']}\")\n",
        "        safe_display_image(rec['Image-URL-L'])\n",
        "        print(\"-\" * 40)"
      ],
      "id": "d2066c084b0d1279",
      "outputs": [],
      "execution_count": 50
    },
    {
      "metadata": {
        "ExecuteTime": {
          "end_time": "2025-04-24T14:36:04.878048Z",
          "start_time": "2025-04-24T14:36:04.826671Z"
        },
        "colab": {
          "base_uri": "https://localhost:8080/",
          "height": 1000
        },
        "id": "5c958afb465f4126",
        "outputId": "b4703ee1-d51d-4259-b092-9092f4f35140"
      },
      "cell_type": "code",
      "source": [
        "get_book_recommendations(\"Rich Dad, Poor Dad: What the Rich Teach Their Kids About Money--That the Poor and Middle Class Do Not!\")"
      ],
      "id": "5c958afb465f4126",
      "outputs": [
        {
          "output_type": "stream",
          "name": "stdout",
          "text": [
            "Input Book:\n",
            "Title     : Rich Dad, Poor Dad: What the Rich Teach Their Kids About Money--That the Poor and Middle Class Do Not!\n",
            "Author    : Robert T. Kiyosaki\n",
            "Publisher : Warner Books\n"
          ]
        },
        {
          "output_type": "display_data",
          "data": {
            "text/html": [
              "<img src=\"http://images.amazon.com/images/P/0446677450.01.LZZZZZZZ.jpg\" width=\"100\"/>"
            ],
            "text/plain": [
              "<IPython.core.display.Image object>"
            ]
          },
          "metadata": {}
        },
        {
          "output_type": "stream",
          "name": "stdout",
          "text": [
            "\n",
            "Top 5 Recommendations:\n",
            "\n",
            "#1\n",
            "Title     : Rich Dad's Guide to Investing: What the Rich Invest in, That the Poor and the Middle Class Do Not!\n",
            "Author    : Robert T. Kiyosaki\n",
            "Publisher : Warner Business Books\n"
          ]
        },
        {
          "output_type": "display_data",
          "data": {
            "text/html": [
              "<img src=\"http://images.amazon.com/images/P/0446677469.01.LZZZZZZZ.jpg\" width=\"100\"/>"
            ],
            "text/plain": [
              "<IPython.core.display.Image object>"
            ]
          },
          "metadata": {}
        },
        {
          "output_type": "stream",
          "name": "stdout",
          "text": [
            "----------------------------------------\n",
            "#2\n",
            "Title     : Rich Man, Poor Man\n",
            "Author    : Irwin Shaw\n",
            "Publisher : Dell Publishing Company\n"
          ]
        },
        {
          "output_type": "display_data",
          "data": {
            "text/html": [
              "<img src=\"http://images.amazon.com/images/P/0440174244.01.LZZZZZZZ.jpg\" width=\"100\"/>"
            ],
            "text/plain": [
              "<IPython.core.display.Image object>"
            ]
          },
          "metadata": {}
        },
        {
          "output_type": "stream",
          "name": "stdout",
          "text": [
            "----------------------------------------\n",
            "#3\n",
            "Title     : Dad's Back (Dad and Me)\n",
            "Author    : Jan Ormerod\n",
            "Publisher : Walker Books\n"
          ]
        },
        {
          "output_type": "display_data",
          "data": {
            "text/html": [
              "<img src=\"http://images.amazon.com/images/P/0744509300.01.LZZZZZZZ.jpg\" width=\"100\"/>"
            ],
            "text/plain": [
              "<IPython.core.display.Image object>"
            ]
          },
          "metadata": {}
        },
        {
          "output_type": "stream",
          "name": "stdout",
          "text": [
            "----------------------------------------\n",
            "#4\n",
            "Title     : The Politics of Rich and Poor: Wealth and the American Electorate in the Reagan Aftermath\n",
            "Author    : Kevin Phillips\n",
            "Publisher : Harper Audio\n"
          ]
        },
        {
          "output_type": "display_data",
          "data": {
            "text/html": [
              "<img src=\"http://images.amazon.com/images/P/1559944277.01.LZZZZZZZ.jpg\" width=\"100\"/>"
            ],
            "text/plain": [
              "<IPython.core.display.Image object>"
            ]
          },
          "metadata": {}
        },
        {
          "output_type": "stream",
          "name": "stdout",
          "text": [
            "----------------------------------------\n",
            "#5\n",
            "Title     : Dad\n",
            "Author    : William Wharton\n",
            "Publisher : Avon Books\n"
          ]
        },
        {
          "output_type": "display_data",
          "data": {
            "text/html": [
              "<img src=\"http://images.amazon.com/images/P/0380585944.01.LZZZZZZZ.jpg\" width=\"100\"/>"
            ],
            "text/plain": [
              "<IPython.core.display.Image object>"
            ]
          },
          "metadata": {}
        },
        {
          "output_type": "stream",
          "name": "stdout",
          "text": [
            "----------------------------------------\n"
          ]
        }
      ],
      "execution_count": 51
    },
    {
      "cell_type": "markdown",
      "source": [
        "Insight:\n",
        "\n",
        "* Fungsi get_book_recommendations mengambil masukan berupa judul buku, dan menghitung kemiripan cosine antar buku menggunakan vektor TF-IDF\n",
        "* Mekanisme filter tambahan diterapkan untuk menghindari dominasi dari satu penulis saja (maksimal 30% dari total rekomendasi) dan menghindari duplikasi semantik\n",
        "* Hasil rekomendasi menunjukkan kombinasi dari buku dengan kemiripan tema, kata kunci, atau struktur judul, tetapi tetap mempertimbangkan keberagaman penulis\n",
        "* Visualisasi cover buku ditampilkan jika URL gambar tersedia dan valid, meningkatkan pengalaman pengguna dalam mengeksplorasi rekomendasi\n",
        "* Contoh hasil: Buku *Rich Dad, Poor Dad* merekomendasikan buku-buku serupa dalam tema keuangan, keluarga, atau dengan struktur judul yang mirip namun dari penulis yang beragam"
      ],
      "metadata": {
        "id": "vp3pfSzDK1LY"
      },
      "id": "vp3pfSzDK1LY"
    },
    {
      "metadata": {
        "id": "9e9f84202cd8e09e"
      },
      "cell_type": "markdown",
      "source": [
        "### Model Development with Collaborative Filtering (CF)\n",
        "\n",
        "Model Collaborative Filtering dikembangkan menggunakan pendekatan berbasis embedding, dengan arsitektur RecommenderNet. Model ini mempelajari representasi laten pengguna dan item dalam ruang vektor berdimensi rendah, yang kemudian digunakan untuk memprediksi preferensi pengguna terhadap buku yang belum pernah mereka rating."
      ],
      "id": "9e9f84202cd8e09e"
    },
    {
      "metadata": {
        "ExecuteTime": {
          "end_time": "2025-04-24T13:00:55.620011Z",
          "start_time": "2025-04-24T13:00:55.414793Z"
        },
        "id": "e35a4e4797b44c0f"
      },
      "cell_type": "code",
      "source": [
        "cf_data = all_data[['User-ID', 'ISBN', 'Book-Rating']].copy()"
      ],
      "id": "e35a4e4797b44c0f",
      "outputs": [],
      "execution_count": 52
    },
    {
      "metadata": {
        "ExecuteTime": {
          "end_time": "2025-04-24T13:01:54.670763Z",
          "start_time": "2025-04-24T13:01:54.488737Z"
        },
        "colab": {
          "base_uri": "https://localhost:8080/"
        },
        "id": "e3ab2de847fcf7e3",
        "outputId": "0a493e70-4e5c-4971-e69d-8574736a3a24"
      },
      "cell_type": "code",
      "source": [
        "cf_data.info()"
      ],
      "id": "e3ab2de847fcf7e3",
      "outputs": [
        {
          "output_type": "stream",
          "name": "stdout",
          "text": [
            "<class 'pandas.core.frame.DataFrame'>\n",
            "RangeIndex: 260647 entries, 0 to 260646\n",
            "Data columns (total 3 columns):\n",
            " #   Column       Non-Null Count   Dtype \n",
            "---  ------       --------------   ----- \n",
            " 0   User-ID      260647 non-null  int64 \n",
            " 1   ISBN         260647 non-null  object\n",
            " 2   Book-Rating  260647 non-null  int64 \n",
            "dtypes: int64(2), object(1)\n",
            "memory usage: 6.0+ MB\n"
          ]
        }
      ],
      "execution_count": 53
    },
    {
      "cell_type": "markdown",
      "source": [
        "Insight:\n",
        "\n",
        "* Dataset yang digunakan terdiri dari 260647 entri, mencakup User-ID, ISBN, dan Book-Rating\n",
        "* Semua entri memiliki data lengkap tanpa nilai yang hilang\n",
        "* Tipe data terdiri dari ID pengguna dan rating dalam bentuk numerik (int64), serta ISBN sebagai identifikasi unik buku dalam bentuk object"
      ],
      "metadata": {
        "id": "DOFMFJPlL-Mb"
      },
      "id": "DOFMFJPlL-Mb"
    },
    {
      "metadata": {
        "id": "6dce5c406f366005"
      },
      "cell_type": "markdown",
      "source": [
        "#### Collaborative Filtering Preprocessing\n",
        "\n",
        "* User-ID dan ISBN diencoding menjadi integer menggunakan LabelEncoder untuk mempermudah pemrosesan oleh model, menghasilkan dua kolom baru: user dan item\n",
        "* Kolom-kolom utama diubah menjadi penamaan yang lebih sederhana dan intuitif: user untuk User-ID, item untuk ISBN\n",
        "* Nilai Book-Rating dikonversi ke dalam format float agar kompatibel dengan berbagai algoritma pemodelan, seperti matrix factorization atau neural collaborative filtering\n"
      ],
      "id": "6dce5c406f366005"
    },
    {
      "metadata": {
        "ExecuteTime": {
          "end_time": "2025-04-24T13:10:04.351881Z",
          "start_time": "2025-04-24T13:10:03.717886Z"
        },
        "colab": {
          "base_uri": "https://localhost:8080/",
          "height": 423
        },
        "id": "69a13d60da43eb89",
        "outputId": "58f6beae-1322-4e36-9fa0-0e7c58dd13ea"
      },
      "cell_type": "code",
      "source": [
        "user_encoder = LabelEncoder()\n",
        "item_encoder = LabelEncoder()\n",
        "\n",
        "cf_data['user'] = user_encoder.fit_transform(cf_data['User-ID'])\n",
        "cf_data['item'] = item_encoder.fit_transform(cf_data['ISBN'])\n",
        "cf_data"
      ],
      "id": "69a13d60da43eb89",
      "outputs": [
        {
          "output_type": "execute_result",
          "data": {
            "text/plain": [
              "        User-ID        ISBN  Book-Rating   user    item\n",
              "0        276729  052165615X            3  39073   47812\n",
              "1        276729  0521795028            6  39073   47830\n",
              "2        276747  0060517794            9  39074    2322\n",
              "3        276747  0671537458            9  39074   57889\n",
              "4        276747  0679776818            8  39074   62078\n",
              "...         ...         ...          ...    ...     ...\n",
              "260642   276681  0446677450            8  39070   40292\n",
              "260643   276681  0609806491            7  39070   55127\n",
              "260644   276681  1931333246           10  39070  103247\n",
              "260645   276709  0515107662           10  39071   46314\n",
              "260646   276721  0590442449           10  39072   53849\n",
              "\n",
              "[260647 rows x 5 columns]"
            ],
            "text/html": [
              "\n",
              "  <div id=\"df-44ce9fe6-1048-4e44-8499-7b8504ff6e63\" class=\"colab-df-container\">\n",
              "    <div>\n",
              "<style scoped>\n",
              "    .dataframe tbody tr th:only-of-type {\n",
              "        vertical-align: middle;\n",
              "    }\n",
              "\n",
              "    .dataframe tbody tr th {\n",
              "        vertical-align: top;\n",
              "    }\n",
              "\n",
              "    .dataframe thead th {\n",
              "        text-align: right;\n",
              "    }\n",
              "</style>\n",
              "<table border=\"1\" class=\"dataframe\">\n",
              "  <thead>\n",
              "    <tr style=\"text-align: right;\">\n",
              "      <th></th>\n",
              "      <th>User-ID</th>\n",
              "      <th>ISBN</th>\n",
              "      <th>Book-Rating</th>\n",
              "      <th>user</th>\n",
              "      <th>item</th>\n",
              "    </tr>\n",
              "  </thead>\n",
              "  <tbody>\n",
              "    <tr>\n",
              "      <th>0</th>\n",
              "      <td>276729</td>\n",
              "      <td>052165615X</td>\n",
              "      <td>3</td>\n",
              "      <td>39073</td>\n",
              "      <td>47812</td>\n",
              "    </tr>\n",
              "    <tr>\n",
              "      <th>1</th>\n",
              "      <td>276729</td>\n",
              "      <td>0521795028</td>\n",
              "      <td>6</td>\n",
              "      <td>39073</td>\n",
              "      <td>47830</td>\n",
              "    </tr>\n",
              "    <tr>\n",
              "      <th>2</th>\n",
              "      <td>276747</td>\n",
              "      <td>0060517794</td>\n",
              "      <td>9</td>\n",
              "      <td>39074</td>\n",
              "      <td>2322</td>\n",
              "    </tr>\n",
              "    <tr>\n",
              "      <th>3</th>\n",
              "      <td>276747</td>\n",
              "      <td>0671537458</td>\n",
              "      <td>9</td>\n",
              "      <td>39074</td>\n",
              "      <td>57889</td>\n",
              "    </tr>\n",
              "    <tr>\n",
              "      <th>4</th>\n",
              "      <td>276747</td>\n",
              "      <td>0679776818</td>\n",
              "      <td>8</td>\n",
              "      <td>39074</td>\n",
              "      <td>62078</td>\n",
              "    </tr>\n",
              "    <tr>\n",
              "      <th>...</th>\n",
              "      <td>...</td>\n",
              "      <td>...</td>\n",
              "      <td>...</td>\n",
              "      <td>...</td>\n",
              "      <td>...</td>\n",
              "    </tr>\n",
              "    <tr>\n",
              "      <th>260642</th>\n",
              "      <td>276681</td>\n",
              "      <td>0446677450</td>\n",
              "      <td>8</td>\n",
              "      <td>39070</td>\n",
              "      <td>40292</td>\n",
              "    </tr>\n",
              "    <tr>\n",
              "      <th>260643</th>\n",
              "      <td>276681</td>\n",
              "      <td>0609806491</td>\n",
              "      <td>7</td>\n",
              "      <td>39070</td>\n",
              "      <td>55127</td>\n",
              "    </tr>\n",
              "    <tr>\n",
              "      <th>260644</th>\n",
              "      <td>276681</td>\n",
              "      <td>1931333246</td>\n",
              "      <td>10</td>\n",
              "      <td>39070</td>\n",
              "      <td>103247</td>\n",
              "    </tr>\n",
              "    <tr>\n",
              "      <th>260645</th>\n",
              "      <td>276709</td>\n",
              "      <td>0515107662</td>\n",
              "      <td>10</td>\n",
              "      <td>39071</td>\n",
              "      <td>46314</td>\n",
              "    </tr>\n",
              "    <tr>\n",
              "      <th>260646</th>\n",
              "      <td>276721</td>\n",
              "      <td>0590442449</td>\n",
              "      <td>10</td>\n",
              "      <td>39072</td>\n",
              "      <td>53849</td>\n",
              "    </tr>\n",
              "  </tbody>\n",
              "</table>\n",
              "<p>260647 rows × 5 columns</p>\n",
              "</div>\n",
              "    <div class=\"colab-df-buttons\">\n",
              "\n",
              "  <div class=\"colab-df-container\">\n",
              "    <button class=\"colab-df-convert\" onclick=\"convertToInteractive('df-44ce9fe6-1048-4e44-8499-7b8504ff6e63')\"\n",
              "            title=\"Convert this dataframe to an interactive table.\"\n",
              "            style=\"display:none;\">\n",
              "\n",
              "  <svg xmlns=\"http://www.w3.org/2000/svg\" height=\"24px\" viewBox=\"0 -960 960 960\">\n",
              "    <path d=\"M120-120v-720h720v720H120Zm60-500h600v-160H180v160Zm220 220h160v-160H400v160Zm0 220h160v-160H400v160ZM180-400h160v-160H180v160Zm440 0h160v-160H620v160ZM180-180h160v-160H180v160Zm440 0h160v-160H620v160Z\"/>\n",
              "  </svg>\n",
              "    </button>\n",
              "\n",
              "  <style>\n",
              "    .colab-df-container {\n",
              "      display:flex;\n",
              "      gap: 12px;\n",
              "    }\n",
              "\n",
              "    .colab-df-convert {\n",
              "      background-color: #E8F0FE;\n",
              "      border: none;\n",
              "      border-radius: 50%;\n",
              "      cursor: pointer;\n",
              "      display: none;\n",
              "      fill: #1967D2;\n",
              "      height: 32px;\n",
              "      padding: 0 0 0 0;\n",
              "      width: 32px;\n",
              "    }\n",
              "\n",
              "    .colab-df-convert:hover {\n",
              "      background-color: #E2EBFA;\n",
              "      box-shadow: 0px 1px 2px rgba(60, 64, 67, 0.3), 0px 1px 3px 1px rgba(60, 64, 67, 0.15);\n",
              "      fill: #174EA6;\n",
              "    }\n",
              "\n",
              "    .colab-df-buttons div {\n",
              "      margin-bottom: 4px;\n",
              "    }\n",
              "\n",
              "    [theme=dark] .colab-df-convert {\n",
              "      background-color: #3B4455;\n",
              "      fill: #D2E3FC;\n",
              "    }\n",
              "\n",
              "    [theme=dark] .colab-df-convert:hover {\n",
              "      background-color: #434B5C;\n",
              "      box-shadow: 0px 1px 3px 1px rgba(0, 0, 0, 0.15);\n",
              "      filter: drop-shadow(0px 1px 2px rgba(0, 0, 0, 0.3));\n",
              "      fill: #FFFFFF;\n",
              "    }\n",
              "  </style>\n",
              "\n",
              "    <script>\n",
              "      const buttonEl =\n",
              "        document.querySelector('#df-44ce9fe6-1048-4e44-8499-7b8504ff6e63 button.colab-df-convert');\n",
              "      buttonEl.style.display =\n",
              "        google.colab.kernel.accessAllowed ? 'block' : 'none';\n",
              "\n",
              "      async function convertToInteractive(key) {\n",
              "        const element = document.querySelector('#df-44ce9fe6-1048-4e44-8499-7b8504ff6e63');\n",
              "        const dataTable =\n",
              "          await google.colab.kernel.invokeFunction('convertToInteractive',\n",
              "                                                    [key], {});\n",
              "        if (!dataTable) return;\n",
              "\n",
              "        const docLinkHtml = 'Like what you see? Visit the ' +\n",
              "          '<a target=\"_blank\" href=https://colab.research.google.com/notebooks/data_table.ipynb>data table notebook</a>'\n",
              "          + ' to learn more about interactive tables.';\n",
              "        element.innerHTML = '';\n",
              "        dataTable['output_type'] = 'display_data';\n",
              "        await google.colab.output.renderOutput(dataTable, element);\n",
              "        const docLink = document.createElement('div');\n",
              "        docLink.innerHTML = docLinkHtml;\n",
              "        element.appendChild(docLink);\n",
              "      }\n",
              "    </script>\n",
              "  </div>\n",
              "\n",
              "\n",
              "    <div id=\"df-ec1085e3-f6dd-4131-ba01-ce7e2e3c971b\">\n",
              "      <button class=\"colab-df-quickchart\" onclick=\"quickchart('df-ec1085e3-f6dd-4131-ba01-ce7e2e3c971b')\"\n",
              "                title=\"Suggest charts\"\n",
              "                style=\"display:none;\">\n",
              "\n",
              "<svg xmlns=\"http://www.w3.org/2000/svg\" height=\"24px\"viewBox=\"0 0 24 24\"\n",
              "     width=\"24px\">\n",
              "    <g>\n",
              "        <path d=\"M19 3H5c-1.1 0-2 .9-2 2v14c0 1.1.9 2 2 2h14c1.1 0 2-.9 2-2V5c0-1.1-.9-2-2-2zM9 17H7v-7h2v7zm4 0h-2V7h2v10zm4 0h-2v-4h2v4z\"/>\n",
              "    </g>\n",
              "</svg>\n",
              "      </button>\n",
              "\n",
              "<style>\n",
              "  .colab-df-quickchart {\n",
              "      --bg-color: #E8F0FE;\n",
              "      --fill-color: #1967D2;\n",
              "      --hover-bg-color: #E2EBFA;\n",
              "      --hover-fill-color: #174EA6;\n",
              "      --disabled-fill-color: #AAA;\n",
              "      --disabled-bg-color: #DDD;\n",
              "  }\n",
              "\n",
              "  [theme=dark] .colab-df-quickchart {\n",
              "      --bg-color: #3B4455;\n",
              "      --fill-color: #D2E3FC;\n",
              "      --hover-bg-color: #434B5C;\n",
              "      --hover-fill-color: #FFFFFF;\n",
              "      --disabled-bg-color: #3B4455;\n",
              "      --disabled-fill-color: #666;\n",
              "  }\n",
              "\n",
              "  .colab-df-quickchart {\n",
              "    background-color: var(--bg-color);\n",
              "    border: none;\n",
              "    border-radius: 50%;\n",
              "    cursor: pointer;\n",
              "    display: none;\n",
              "    fill: var(--fill-color);\n",
              "    height: 32px;\n",
              "    padding: 0;\n",
              "    width: 32px;\n",
              "  }\n",
              "\n",
              "  .colab-df-quickchart:hover {\n",
              "    background-color: var(--hover-bg-color);\n",
              "    box-shadow: 0 1px 2px rgba(60, 64, 67, 0.3), 0 1px 3px 1px rgba(60, 64, 67, 0.15);\n",
              "    fill: var(--button-hover-fill-color);\n",
              "  }\n",
              "\n",
              "  .colab-df-quickchart-complete:disabled,\n",
              "  .colab-df-quickchart-complete:disabled:hover {\n",
              "    background-color: var(--disabled-bg-color);\n",
              "    fill: var(--disabled-fill-color);\n",
              "    box-shadow: none;\n",
              "  }\n",
              "\n",
              "  .colab-df-spinner {\n",
              "    border: 2px solid var(--fill-color);\n",
              "    border-color: transparent;\n",
              "    border-bottom-color: var(--fill-color);\n",
              "    animation:\n",
              "      spin 1s steps(1) infinite;\n",
              "  }\n",
              "\n",
              "  @keyframes spin {\n",
              "    0% {\n",
              "      border-color: transparent;\n",
              "      border-bottom-color: var(--fill-color);\n",
              "      border-left-color: var(--fill-color);\n",
              "    }\n",
              "    20% {\n",
              "      border-color: transparent;\n",
              "      border-left-color: var(--fill-color);\n",
              "      border-top-color: var(--fill-color);\n",
              "    }\n",
              "    30% {\n",
              "      border-color: transparent;\n",
              "      border-left-color: var(--fill-color);\n",
              "      border-top-color: var(--fill-color);\n",
              "      border-right-color: var(--fill-color);\n",
              "    }\n",
              "    40% {\n",
              "      border-color: transparent;\n",
              "      border-right-color: var(--fill-color);\n",
              "      border-top-color: var(--fill-color);\n",
              "    }\n",
              "    60% {\n",
              "      border-color: transparent;\n",
              "      border-right-color: var(--fill-color);\n",
              "    }\n",
              "    80% {\n",
              "      border-color: transparent;\n",
              "      border-right-color: var(--fill-color);\n",
              "      border-bottom-color: var(--fill-color);\n",
              "    }\n",
              "    90% {\n",
              "      border-color: transparent;\n",
              "      border-bottom-color: var(--fill-color);\n",
              "    }\n",
              "  }\n",
              "</style>\n",
              "\n",
              "      <script>\n",
              "        async function quickchart(key) {\n",
              "          const quickchartButtonEl =\n",
              "            document.querySelector('#' + key + ' button');\n",
              "          quickchartButtonEl.disabled = true;  // To prevent multiple clicks.\n",
              "          quickchartButtonEl.classList.add('colab-df-spinner');\n",
              "          try {\n",
              "            const charts = await google.colab.kernel.invokeFunction(\n",
              "                'suggestCharts', [key], {});\n",
              "          } catch (error) {\n",
              "            console.error('Error during call to suggestCharts:', error);\n",
              "          }\n",
              "          quickchartButtonEl.classList.remove('colab-df-spinner');\n",
              "          quickchartButtonEl.classList.add('colab-df-quickchart-complete');\n",
              "        }\n",
              "        (() => {\n",
              "          let quickchartButtonEl =\n",
              "            document.querySelector('#df-ec1085e3-f6dd-4131-ba01-ce7e2e3c971b button');\n",
              "          quickchartButtonEl.style.display =\n",
              "            google.colab.kernel.accessAllowed ? 'block' : 'none';\n",
              "        })();\n",
              "      </script>\n",
              "    </div>\n",
              "\n",
              "  <div id=\"id_93c3517c-9ad2-429d-baf6-8f2f391e3ed9\">\n",
              "    <style>\n",
              "      .colab-df-generate {\n",
              "        background-color: #E8F0FE;\n",
              "        border: none;\n",
              "        border-radius: 50%;\n",
              "        cursor: pointer;\n",
              "        display: none;\n",
              "        fill: #1967D2;\n",
              "        height: 32px;\n",
              "        padding: 0 0 0 0;\n",
              "        width: 32px;\n",
              "      }\n",
              "\n",
              "      .colab-df-generate:hover {\n",
              "        background-color: #E2EBFA;\n",
              "        box-shadow: 0px 1px 2px rgba(60, 64, 67, 0.3), 0px 1px 3px 1px rgba(60, 64, 67, 0.15);\n",
              "        fill: #174EA6;\n",
              "      }\n",
              "\n",
              "      [theme=dark] .colab-df-generate {\n",
              "        background-color: #3B4455;\n",
              "        fill: #D2E3FC;\n",
              "      }\n",
              "\n",
              "      [theme=dark] .colab-df-generate:hover {\n",
              "        background-color: #434B5C;\n",
              "        box-shadow: 0px 1px 3px 1px rgba(0, 0, 0, 0.15);\n",
              "        filter: drop-shadow(0px 1px 2px rgba(0, 0, 0, 0.3));\n",
              "        fill: #FFFFFF;\n",
              "      }\n",
              "    </style>\n",
              "    <button class=\"colab-df-generate\" onclick=\"generateWithVariable('cf_data')\"\n",
              "            title=\"Generate code using this dataframe.\"\n",
              "            style=\"display:none;\">\n",
              "\n",
              "  <svg xmlns=\"http://www.w3.org/2000/svg\" height=\"24px\"viewBox=\"0 0 24 24\"\n",
              "       width=\"24px\">\n",
              "    <path d=\"M7,19H8.4L18.45,9,17,7.55,7,17.6ZM5,21V16.75L18.45,3.32a2,2,0,0,1,2.83,0l1.4,1.43a1.91,1.91,0,0,1,.58,1.4,1.91,1.91,0,0,1-.58,1.4L9.25,21ZM18.45,9,17,7.55Zm-12,3A5.31,5.31,0,0,0,4.9,8.1,5.31,5.31,0,0,0,1,6.5,5.31,5.31,0,0,0,4.9,4.9,5.31,5.31,0,0,0,6.5,1,5.31,5.31,0,0,0,8.1,4.9,5.31,5.31,0,0,0,12,6.5,5.46,5.46,0,0,0,6.5,12Z\"/>\n",
              "  </svg>\n",
              "    </button>\n",
              "    <script>\n",
              "      (() => {\n",
              "      const buttonEl =\n",
              "        document.querySelector('#id_93c3517c-9ad2-429d-baf6-8f2f391e3ed9 button.colab-df-generate');\n",
              "      buttonEl.style.display =\n",
              "        google.colab.kernel.accessAllowed ? 'block' : 'none';\n",
              "\n",
              "      buttonEl.onclick = () => {\n",
              "        google.colab.notebook.generateWithVariable('cf_data');\n",
              "      }\n",
              "      })();\n",
              "    </script>\n",
              "  </div>\n",
              "\n",
              "    </div>\n",
              "  </div>\n"
            ],
            "application/vnd.google.colaboratory.intrinsic+json": {
              "type": "dataframe",
              "variable_name": "cf_data"
            }
          },
          "metadata": {},
          "execution_count": 54
        }
      ],
      "execution_count": 54
    },
    {
      "cell_type": "markdown",
      "source": [
        "Insight:\n",
        "\n",
        "* Dataset akhir memiliki lima kolom dan 260647 baris, siap digunakan sebagai input dalam sistem rekomendasi berbasis Collaborative Filtering"
      ],
      "metadata": {
        "id": "SLKipHncM7jd"
      },
      "id": "SLKipHncM7jd"
    },
    {
      "metadata": {
        "ExecuteTime": {
          "end_time": "2025-04-24T13:12:06.940251Z",
          "start_time": "2025-04-24T13:12:06.907610Z"
        },
        "id": "d1622df009f77a5c"
      },
      "cell_type": "code",
      "source": [
        "cf_data['rating'] = cf_data['Book-Rating'].astype(float)"
      ],
      "id": "d1622df009f77a5c",
      "outputs": [],
      "execution_count": 55
    },
    {
      "cell_type": "markdown",
      "source": [
        "Insight:\n",
        "\n",
        "* Kolom rating telah dikonversi ke dalam tipe data float untuk mendukung komputasi matematis dalam model ML"
      ],
      "metadata": {
        "id": "_JmssMJuNNNt"
      },
      "id": "_JmssMJuNNNt"
    },
    {
      "metadata": {
        "ExecuteTime": {
          "end_time": "2025-04-24T13:12:30.658176Z",
          "start_time": "2025-04-24T13:12:30.605053Z"
        },
        "colab": {
          "base_uri": "https://localhost:8080/",
          "height": 423
        },
        "id": "ad94b2cff21b0f9d",
        "outputId": "35f53696-9171-406b-c649-9ae80b92dabf"
      },
      "cell_type": "code",
      "source": [
        "cf_data = cf_data[['user', 'item', 'rating']]\n",
        "cf_data"
      ],
      "id": "ad94b2cff21b0f9d",
      "outputs": [
        {
          "output_type": "execute_result",
          "data": {
            "text/plain": [
              "         user    item  rating\n",
              "0       39073   47812     3.0\n",
              "1       39073   47830     6.0\n",
              "2       39074    2322     9.0\n",
              "3       39074   57889     9.0\n",
              "4       39074   62078     8.0\n",
              "...       ...     ...     ...\n",
              "260642  39070   40292     8.0\n",
              "260643  39070   55127     7.0\n",
              "260644  39070  103247    10.0\n",
              "260645  39071   46314    10.0\n",
              "260646  39072   53849    10.0\n",
              "\n",
              "[260647 rows x 3 columns]"
            ],
            "text/html": [
              "\n",
              "  <div id=\"df-7aea646f-c63b-47ee-98a1-fe20a7da98f1\" class=\"colab-df-container\">\n",
              "    <div>\n",
              "<style scoped>\n",
              "    .dataframe tbody tr th:only-of-type {\n",
              "        vertical-align: middle;\n",
              "    }\n",
              "\n",
              "    .dataframe tbody tr th {\n",
              "        vertical-align: top;\n",
              "    }\n",
              "\n",
              "    .dataframe thead th {\n",
              "        text-align: right;\n",
              "    }\n",
              "</style>\n",
              "<table border=\"1\" class=\"dataframe\">\n",
              "  <thead>\n",
              "    <tr style=\"text-align: right;\">\n",
              "      <th></th>\n",
              "      <th>user</th>\n",
              "      <th>item</th>\n",
              "      <th>rating</th>\n",
              "    </tr>\n",
              "  </thead>\n",
              "  <tbody>\n",
              "    <tr>\n",
              "      <th>0</th>\n",
              "      <td>39073</td>\n",
              "      <td>47812</td>\n",
              "      <td>3.0</td>\n",
              "    </tr>\n",
              "    <tr>\n",
              "      <th>1</th>\n",
              "      <td>39073</td>\n",
              "      <td>47830</td>\n",
              "      <td>6.0</td>\n",
              "    </tr>\n",
              "    <tr>\n",
              "      <th>2</th>\n",
              "      <td>39074</td>\n",
              "      <td>2322</td>\n",
              "      <td>9.0</td>\n",
              "    </tr>\n",
              "    <tr>\n",
              "      <th>3</th>\n",
              "      <td>39074</td>\n",
              "      <td>57889</td>\n",
              "      <td>9.0</td>\n",
              "    </tr>\n",
              "    <tr>\n",
              "      <th>4</th>\n",
              "      <td>39074</td>\n",
              "      <td>62078</td>\n",
              "      <td>8.0</td>\n",
              "    </tr>\n",
              "    <tr>\n",
              "      <th>...</th>\n",
              "      <td>...</td>\n",
              "      <td>...</td>\n",
              "      <td>...</td>\n",
              "    </tr>\n",
              "    <tr>\n",
              "      <th>260642</th>\n",
              "      <td>39070</td>\n",
              "      <td>40292</td>\n",
              "      <td>8.0</td>\n",
              "    </tr>\n",
              "    <tr>\n",
              "      <th>260643</th>\n",
              "      <td>39070</td>\n",
              "      <td>55127</td>\n",
              "      <td>7.0</td>\n",
              "    </tr>\n",
              "    <tr>\n",
              "      <th>260644</th>\n",
              "      <td>39070</td>\n",
              "      <td>103247</td>\n",
              "      <td>10.0</td>\n",
              "    </tr>\n",
              "    <tr>\n",
              "      <th>260645</th>\n",
              "      <td>39071</td>\n",
              "      <td>46314</td>\n",
              "      <td>10.0</td>\n",
              "    </tr>\n",
              "    <tr>\n",
              "      <th>260646</th>\n",
              "      <td>39072</td>\n",
              "      <td>53849</td>\n",
              "      <td>10.0</td>\n",
              "    </tr>\n",
              "  </tbody>\n",
              "</table>\n",
              "<p>260647 rows × 3 columns</p>\n",
              "</div>\n",
              "    <div class=\"colab-df-buttons\">\n",
              "\n",
              "  <div class=\"colab-df-container\">\n",
              "    <button class=\"colab-df-convert\" onclick=\"convertToInteractive('df-7aea646f-c63b-47ee-98a1-fe20a7da98f1')\"\n",
              "            title=\"Convert this dataframe to an interactive table.\"\n",
              "            style=\"display:none;\">\n",
              "\n",
              "  <svg xmlns=\"http://www.w3.org/2000/svg\" height=\"24px\" viewBox=\"0 -960 960 960\">\n",
              "    <path d=\"M120-120v-720h720v720H120Zm60-500h600v-160H180v160Zm220 220h160v-160H400v160Zm0 220h160v-160H400v160ZM180-400h160v-160H180v160Zm440 0h160v-160H620v160ZM180-180h160v-160H180v160Zm440 0h160v-160H620v160Z\"/>\n",
              "  </svg>\n",
              "    </button>\n",
              "\n",
              "  <style>\n",
              "    .colab-df-container {\n",
              "      display:flex;\n",
              "      gap: 12px;\n",
              "    }\n",
              "\n",
              "    .colab-df-convert {\n",
              "      background-color: #E8F0FE;\n",
              "      border: none;\n",
              "      border-radius: 50%;\n",
              "      cursor: pointer;\n",
              "      display: none;\n",
              "      fill: #1967D2;\n",
              "      height: 32px;\n",
              "      padding: 0 0 0 0;\n",
              "      width: 32px;\n",
              "    }\n",
              "\n",
              "    .colab-df-convert:hover {\n",
              "      background-color: #E2EBFA;\n",
              "      box-shadow: 0px 1px 2px rgba(60, 64, 67, 0.3), 0px 1px 3px 1px rgba(60, 64, 67, 0.15);\n",
              "      fill: #174EA6;\n",
              "    }\n",
              "\n",
              "    .colab-df-buttons div {\n",
              "      margin-bottom: 4px;\n",
              "    }\n",
              "\n",
              "    [theme=dark] .colab-df-convert {\n",
              "      background-color: #3B4455;\n",
              "      fill: #D2E3FC;\n",
              "    }\n",
              "\n",
              "    [theme=dark] .colab-df-convert:hover {\n",
              "      background-color: #434B5C;\n",
              "      box-shadow: 0px 1px 3px 1px rgba(0, 0, 0, 0.15);\n",
              "      filter: drop-shadow(0px 1px 2px rgba(0, 0, 0, 0.3));\n",
              "      fill: #FFFFFF;\n",
              "    }\n",
              "  </style>\n",
              "\n",
              "    <script>\n",
              "      const buttonEl =\n",
              "        document.querySelector('#df-7aea646f-c63b-47ee-98a1-fe20a7da98f1 button.colab-df-convert');\n",
              "      buttonEl.style.display =\n",
              "        google.colab.kernel.accessAllowed ? 'block' : 'none';\n",
              "\n",
              "      async function convertToInteractive(key) {\n",
              "        const element = document.querySelector('#df-7aea646f-c63b-47ee-98a1-fe20a7da98f1');\n",
              "        const dataTable =\n",
              "          await google.colab.kernel.invokeFunction('convertToInteractive',\n",
              "                                                    [key], {});\n",
              "        if (!dataTable) return;\n",
              "\n",
              "        const docLinkHtml = 'Like what you see? Visit the ' +\n",
              "          '<a target=\"_blank\" href=https://colab.research.google.com/notebooks/data_table.ipynb>data table notebook</a>'\n",
              "          + ' to learn more about interactive tables.';\n",
              "        element.innerHTML = '';\n",
              "        dataTable['output_type'] = 'display_data';\n",
              "        await google.colab.output.renderOutput(dataTable, element);\n",
              "        const docLink = document.createElement('div');\n",
              "        docLink.innerHTML = docLinkHtml;\n",
              "        element.appendChild(docLink);\n",
              "      }\n",
              "    </script>\n",
              "  </div>\n",
              "\n",
              "\n",
              "    <div id=\"df-1bc4755e-5473-4388-b0ba-976976f61a48\">\n",
              "      <button class=\"colab-df-quickchart\" onclick=\"quickchart('df-1bc4755e-5473-4388-b0ba-976976f61a48')\"\n",
              "                title=\"Suggest charts\"\n",
              "                style=\"display:none;\">\n",
              "\n",
              "<svg xmlns=\"http://www.w3.org/2000/svg\" height=\"24px\"viewBox=\"0 0 24 24\"\n",
              "     width=\"24px\">\n",
              "    <g>\n",
              "        <path d=\"M19 3H5c-1.1 0-2 .9-2 2v14c0 1.1.9 2 2 2h14c1.1 0 2-.9 2-2V5c0-1.1-.9-2-2-2zM9 17H7v-7h2v7zm4 0h-2V7h2v10zm4 0h-2v-4h2v4z\"/>\n",
              "    </g>\n",
              "</svg>\n",
              "      </button>\n",
              "\n",
              "<style>\n",
              "  .colab-df-quickchart {\n",
              "      --bg-color: #E8F0FE;\n",
              "      --fill-color: #1967D2;\n",
              "      --hover-bg-color: #E2EBFA;\n",
              "      --hover-fill-color: #174EA6;\n",
              "      --disabled-fill-color: #AAA;\n",
              "      --disabled-bg-color: #DDD;\n",
              "  }\n",
              "\n",
              "  [theme=dark] .colab-df-quickchart {\n",
              "      --bg-color: #3B4455;\n",
              "      --fill-color: #D2E3FC;\n",
              "      --hover-bg-color: #434B5C;\n",
              "      --hover-fill-color: #FFFFFF;\n",
              "      --disabled-bg-color: #3B4455;\n",
              "      --disabled-fill-color: #666;\n",
              "  }\n",
              "\n",
              "  .colab-df-quickchart {\n",
              "    background-color: var(--bg-color);\n",
              "    border: none;\n",
              "    border-radius: 50%;\n",
              "    cursor: pointer;\n",
              "    display: none;\n",
              "    fill: var(--fill-color);\n",
              "    height: 32px;\n",
              "    padding: 0;\n",
              "    width: 32px;\n",
              "  }\n",
              "\n",
              "  .colab-df-quickchart:hover {\n",
              "    background-color: var(--hover-bg-color);\n",
              "    box-shadow: 0 1px 2px rgba(60, 64, 67, 0.3), 0 1px 3px 1px rgba(60, 64, 67, 0.15);\n",
              "    fill: var(--button-hover-fill-color);\n",
              "  }\n",
              "\n",
              "  .colab-df-quickchart-complete:disabled,\n",
              "  .colab-df-quickchart-complete:disabled:hover {\n",
              "    background-color: var(--disabled-bg-color);\n",
              "    fill: var(--disabled-fill-color);\n",
              "    box-shadow: none;\n",
              "  }\n",
              "\n",
              "  .colab-df-spinner {\n",
              "    border: 2px solid var(--fill-color);\n",
              "    border-color: transparent;\n",
              "    border-bottom-color: var(--fill-color);\n",
              "    animation:\n",
              "      spin 1s steps(1) infinite;\n",
              "  }\n",
              "\n",
              "  @keyframes spin {\n",
              "    0% {\n",
              "      border-color: transparent;\n",
              "      border-bottom-color: var(--fill-color);\n",
              "      border-left-color: var(--fill-color);\n",
              "    }\n",
              "    20% {\n",
              "      border-color: transparent;\n",
              "      border-left-color: var(--fill-color);\n",
              "      border-top-color: var(--fill-color);\n",
              "    }\n",
              "    30% {\n",
              "      border-color: transparent;\n",
              "      border-left-color: var(--fill-color);\n",
              "      border-top-color: var(--fill-color);\n",
              "      border-right-color: var(--fill-color);\n",
              "    }\n",
              "    40% {\n",
              "      border-color: transparent;\n",
              "      border-right-color: var(--fill-color);\n",
              "      border-top-color: var(--fill-color);\n",
              "    }\n",
              "    60% {\n",
              "      border-color: transparent;\n",
              "      border-right-color: var(--fill-color);\n",
              "    }\n",
              "    80% {\n",
              "      border-color: transparent;\n",
              "      border-right-color: var(--fill-color);\n",
              "      border-bottom-color: var(--fill-color);\n",
              "    }\n",
              "    90% {\n",
              "      border-color: transparent;\n",
              "      border-bottom-color: var(--fill-color);\n",
              "    }\n",
              "  }\n",
              "</style>\n",
              "\n",
              "      <script>\n",
              "        async function quickchart(key) {\n",
              "          const quickchartButtonEl =\n",
              "            document.querySelector('#' + key + ' button');\n",
              "          quickchartButtonEl.disabled = true;  // To prevent multiple clicks.\n",
              "          quickchartButtonEl.classList.add('colab-df-spinner');\n",
              "          try {\n",
              "            const charts = await google.colab.kernel.invokeFunction(\n",
              "                'suggestCharts', [key], {});\n",
              "          } catch (error) {\n",
              "            console.error('Error during call to suggestCharts:', error);\n",
              "          }\n",
              "          quickchartButtonEl.classList.remove('colab-df-spinner');\n",
              "          quickchartButtonEl.classList.add('colab-df-quickchart-complete');\n",
              "        }\n",
              "        (() => {\n",
              "          let quickchartButtonEl =\n",
              "            document.querySelector('#df-1bc4755e-5473-4388-b0ba-976976f61a48 button');\n",
              "          quickchartButtonEl.style.display =\n",
              "            google.colab.kernel.accessAllowed ? 'block' : 'none';\n",
              "        })();\n",
              "      </script>\n",
              "    </div>\n",
              "\n",
              "  <div id=\"id_b90956a7-549b-4696-87d8-838b1ec16eb3\">\n",
              "    <style>\n",
              "      .colab-df-generate {\n",
              "        background-color: #E8F0FE;\n",
              "        border: none;\n",
              "        border-radius: 50%;\n",
              "        cursor: pointer;\n",
              "        display: none;\n",
              "        fill: #1967D2;\n",
              "        height: 32px;\n",
              "        padding: 0 0 0 0;\n",
              "        width: 32px;\n",
              "      }\n",
              "\n",
              "      .colab-df-generate:hover {\n",
              "        background-color: #E2EBFA;\n",
              "        box-shadow: 0px 1px 2px rgba(60, 64, 67, 0.3), 0px 1px 3px 1px rgba(60, 64, 67, 0.15);\n",
              "        fill: #174EA6;\n",
              "      }\n",
              "\n",
              "      [theme=dark] .colab-df-generate {\n",
              "        background-color: #3B4455;\n",
              "        fill: #D2E3FC;\n",
              "      }\n",
              "\n",
              "      [theme=dark] .colab-df-generate:hover {\n",
              "        background-color: #434B5C;\n",
              "        box-shadow: 0px 1px 3px 1px rgba(0, 0, 0, 0.15);\n",
              "        filter: drop-shadow(0px 1px 2px rgba(0, 0, 0, 0.3));\n",
              "        fill: #FFFFFF;\n",
              "      }\n",
              "    </style>\n",
              "    <button class=\"colab-df-generate\" onclick=\"generateWithVariable('cf_data')\"\n",
              "            title=\"Generate code using this dataframe.\"\n",
              "            style=\"display:none;\">\n",
              "\n",
              "  <svg xmlns=\"http://www.w3.org/2000/svg\" height=\"24px\"viewBox=\"0 0 24 24\"\n",
              "       width=\"24px\">\n",
              "    <path d=\"M7,19H8.4L18.45,9,17,7.55,7,17.6ZM5,21V16.75L18.45,3.32a2,2,0,0,1,2.83,0l1.4,1.43a1.91,1.91,0,0,1,.58,1.4,1.91,1.91,0,0,1-.58,1.4L9.25,21ZM18.45,9,17,7.55Zm-12,3A5.31,5.31,0,0,0,4.9,8.1,5.31,5.31,0,0,0,1,6.5,5.31,5.31,0,0,0,4.9,4.9,5.31,5.31,0,0,0,6.5,1,5.31,5.31,0,0,0,8.1,4.9,5.31,5.31,0,0,0,12,6.5,5.46,5.46,0,0,0,6.5,12Z\"/>\n",
              "  </svg>\n",
              "    </button>\n",
              "    <script>\n",
              "      (() => {\n",
              "      const buttonEl =\n",
              "        document.querySelector('#id_b90956a7-549b-4696-87d8-838b1ec16eb3 button.colab-df-generate');\n",
              "      buttonEl.style.display =\n",
              "        google.colab.kernel.accessAllowed ? 'block' : 'none';\n",
              "\n",
              "      buttonEl.onclick = () => {\n",
              "        google.colab.notebook.generateWithVariable('cf_data');\n",
              "      }\n",
              "      })();\n",
              "    </script>\n",
              "  </div>\n",
              "\n",
              "    </div>\n",
              "  </div>\n"
            ],
            "application/vnd.google.colaboratory.intrinsic+json": {
              "type": "dataframe",
              "variable_name": "cf_data"
            }
          },
          "metadata": {},
          "execution_count": 56
        }
      ],
      "execution_count": 56
    },
    {
      "cell_type": "markdown",
      "source": [
        "Insight:\n",
        "\n",
        "* Dataset CF telah dibersihkan dan disederhanakan menjadi user, item, dan rating\n",
        "* Dataset akhir terdiri dari 260647 interaksi pengguna dengan buku, siap digunakan untuk pelatihan dan evaluasi model sistem rekomendasi"
      ],
      "metadata": {
        "id": "6-SbvxBiNT9R"
      },
      "id": "6-SbvxBiNT9R"
    },
    {
      "metadata": {
        "ExecuteTime": {
          "end_time": "2025-04-24T13:14:37.533820Z",
          "start_time": "2025-04-24T13:14:37.478318Z"
        },
        "id": "d3767d62c6e69466"
      },
      "cell_type": "code",
      "source": [
        "num_users = cf_data['user'].nunique()\n",
        "num_items = cf_data['item'].nunique()\n",
        "\n",
        "min_rating = cf_data['rating'].min()\n",
        "max_rating = cf_data['rating'].max()"
      ],
      "id": "d3767d62c6e69466",
      "outputs": [],
      "execution_count": 57
    },
    {
      "cell_type": "code",
      "source": [
        "print(f\"Number of Users       : {num_users}\")\n",
        "print(f\"Number of Items       : {num_items}\")\n",
        "print(f\"Minimum Rating Value  : {min_rating}\")\n",
        "print(f\"Maximum Rating Value  : {max_rating}\")"
      ],
      "metadata": {
        "colab": {
          "base_uri": "https://localhost:8080/"
        },
        "id": "CIkFlWif-cHX",
        "outputId": "c055c42a-fcd1-45d5-d26a-b214bf2cdcc1"
      },
      "id": "CIkFlWif-cHX",
      "execution_count": 58,
      "outputs": [
        {
          "output_type": "stream",
          "name": "stdout",
          "text": [
            "Number of Users       : 39392\n",
            "Number of Items       : 115503\n",
            "Minimum Rating Value  : 1.0\n",
            "Maximum Rating Value  : 10.0\n"
          ]
        }
      ]
    },
    {
      "cell_type": "markdown",
      "source": [
        "Insight:\n",
        "\n",
        "* Dataset mencakup hampir 40 ribu pengguna dan lebih dari 115 ribu item buku, menunjukkan cakupan interaksi yang luas\n",
        "* Skala rating bervariasi dari 1 hingga 10"
      ],
      "metadata": {
        "id": "EpeCeL_SNlVY"
      },
      "id": "EpeCeL_SNlVY"
    },
    {
      "metadata": {
        "id": "88481dd3d028faf0"
      },
      "cell_type": "markdown",
      "source": [
        "#### Split Train and Testing Data\n",
        "\n",
        "Data dibagi dengan proporsi 80% untuk pelatihan (train) dan 20% untuk pengujian (test)."
      ],
      "id": "88481dd3d028faf0"
    },
    {
      "metadata": {
        "ExecuteTime": {
          "end_time": "2025-04-24T13:21:11.496317Z",
          "start_time": "2025-04-24T13:21:11.392065Z"
        },
        "id": "e1385debade90e7c"
      },
      "cell_type": "code",
      "source": [
        "X = cf_data[['user', 'item']].values\n",
        "y = cf_data['rating'].apply(lambda x: (x - min_rating) / (max_rating - min_rating)).values"
      ],
      "id": "e1385debade90e7c",
      "outputs": [],
      "execution_count": 59
    },
    {
      "metadata": {
        "ExecuteTime": {
          "end_time": "2025-04-24T13:23:20.372889Z",
          "start_time": "2025-04-24T13:23:20.328439Z"
        },
        "id": "416e39c0f5957e8"
      },
      "cell_type": "code",
      "source": [
        "X_train, X_test, y_train, y_test = train_test_split(\n",
        "    X,    # input: user-item pairs\n",
        "    y,    # target: normalized ratings\n",
        "    test_size=0.2,\n",
        "    random_state=42\n",
        ")"
      ],
      "id": "416e39c0f5957e8",
      "outputs": [],
      "execution_count": 60
    },
    {
      "cell_type": "code",
      "source": [
        "print(f\"X_train shape : {X_train.shape}\")\n",
        "print(f\"X_test shape  : {X_test.shape}\")\n",
        "print(f\"y_train shape : {y_train.shape}\")\n",
        "print(f\"y_test shape  : {y_test.shape}\")"
      ],
      "metadata": {
        "colab": {
          "base_uri": "https://localhost:8080/"
        },
        "id": "37CwHHTp-m9e",
        "outputId": "77a9ed11-b8f8-4d26-e8f9-c4c6bef8b72d"
      },
      "id": "37CwHHTp-m9e",
      "execution_count": 61,
      "outputs": [
        {
          "output_type": "stream",
          "name": "stdout",
          "text": [
            "X_train shape : (208517, 2)\n",
            "X_test shape  : (52130, 2)\n",
            "y_train shape : (208517,)\n",
            "y_test shape  : (52130,)\n"
          ]
        }
      ]
    },
    {
      "cell_type": "markdown",
      "source": [
        "Insight:\n",
        "\n",
        "* Input berupa pasangan user dan item\n",
        "* Target berupa skor rating yang telah dinormalisasi ke rentang 0 hingga 1\n"
      ],
      "metadata": {
        "id": "lPVFIaG_OAnV"
      },
      "id": "lPVFIaG_OAnV"
    },
    {
      "cell_type": "markdown",
      "source": [
        "## Evaluation\n",
        "\n",
        "Model RecommenderNet merupakan model neural network berbasis embedding yang dirancang untuk mempelajari representasi pengguna dan item dalam ruang vektor. Evaluasi model dilakukan setelah proses pelatihan dengan langkah-langkah berikut:\n",
        "\n",
        "1. Data dibagi menjadi data pelatihan dan data validasi.\n",
        "2. Model dilatih menggunakan fungsi loss Mean Squared Error (MSE) dan optimizer Adam.\n",
        "3. Setelah pelatihan, prediksi rating dilakukan pada data validasi.\n",
        "4. Hasil prediksi dibandingkan dengan rating aktual untuk menghitung RMSE (Root Mean Square Error) sebagai metrik evaluasi akurasi.\n",
        "\n",
        "Evaluasi ini membantu mengukur keberhasilan model dalam menjawab problem statement kedua, yaitu memberikan rekomendasi yang dipersonalisasi meskipun interaksi pengguna masih terbatas."
      ],
      "metadata": {
        "id": "6YoVtcilX6kQ"
      },
      "id": "6YoVtcilX6kQ"
    },
    {
      "metadata": {
        "ExecuteTime": {
          "end_time": "2025-04-24T13:43:37.443015Z",
          "start_time": "2025-04-24T13:43:37.423553Z"
        },
        "id": "3ee6a5615ddc4e63"
      },
      "cell_type": "code",
      "source": [
        "class RecommenderNet(keras.Model):\n",
        "    def __init__(self, num_users, num_items, embedding_size=50, **kwargs):\n",
        "        super(RecommenderNet, self).__init__(**kwargs)\n",
        "\n",
        "        self.user_embedding = layers.Embedding(\n",
        "            input_dim=num_users,\n",
        "            output_dim=embedding_size,\n",
        "            embeddings_initializer='he_normal',\n",
        "            embeddings_regularizer=keras.regularizers.l2(1e-6)\n",
        "        )\n",
        "        self.user_bias = layers.Embedding(input_dim=num_users, output_dim=1)\n",
        "\n",
        "        self.item_embedding = layers.Embedding(\n",
        "            input_dim=num_items,\n",
        "            output_dim=embedding_size,\n",
        "            embeddings_initializer='he_normal',\n",
        "            embeddings_regularizer=keras.regularizers.l2(1e-6)\n",
        "        )\n",
        "        self.item_bias = layers.Embedding(input_dim=num_items, output_dim=1)\n",
        "\n",
        "    def call(self, inputs):\n",
        "        user_vector = self.user_embedding(inputs[:, 0])\n",
        "        user_bias = self.user_bias(inputs[:, 0])\n",
        "        item_vector = self.item_embedding(inputs[:, 1])\n",
        "        item_bias = self.item_bias(inputs[:, 1])\n",
        "\n",
        "        dot_user_item = tf.reduce_sum(user_vector * item_vector, axis=1, keepdims=True)\n",
        "        result = dot_user_item + user_bias + item_bias\n",
        "\n",
        "        return tf.nn.sigmoid(result)"
      ],
      "id": "3ee6a5615ddc4e63",
      "outputs": [],
      "execution_count": 62
    },
    {
      "metadata": {
        "ExecuteTime": {
          "end_time": "2025-04-24T13:44:32.434628Z",
          "start_time": "2025-04-24T13:44:32.375871Z"
        },
        "id": "b22d25cc1ce4a46b"
      },
      "cell_type": "code",
      "source": [
        "num_users = cf_data['user'].nunique()\n",
        "num_items = cf_data['item'].nunique()\n",
        "\n",
        "model = RecommenderNet(num_users, num_items)\n",
        "model.compile(\n",
        "    loss='mse',\n",
        "    optimizer=tf.keras.optimizers.Adam(learning_rate=0.001),\n",
        "    metrics=[\n",
        "        tf.keras.metrics.RootMeanSquaredError(),\n",
        "        tf.keras.metrics.MeanAbsoluteError()\n",
        "    ]\n",
        ")"
      ],
      "id": "b22d25cc1ce4a46b",
      "outputs": [],
      "execution_count": 63
    },
    {
      "metadata": {
        "ExecuteTime": {
          "end_time": "2025-04-24T13:56:57.998899Z",
          "start_time": "2025-04-24T13:44:46.991975Z"
        },
        "colab": {
          "base_uri": "https://localhost:8080/"
        },
        "id": "ea3a2b06a5ec2826",
        "outputId": "b383089c-aaf4-40f1-c483-a7698773f616"
      },
      "cell_type": "code",
      "source": [
        "history = model.fit(\n",
        "    x=X_train,\n",
        "    y=y_train,\n",
        "    batch_size=64,\n",
        "    epochs=10,\n",
        "    verbose=1,\n",
        "    validation_data=(X_test, y_test)\n",
        ")"
      ],
      "id": "ea3a2b06a5ec2826",
      "outputs": [
        {
          "output_type": "stream",
          "name": "stdout",
          "text": [
            "Epoch 1/10\n",
            "\u001b[1m3259/3259\u001b[0m \u001b[32m━━━━━━━━━━━━━━━━━━━━\u001b[0m\u001b[37m\u001b[0m \u001b[1m263s\u001b[0m 80ms/step - loss: 0.0903 - mean_absolute_error: 0.2607 - root_mean_squared_error: 0.2999 - val_loss: 0.0660 - val_mean_absolute_error: 0.2152 - val_root_mean_squared_error: 0.2545\n",
            "Epoch 2/10\n",
            "\u001b[1m3259/3259\u001b[0m \u001b[32m━━━━━━━━━━━━━━━━━━━━\u001b[0m\u001b[37m\u001b[0m \u001b[1m271s\u001b[0m 83ms/step - loss: 0.0581 - mean_absolute_error: 0.1974 - root_mean_squared_error: 0.2368 - val_loss: 0.0533 - val_mean_absolute_error: 0.1850 - val_root_mean_squared_error: 0.2250\n",
            "Epoch 3/10\n",
            "\u001b[1m3259/3259\u001b[0m \u001b[32m━━━━━━━━━━━━━━━━━━━━\u001b[0m\u001b[37m\u001b[0m \u001b[1m318s\u001b[0m 81ms/step - loss: 0.0449 - mean_absolute_error: 0.1659 - root_mean_squared_error: 0.2050 - val_loss: 0.0470 - val_mean_absolute_error: 0.1716 - val_root_mean_squared_error: 0.2117\n",
            "Epoch 4/10\n",
            "\u001b[1m3259/3259\u001b[0m \u001b[32m━━━━━━━━━━━━━━━━━━━━\u001b[0m\u001b[37m\u001b[0m \u001b[1m222s\u001b[0m 68ms/step - loss: 0.0375 - mean_absolute_error: 0.1491 - root_mean_squared_error: 0.1877 - val_loss: 0.0430 - val_mean_absolute_error: 0.1635 - val_root_mean_squared_error: 0.2036\n",
            "Epoch 5/10\n",
            "\u001b[1m3259/3259\u001b[0m \u001b[32m━━━━━━━━━━━━━━━━━━━━\u001b[0m\u001b[37m\u001b[0m \u001b[1m284s\u001b[0m 75ms/step - loss: 0.0326 - mean_absolute_error: 0.1380 - root_mean_squared_error: 0.1760 - val_loss: 0.0406 - val_mean_absolute_error: 0.1582 - val_root_mean_squared_error: 0.1984\n",
            "Epoch 6/10\n",
            "\u001b[1m3259/3259\u001b[0m \u001b[32m━━━━━━━━━━━━━━━━━━━━\u001b[0m\u001b[37m\u001b[0m \u001b[1m275s\u001b[0m 79ms/step - loss: 0.0293 - mean_absolute_error: 0.1292 - root_mean_squared_error: 0.1673 - val_loss: 0.0391 - val_mean_absolute_error: 0.1544 - val_root_mean_squared_error: 0.1949\n",
            "Epoch 7/10\n",
            "\u001b[1m3259/3259\u001b[0m \u001b[32m━━━━━━━━━━━━━━━━━━━━\u001b[0m\u001b[37m\u001b[0m \u001b[1m255s\u001b[0m 77ms/step - loss: 0.0268 - mean_absolute_error: 0.1223 - root_mean_squared_error: 0.1599 - val_loss: 0.0382 - val_mean_absolute_error: 0.1520 - val_root_mean_squared_error: 0.1927\n",
            "Epoch 8/10\n",
            "\u001b[1m3259/3259\u001b[0m \u001b[32m━━━━━━━━━━━━━━━━━━━━\u001b[0m\u001b[37m\u001b[0m \u001b[1m227s\u001b[0m 70ms/step - loss: 0.0250 - mean_absolute_error: 0.1168 - root_mean_squared_error: 0.1544 - val_loss: 0.0376 - val_mean_absolute_error: 0.1503 - val_root_mean_squared_error: 0.1912\n",
            "Epoch 9/10\n",
            "\u001b[1m3259/3259\u001b[0m \u001b[32m━━━━━━━━━━━━━━━━━━━━\u001b[0m\u001b[37m\u001b[0m \u001b[1m236s\u001b[0m 62ms/step - loss: 0.0234 - mean_absolute_error: 0.1120 - root_mean_squared_error: 0.1495 - val_loss: 0.0372 - val_mean_absolute_error: 0.1491 - val_root_mean_squared_error: 0.1903\n",
            "Epoch 10/10\n",
            "\u001b[1m3259/3259\u001b[0m \u001b[32m━━━━━━━━━━━━━━━━━━━━\u001b[0m\u001b[37m\u001b[0m \u001b[1m200s\u001b[0m 61ms/step - loss: 0.0222 - mean_absolute_error: 0.1077 - root_mean_squared_error: 0.1454 - val_loss: 0.0370 - val_mean_absolute_error: 0.1484 - val_root_mean_squared_error: 0.1897\n"
          ]
        }
      ],
      "execution_count": 64
    },
    {
      "cell_type": "markdown",
      "source": [
        "Insight:\n",
        "\n",
        "* Model converge dengan baik: terlihat dari penurunan yang konsisten pada loss, MAE, dan RMSE baik di data training maupun validasi.\n",
        "* Overfitting belum terlihat jelas hingga epoch ke-10, val\\_loss terus menurun seiring waktu.\n",
        "* Final validation RMSE ≈ 0.19 artinya prediksi model cukup mendekati nilai sebenarnya dalam skala 0–1 (rating yang telah dinormalisasi)."
      ],
      "metadata": {
        "id": "7fBApXFXRcBd"
      },
      "id": "7fBApXFXRcBd"
    },
    {
      "cell_type": "code",
      "source": [
        "print(\"Final Training Metrics:\")\n",
        "print(f\"  Loss (MSE)  : {history.history['loss'][-1]:.4f}\")\n",
        "print(f\"  RMSE        : {history.history['root_mean_squared_error'][-1]:.4f}\")\n",
        "print(f\"  MAE         : {history.history['mean_absolute_error'][-1]:.4f}\")\n",
        "\n",
        "print(\"\\nFinal Validation Metrics:\")\n",
        "print(f\"  Loss (MSE)  : {history.history['val_loss'][-1]:.4f}\")\n",
        "print(f\"  RMSE        : {history.history['val_root_mean_squared_error'][-1]:.4f}\")\n",
        "print(f\"  MAE         : {history.history['val_mean_absolute_error'][-1]:.4f}\")"
      ],
      "metadata": {
        "colab": {
          "base_uri": "https://localhost:8080/"
        },
        "id": "i-8_VHM_KenV",
        "outputId": "a5135782-a08c-47f9-af35-6b99ede4c7e7"
      },
      "id": "i-8_VHM_KenV",
      "execution_count": 65,
      "outputs": [
        {
          "output_type": "stream",
          "name": "stdout",
          "text": [
            "Final Training Metrics:\n",
            "  Loss (MSE)  : 0.0226\n",
            "  RMSE        : 0.1466\n",
            "  MAE         : 0.1090\n",
            "\n",
            "Final Validation Metrics:\n",
            "  Loss (MSE)  : 0.0370\n",
            "  RMSE        : 0.1897\n",
            "  MAE         : 0.1484\n"
          ]
        }
      ]
    },
    {
      "cell_type": "markdown",
      "source": [
        "Insight:\n",
        "\n",
        "* Selisih kecil antara training dan validation metrics menunjukkan:\n",
        "\n",
        "  * Model generalizes well (tidak overfitting).\n",
        "  * Model sudah cukup peka terhadap pola pengguna-item dalam data.\n",
        "* RMSE & MAE pada validation berada dalam kisaran wajar (rating distandarisasi di 0–1):\n",
        "\n",
        "  * Setelah denormalisasi, ini kira-kira setara dengan kesalahan ±0.9 poin pada skala 1–10 (karena range rating = 9)."
      ],
      "metadata": {
        "id": "CsAEtDCmTl0_"
      },
      "id": "CsAEtDCmTl0_"
    },
    {
      "metadata": {
        "id": "7a879064808670e7"
      },
      "cell_type": "markdown",
      "source": [
        "#### Visualize Metrics"
      ],
      "id": "7a879064808670e7"
    },
    {
      "metadata": {
        "ExecuteTime": {
          "end_time": "2025-04-24T13:57:05.118586Z",
          "start_time": "2025-04-24T13:57:05.111165Z"
        },
        "id": "4039f2046f2355e3"
      },
      "cell_type": "code",
      "source": [
        "def plot_training_history(history):\n",
        "    plt.figure(figsize=(14, 5))\n",
        "\n",
        "    # Loss (MSE)\n",
        "    plt.subplot(1, 3, 1)\n",
        "    plt.plot(history.history['loss'], label='Train Loss (MSE)')\n",
        "    plt.plot(history.history['val_loss'], label='Val Loss (MSE)')\n",
        "    plt.title('Loss per Epoch')\n",
        "    plt.xlabel('Epoch')\n",
        "    plt.ylabel('Loss')\n",
        "    plt.legend()\n",
        "    plt.grid(True)\n",
        "\n",
        "    # RMSE\n",
        "    plt.subplot(1, 3, 2)\n",
        "    plt.plot(history.history['root_mean_squared_error'], label='Train RMSE')\n",
        "    plt.plot(history.history['val_root_mean_squared_error'], label='Val RMSE')\n",
        "    plt.title('RMSE per Epoch')\n",
        "    plt.xlabel('Epoch')\n",
        "    plt.ylabel('RMSE')\n",
        "    plt.legend()\n",
        "    plt.grid(True)\n",
        "\n",
        "    # MAE\n",
        "    plt.subplot(1, 3, 3)\n",
        "    plt.plot(history.history['mean_absolute_error'], label='Train MAE')\n",
        "    plt.plot(history.history['val_mean_absolute_error'], label='Val MAE')\n",
        "    plt.title('MAE per Epoch')\n",
        "    plt.xlabel('Epoch')\n",
        "    plt.ylabel('MAE')\n",
        "    plt.legend()\n",
        "    plt.grid(True)\n",
        "\n",
        "    plt.tight_layout()\n",
        "    plt.show()"
      ],
      "id": "4039f2046f2355e3",
      "outputs": [],
      "execution_count": 66
    },
    {
      "metadata": {
        "ExecuteTime": {
          "end_time": "2025-04-24T13:57:08.322195Z",
          "start_time": "2025-04-24T13:57:07.757149Z"
        },
        "colab": {
          "base_uri": "https://localhost:8080/",
          "height": 239
        },
        "id": "48bf39a20b8db687",
        "outputId": "9c077583-0292-47ce-a9af-f9c00d1fbf2f"
      },
      "cell_type": "code",
      "source": [
        "plot_training_history(history)"
      ],
      "id": "48bf39a20b8db687",
      "outputs": [
        {
          "output_type": "display_data",
          "data": {
            "text/plain": [
              "<Figure size 1400x500 with 3 Axes>"
            ],
            "image/png": "[encoded data removed]"
          },
          "metadata": {}
        }
      ],
      "execution_count": 67
    },
    {
      "cell_type": "markdown",
      "source": [
        "Insight:\n",
        "\n",
        "1. **Loss per Epoch (MSE)**\n",
        "\n",
        "   * Baik loss pada data training maupun validasi menunjukkan tren penurunan yang konsisten.\n",
        "   * Setelah epoch ke-5, penurunan pada loss validasi mulai melambat dan cenderung mendatar.\n",
        "   * Ini menunjukkan bahwa model masih belajar dengan baik dan belum terlihat tanda overfitting yang signifikan.\n",
        "\n",
        "2. **RMSE per Epoch**\n",
        "\n",
        "   * RMSE pada data training terus menurun hingga mencapai sekitar 0.15.\n",
        "   * RMSE pada data validasi juga menurun, meskipun konvergensi terjadi pada nilai sekitar 0.19.\n",
        "   * Selisih antara RMSE training dan validasi cukup kecil, menandakan bahwa model memiliki generalisasi yang baik dan tidak mengalami high variance.\n",
        "\n",
        "3. **MAE per Epoch**\n",
        "\n",
        "   * MAE pada data training menurun secara stabil hingga mencapai sekitar 0.11.\n",
        "   * MAE pada data validasi juga menurun namun lebih lambat, dan berhenti turun signifikan di kisaran 0.148.\n",
        "   * Ini konsisten dengan tren pada RMSE, menunjukkan stabilitas performa model di data yang tidak dilatih.\n",
        "\n",
        "Kesimpulan:\n",
        "\n",
        "* Model memiliki performa yang baik dan stabil di data training maupun validasi.\n",
        "* Tidak ada indikasi overfitting atau underfitting yang jelas."
      ],
      "metadata": {
        "id": "1d-jmIIvUULm"
      },
      "id": "1d-jmIIvUULm"
    },
    {
      "metadata": {
        "id": "df5c3d21c02978fa"
      },
      "cell_type": "markdown",
      "source": [
        "#### Get Books Recommendation"
      ],
      "id": "df5c3d21c02978fa"
    },
    {
      "metadata": {
        "ExecuteTime": {
          "end_time": "2025-04-24T16:08:43.177272Z",
          "start_time": "2025-04-24T16:08:42.917227Z"
        },
        "id": "b64ff5a508fd8ec2"
      },
      "cell_type": "code",
      "source": [
        "def show_high_rated_book_and_recommendation(original_user_id, top_k=5, min_rating=8.0, top_k_rating=3):\n",
        "    try:\n",
        "        encoded_user_id = user_encoder.transform([original_user_id])[0]\n",
        "    except ValueError:\n",
        "        print(f\"User-ID {original_user_id} not found in training data.\")\n",
        "        return pd.DataFrame()\n",
        "\n",
        "    high_rated_df = cf_data[(cf_data['user'] == encoded_user_id) & (cf_data['rating'] >= min_rating)]\n",
        "    top_rated_df = high_rated_df.sort_values(by='rating', ascending=False).head(top_k_rating)\n",
        "\n",
        "    high_rated_isbn = item_encoder.inverse_transform(top_rated_df['item'])\n",
        "\n",
        "    high_rated_books = books[books['ISBN'].isin(high_rated_isbn)][[\n",
        "        'Book-Title', 'Book-Author', 'Publisher', 'Image-URL-L']].drop_duplicates().reset_index(drop=True)\n",
        "\n",
        "    print(f\"Top {top_k_rating} Books rated ≥ {min_rating} by user {original_user_id}:\\n\")\n",
        "    if high_rated_books.empty:\n",
        "        print(\"No high-rated books found.\")\n",
        "    else:\n",
        "        for i, row in high_rated_books.iterrows():\n",
        "            print(f\"#{i+1}: {row['Book-Title']} by {row['Book-Author']} ({row['Publisher']})\")\n",
        "            safe_display_image(row['Image-URL-L'])\n",
        "            print(\"-\" * 40)\n",
        "\n",
        "    user_all_rated_df = cf_data[cf_data['user'] == encoded_user_id]\n",
        "    rated_items = user_all_rated_df['item'].values\n",
        "\n",
        "    all_items = np.arange(num_items)\n",
        "    unrated_items = np.setdiff1d(all_items, rated_items)\n",
        "\n",
        "    user_input = np.array([[encoded_user_id, item] for item in unrated_items])\n",
        "\n",
        "    predicted_ratings = model.predict(user_input, verbose=0).flatten()\n",
        "\n",
        "    top_indices = predicted_ratings.argsort()[-top_k:][::-1]\n",
        "\n",
        "    recommended_item_ids = unrated_items[top_indices]\n",
        "    recommended_isbn = item_encoder.inverse_transform(recommended_item_ids)\n",
        "    recommended_books = books[books['ISBN'].isin(recommended_isbn)][[\n",
        "        'Book-Title', 'Book-Author', 'Publisher', 'Image-URL-M']].drop_duplicates().reset_index(drop=True)\n",
        "\n",
        "    print(f\"\\nTop {top_k} Book Recommendations for User {original_user_id}:\\n\")\n",
        "    if recommended_books.empty:\n",
        "        print(\"No recommendations available.\")\n",
        "    else:\n",
        "        for i, row in recommended_books.iterrows():\n",
        "            print(f\"#{i+1}: {row['Book-Title']} by {row['Book-Author']} ({row['Publisher']})\")\n",
        "            safe_display_image(row['Image-URL-M'], width=100)\n",
        "            print(\"-\" * 40)"
      ],
      "id": "b64ff5a508fd8ec2",
      "outputs": [],
      "execution_count": 68
    },
    {
      "metadata": {
        "ExecuteTime": {
          "end_time": "2025-04-24T16:08:48.620674Z",
          "start_time": "2025-04-24T16:08:43.694962Z"
        },
        "colab": {
          "base_uri": "https://localhost:8080/",
          "height": 1000
        },
        "id": "82c1aac4e2e922e0",
        "outputId": "7c207f95-6915-4977-adf5-bf3d051da1a2"
      },
      "cell_type": "code",
      "source": [
        "unique_users = np.unique(X_train[:, 0])\n",
        "original_user_ids = user_encoder.inverse_transform(unique_users)\n",
        "random_user_id = random.choice(original_user_ids)\n",
        "\n",
        "print(f\"Get high rated books and recommendation for user ID: {random_user_id}\")\n",
        "\n",
        "show_high_rated_book_and_recommendation(random_user_id)"
      ],
      "id": "82c1aac4e2e922e0",
      "outputs": [
        {
          "output_type": "stream",
          "name": "stdout",
          "text": [
            "Get high rated books and recommendation for user ID: 277439\n",
            "Top 3 Books rated ≥ 8.0 by user 277439:\n",
            "\n",
            "No high-rated books found.\n",
            "\n",
            "Top 5 Book Recommendations for User 277439:\n",
            "\n",
            "#1: Lonesome Dove by Larry McMurtry (Pocket)\n"
          ]
        },
        {
          "output_type": "display_data",
          "data": {
            "text/html": [
              "<img src=\"http://images.amazon.com/images/P/067168390X.01.MZZZZZZZ.jpg\" width=\"100\"/>"
            ],
            "text/plain": [
              "<IPython.core.display.Image object>"
            ]
          },
          "metadata": {}
        },
        {
          "output_type": "stream",
          "name": "stdout",
          "text": [
            "----------------------------------------\n",
            "#2: Free by Paul Vincent (Upfront Publishing)\n"
          ]
        },
        {
          "output_type": "display_data",
          "data": {
            "text/html": [
              "<img src=\"http://images.amazon.com/images/P/1844262553.01.MZZZZZZZ.jpg\" width=\"100\"/>"
            ],
            "text/plain": [
              "<IPython.core.display.Image object>"
            ]
          },
          "metadata": {}
        },
        {
          "output_type": "stream",
          "name": "stdout",
          "text": [
            "----------------------------------------\n",
            "#3: The Return of the King (The Lord of the Rings, Part 3) by J.R.R. TOLKIEN (Del Rey)\n"
          ]
        },
        {
          "output_type": "display_data",
          "data": {
            "text/html": [
              "<img src=\"http://images.amazon.com/images/P/0345339738.01.MZZZZZZZ.jpg\" width=\"100\"/>"
            ],
            "text/plain": [
              "<IPython.core.display.Image object>"
            ]
          },
          "metadata": {}
        },
        {
          "output_type": "stream",
          "name": "stdout",
          "text": [
            "----------------------------------------\n",
            "#4: Harry Potter and the Sorcerer's Stone (Book 1) by J. K. Rowling (Scholastic)\n"
          ]
        },
        {
          "output_type": "display_data",
          "data": {
            "text/html": [
              "<img src=\"http://images.amazon.com/images/P/043936213X.01.MZZZZZZZ.jpg\" width=\"100\"/>"
            ],
            "text/plain": [
              "<IPython.core.display.Image object>"
            ]
          },
          "metadata": {}
        },
        {
          "output_type": "stream",
          "name": "stdout",
          "text": [
            "----------------------------------------\n",
            "#5: My Sister's Keeper : A Novel (Picoult, Jodi) by Jodi Picoult (Atria)\n"
          ]
        },
        {
          "output_type": "display_data",
          "data": {
            "text/html": [
              "<img src=\"http://images.amazon.com/images/P/0743454529.01.MZZZZZZZ.jpg\" width=\"100\"/>"
            ],
            "text/plain": [
              "<IPython.core.display.Image object>"
            ]
          },
          "metadata": {}
        },
        {
          "output_type": "stream",
          "name": "stdout",
          "text": [
            "----------------------------------------\n"
          ]
        }
      ],
      "execution_count": 69
    },
    {
      "cell_type": "markdown",
      "source": [
        "Insight:\n",
        "\n",
        "Berdasarkan hasil fungsi rekomendasi untuk user ID 277439:\n",
        "\n",
        "**Tidak Ada Buku Rating Tinggi**\n",
        "\n",
        "* Tidak ditemukan buku yang diberi rating ≥ 8.0 oleh user ini di data pelatihan.\n",
        "* Hal ini mungkin terjadi karena:\n",
        "\n",
        "  * User belum pernah memberi rating tinggi\n",
        "  * Rating user semuanya di bawah 8.0\n",
        "  * User termasuk cold start (jumlah interaksinya sedikit)\n",
        "\n",
        "**Rekomendasi Buku untuk User 277439 (Top 5)**\n",
        "\n",
        "1. **Lonesome Dove** — Larry McMurtry (Pocket)\n",
        "2. **Free** — Paul Vincent (Upfront Publishing)\n",
        "3. **The Return of the King (The Lord of the Rings, Part 3)** — J.R.R. TOLKIEN (Del Rey)\n",
        "4. **Harry Potter and the Sorcerer's Stone (Book 1)** — J.K. Rowling (Scholastic)\n",
        "5. **My Sister's Keeper: A Novel** — Jodi Picoult (Atria)\n",
        "\n",
        "---\n",
        "\n",
        "\n",
        "Rekomendasi ini masuk akal karena model memprioritaskan buku yang belum dirating user dan memperkirakan rating tertinggi berdasarkan pola pengguna lain. Beberapa buku di atas adalah novel terkenal, yang menunjukkan model berhasil menangkap popularitas umum dan relevansi dari sisi genre/favorit publik."
      ],
      "metadata": {
        "id": "vHchr06zU4xr"
      },
      "id": "vHchr06zU4xr"
    },
    {
      "metadata": {
        "ExecuteTime": {
          "end_time": "2025-04-24T16:08:52.670656Z",
          "start_time": "2025-04-24T16:08:48.625391Z"
        },
        "colab": {
          "base_uri": "https://localhost:8080/",
          "height": 1000
        },
        "id": "b6492da44ee8ad51",
        "outputId": "447fbe14-1d57-4572-ee64-1103d9b062b7"
      },
      "cell_type": "code",
      "source": [
        "show_high_rated_book_and_recommendation(110887)"
      ],
      "id": "b6492da44ee8ad51",
      "outputs": [
        {
          "output_type": "stream",
          "name": "stdout",
          "text": [
            "Top 3 Books rated ≥ 8.0 by user 110887:\n",
            "\n",
            "#1: In the Heart of the Sea: The Tragedy of the Whaleship Essex by Nat Philbrick (Penguin Books)\n"
          ]
        },
        {
          "output_type": "display_data",
          "data": {
            "text/html": [
              "<img src=\"http://images.amazon.com/images/P/0141001828.01.LZZZZZZZ.jpg\" width=\"100\"/>"
            ],
            "text/plain": [
              "<IPython.core.display.Image object>"
            ]
          },
          "metadata": {}
        },
        {
          "output_type": "stream",
          "name": "stdout",
          "text": [
            "----------------------------------------\n",
            "#2: Driven by W. G. Griffiths (Warner Faith)\n"
          ]
        },
        {
          "output_type": "display_data",
          "data": {
            "text/html": [
              "<img src=\"http://images.amazon.com/images/P/0446679402.01.LZZZZZZZ.jpg\" width=\"100\"/>"
            ],
            "text/plain": [
              "<IPython.core.display.Image object>"
            ]
          },
          "metadata": {}
        },
        {
          "output_type": "stream",
          "name": "stdout",
          "text": [
            "----------------------------------------\n",
            "#3: About Three Bricks Shy of a Load by Mel Blount (Ballantine Books)\n"
          ]
        },
        {
          "output_type": "display_data",
          "data": {
            "text/html": [
              "<img src=\"http://images.amazon.com/images/P/0345291107.01.LZZZZZZZ.jpg\" width=\"100\"/>"
            ],
            "text/plain": [
              "<IPython.core.display.Image object>"
            ]
          },
          "metadata": {}
        },
        {
          "output_type": "stream",
          "name": "stdout",
          "text": [
            "----------------------------------------\n",
            "\n",
            "Top 5 Book Recommendations for User 110887:\n",
            "\n",
            "#1: Lonesome Dove by Larry McMurtry (Pocket)\n"
          ]
        },
        {
          "output_type": "display_data",
          "data": {
            "text/html": [
              "<img src=\"http://images.amazon.com/images/P/067168390X.01.MZZZZZZZ.jpg\" width=\"100\"/>"
            ],
            "text/plain": [
              "<IPython.core.display.Image object>"
            ]
          },
          "metadata": {}
        },
        {
          "output_type": "stream",
          "name": "stdout",
          "text": [
            "----------------------------------------\n",
            "#2: Free by Paul Vincent (Upfront Publishing)\n"
          ]
        },
        {
          "output_type": "display_data",
          "data": {
            "text/html": [
              "<img src=\"http://images.amazon.com/images/P/1844262553.01.MZZZZZZZ.jpg\" width=\"100\"/>"
            ],
            "text/plain": [
              "<IPython.core.display.Image object>"
            ]
          },
          "metadata": {}
        },
        {
          "output_type": "stream",
          "name": "stdout",
          "text": [
            "----------------------------------------\n",
            "#3: The Return of the King (The Lord of the Rings, Part 3) by J.R.R. TOLKIEN (Del Rey)\n"
          ]
        },
        {
          "output_type": "display_data",
          "data": {
            "text/html": [
              "<img src=\"http://images.amazon.com/images/P/0345339738.01.MZZZZZZZ.jpg\" width=\"100\"/>"
            ],
            "text/plain": [
              "<IPython.core.display.Image object>"
            ]
          },
          "metadata": {}
        },
        {
          "output_type": "stream",
          "name": "stdout",
          "text": [
            "----------------------------------------\n",
            "#4: Harry Potter and the Sorcerer's Stone (Book 1) by J. K. Rowling (Scholastic)\n"
          ]
        },
        {
          "output_type": "display_data",
          "data": {
            "text/html": [
              "<img src=\"http://images.amazon.com/images/P/043936213X.01.MZZZZZZZ.jpg\" width=\"100\"/>"
            ],
            "text/plain": [
              "<IPython.core.display.Image object>"
            ]
          },
          "metadata": {}
        },
        {
          "output_type": "stream",
          "name": "stdout",
          "text": [
            "----------------------------------------\n",
            "#5: My Sister's Keeper : A Novel (Picoult, Jodi) by Jodi Picoult (Atria)\n"
          ]
        },
        {
          "output_type": "display_data",
          "data": {
            "text/html": [
              "<img src=\"http://images.amazon.com/images/P/0743454529.01.MZZZZZZZ.jpg\" width=\"100\"/>"
            ],
            "text/plain": [
              "<IPython.core.display.Image object>"
            ]
          },
          "metadata": {}
        },
        {
          "output_type": "stream",
          "name": "stdout",
          "text": [
            "----------------------------------------\n"
          ]
        }
      ],
      "execution_count": 70
    },
    {
      "cell_type": "markdown",
      "source": [
        "Insight:\n",
        "\n",
        "**3 Buku dengan Rating ≥ 8.0 oleh User 110887**\n",
        "\n",
        "1. **In the Heart of the Sea: The Tragedy of the Whaleship Essex** — Nat Philbrick (Penguin Books)\n",
        "2. **Driven** — W. G. Griffiths (Warner Faith)\n",
        "3. **About Three Bricks Shy of a Load** — Mel Blount (Ballantine Books)\n",
        "\n",
        "User ini memiliki preferensi terhadap buku bertema sejarah, petualangan nyata, dan olahraga atau motivasi — bisa jadi cenderung ke non-fiksi atau novel dengan latar yang kuat.\n",
        "\n",
        "**5 Rekomendasi Buku untuk User 110887**\n",
        "\n",
        "1. **Lonesome Dove** — Larry McMurtry (Pocket)\n",
        "2. **Free** — Paul Vincent (Upfront Publishing)\n",
        "3. **The Return of the King (The Lord of the Rings, Part 3)** — J.R.R. TOLKIEN (Del Rey)\n",
        "4. **Harry Potter and the Sorcerer's Stone (Book 1)** — J.K. Rowling (Scholastic)\n",
        "5. **My Sister's Keeper: A Novel** — Jodi Picoult (Atria)\n",
        "\n",
        "Rekomendasi model cenderung mengarah pada fiksi populer, termasuk fantasi dan drama keluarga. Ada perbedaan preferensi antara buku yang telah diberi rating tinggi (non-fiksi, petualangan nyata) dengan rekomendasi dari model (fiksi populer). Ini menunjukkan bahwa model kolaboratif kemungkinan besar mengandalkan kesamaan pola rating dengan user lain yang memiliki selera lebih umum.\n"
      ],
      "metadata": {
        "id": "KKqZRInCVgVi"
      },
      "id": "KKqZRInCVgVi"
    },
    {
      "cell_type": "markdown",
      "source": [
        "## Keterkaitan Hasil Evaluasi dengan Business Understanding\n",
        "\n",
        "### Apakah model menjawab setiap problem statement?\n",
        "\n",
        "Masalah 1: Bagaimana cara membantu pengguna menemukan buku yang sesuai dengan minat mereka?\n",
        "\n",
        "Terjawab. Sistem rekomendasi berhasil memberikan saran buku yang relevan berdasarkan preferensi pengguna melalui dua pendekatan utama: Content-Based Filtering dan Collaborative Filtering. Pada pendekatan Content-Based, kemiripan dihitung berdasarkan judul dan penulis buku. Sedangkan pada pendekatan Collaborative, model RecommenderNet dilatih untuk mengenali pola rating dan memberikan rekomendasi berdasarkan interaksi historis.\n",
        "\n",
        "Masalah 2: Bagaimana cara memberikan rekomendasi buku meskipun pengguna belum memberikan banyak rating?\n",
        "\n",
        "Terjawab. Pendekatan Content-Based Filtering dapat digunakan ketika data interaksi pengguna masih terbatas, karena hanya bergantung pada metadata buku. Hal ini memungkinkan sistem tetap memberikan rekomendasi berdasarkan kemiripan konten, tanpa harus menunggu banyak rating dari pengguna.\n",
        "\n",
        "### Apakah model berhasil mencapai goals?\n",
        "\n",
        "Tujuan 1: Membangun sistem rekomendasi yang menyarankan buku berdasarkan kemiripan konten (misalnya judul, penulis).\n",
        "\n",
        "Tercapai. Model TF-IDF dan cosine similarity berhasil mengidentifikasi kemiripan antar buku berdasarkan fitur teks, dan mengembalikan hasil rekomendasi yang relevan secara kontekstual dengan buku yang disukai pengguna.\n",
        "\n",
        "Tujuan 2: Melatih model yang belajar dari interaksi rating pengguna dan buku untuk memberikan rekomendasi yang dipersonalisasi.\n",
        "\n",
        "Tercapai. Model Collaborative Filtering dengan arsitektur RecommenderNet telah dilatih menggunakan embedding layer dan menunjukkan kemampuan prediksi terhadap rating pengguna. Evaluasi menggunakan metrik RMSE menunjukkan performa model yang dapat diterima.\n",
        "\n",
        "### Apakah solusi yang direncanakan berdampak?\n",
        "\n",
        "Solusi 1: Sistem dapat memberikan rekomendasi yang dipersonalisasi bahkan pada user baru, berkat integrasi dua pendekatan yang saling melengkapi.\n",
        "\n",
        "Solusi 2: Hasil evaluasi pada model collaborative menunjukkan model dapat mengenali pola rating dan memberikan rekomendasi yang sesuai minat pengguna, meskipun pada beberapa kasus cold-start tetap menjadi tantangan.\n",
        "\n",
        "### Kesimpulan\n",
        "\n",
        "Evaluasi menunjukkan bahwa sistem rekomendasi berbasis Content-Based dan Collaborative Filtering mampu menjawab pernyataan masalah, memenuhi tujuan bisnis, dan memberikan solusi yang berdampak nyata. Sistem ini layak diimplementasikan sebagai fitur personalisasi dalam platform e-commerce buku untuk meningkatkan pengalaman pengguna dan retensi jangka panjang."
      ],
      "metadata": {
        "id": "lEthnZBaXkh_"
      },
      "id": "lEthnZBaXkh_"
    }
  ],
  "metadata": {
    "kernelspec": {
      "display_name": "Python 3",
      "name": "python3"
    },
    "language_info": {
      "codemirror_mode": {
        "name": "ipython",
        "version": 2
      },
      "file_extension": ".py",
      "mimetype": "text/x-python",
      "name": "python",
      "nbconvert_exporter": "python",
      "pygments_lexer": "ipython2",
      "version": "2.7.6"
    },
    "colab": {
      "provenance": [],
      "include_colab_link": true
    }
  },
  "nbformat": 4,
  "nbformat_minor": 5
}